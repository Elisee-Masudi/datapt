{
 "cells": [
  {
   "cell_type": "code",
   "execution_count": 1,
   "metadata": {},
   "outputs": [],
   "source": [
    "# reinforcement z-test, t-test, anova"
   ]
  },
  {
   "cell_type": "code",
   "execution_count": 2,
   "metadata": {},
   "outputs": [],
   "source": [
    "%matplotlib inline\n",
    "\n",
    "import numpy as np\n",
    "import pandas as pd\n",
    "import scipy.stats as stats\n",
    "import matplotlib.pyplot as plt\n",
    "import math"
   ]
  },
  {
   "cell_type": "code",
   "execution_count": 11,
   "metadata": {},
   "outputs": [],
   "source": [
    "# ONE SAMPLE T TEST"
   ]
  },
  {
   "cell_type": "code",
   "execution_count": 4,
   "metadata": {},
   "outputs": [
    {
     "name": "stdout",
     "output_type": "stream",
     "text": [
      "43.000112\n",
      "39.26\n"
     ]
    }
   ],
   "source": [
    "np.random.seed(6)\n",
    "\n",
    "population_ages1 = stats.poisson.rvs(loc=18, mu=35, size=150000)\n",
    "population_ages2 = stats.poisson.rvs(loc=18, mu=10, size=100000)\n",
    "population_ages = np.concatenate((population_ages1, population_ages2))\n",
    "\n",
    "idf_ages1 = stats.poisson.rvs(loc=18, mu=30, size=30)\n",
    "idf_ages2 = stats.poisson.rvs(loc=18, mu=10, size=20)\n",
    "idf_ages = np.concatenate((idf_ages1, idf_ages2))\n",
    "\n",
    "print( population_ages.mean() )\n",
    "print( idf_ages.mean() )"
   ]
  },
  {
   "cell_type": "code",
   "execution_count": 5,
   "metadata": {},
   "outputs": [
    {
     "data": {
      "text/plain": [
       "Ttest_1sampResult(statistic=-2.5742714883655027, pvalue=0.013118685425061678)"
      ]
     },
     "execution_count": 5,
     "metadata": {},
     "output_type": "execute_result"
    }
   ],
   "source": [
    "stats.ttest_1samp(a= idf_ages,               # Sample data\n",
    "                 popmean= population_ages.mean())  # Pop mean"
   ]
  },
  {
   "cell_type": "code",
   "execution_count": 6,
   "metadata": {},
   "outputs": [
    {
     "data": {
      "text/plain": [
       "-2.0095752344892093"
      ]
     },
     "execution_count": 6,
     "metadata": {},
     "output_type": "execute_result"
    }
   ],
   "source": [
    "stats.t.ppf(q=0.025,  # Quantile to check\n",
    "            df=49)  # Degrees of freedom"
   ]
  },
  {
   "cell_type": "code",
   "execution_count": 7,
   "metadata": {},
   "outputs": [
    {
     "data": {
      "text/plain": [
       "2.009575234489209"
      ]
     },
     "execution_count": 7,
     "metadata": {},
     "output_type": "execute_result"
    }
   ],
   "source": [
    "stats.t.ppf(q=0.975,  # Quantile to check\n",
    "            df=49)  # Degrees of freedom"
   ]
  },
  {
   "cell_type": "code",
   "execution_count": 8,
   "metadata": {},
   "outputs": [
    {
     "data": {
      "text/plain": [
       "0.013121066545690117"
      ]
     },
     "execution_count": 8,
     "metadata": {},
     "output_type": "execute_result"
    }
   ],
   "source": [
    "stats.t.cdf(x= -2.5742,      # T-test statistic\n",
    "               df= 49) * 2   # Mupltiply by two for two tailed test*"
   ]
  },
  {
   "cell_type": "code",
   "execution_count": 9,
   "metadata": {},
   "outputs": [
    {
     "data": {
      "text/plain": [
       "(36.369669080722176, 42.15033091927782)"
      ]
     },
     "execution_count": 9,
     "metadata": {},
     "output_type": "execute_result"
    }
   ],
   "source": [
    "sigma = idf_ages.std()/math.sqrt(50)  # Sample stdev/sample size\n",
    "\n",
    "stats.t.interval(0.95,                        # Confidence level\n",
    "                 df = 49,                     # Degrees of freedom\n",
    "                 loc = idf_ages.mean(), # Sample mean\n",
    "                 scale= sigma)                # Standard dev estimate"
   ]
  },
  {
   "cell_type": "code",
   "execution_count": 10,
   "metadata": {},
   "outputs": [
    {
     "data": {
      "text/plain": [
       "(35.40547994092107, 43.11452005907893)"
      ]
     },
     "execution_count": 10,
     "metadata": {},
     "output_type": "execute_result"
    }
   ],
   "source": [
    "stats.t.interval(alpha = 0.99,                # Confidence level\n",
    "                 df = 49,                     # Degrees of freedom\n",
    "                 loc = idf_ages.mean(), # Sample mean\n",
    "                 scale= sigma)                # Standard dev estimate"
   ]
  },
  {
   "cell_type": "code",
   "execution_count": 12,
   "metadata": {},
   "outputs": [],
   "source": [
    "# TWO SAMPLE T TEST"
   ]
  },
  {
   "cell_type": "code",
   "execution_count": 13,
   "metadata": {},
   "outputs": [
    {
     "name": "stdout",
     "output_type": "stream",
     "text": [
      "42.8\n"
     ]
    }
   ],
   "source": [
    "np.random.seed(12)\n",
    "paca_ages1 = stats.poisson.rvs(loc=18, mu=33, size=30)\n",
    "paca_ages2 = stats.poisson.rvs(loc=18, mu=13, size=20)\n",
    "paca_ages = np.concatenate((paca_ages1, paca_ages2))\n",
    "\n",
    "print( paca_ages.mean() )"
   ]
  },
  {
   "cell_type": "code",
   "execution_count": 14,
   "metadata": {},
   "outputs": [
    {
     "data": {
      "text/plain": [
       "Ttest_indResult(statistic=-1.7083870793286842, pvalue=0.09073104343957748)"
      ]
     },
     "execution_count": 14,
     "metadata": {},
     "output_type": "execute_result"
    }
   ],
   "source": [
    "stats.ttest_ind(a= idf_ages,\n",
    "                b= paca_ages,\n",
    "                equal_var=False)    # Assume samples have equal variance?"
   ]
  },
  {
   "cell_type": "code",
   "execution_count": 15,
   "metadata": {},
   "outputs": [],
   "source": [
    "# PAIRED T TEST"
   ]
  },
  {
   "cell_type": "code",
   "execution_count": 16,
   "metadata": {},
   "outputs": [
    {
     "data": {
      "text/html": [
       "<div>\n",
       "<style scoped>\n",
       "    .dataframe tbody tr th:only-of-type {\n",
       "        vertical-align: middle;\n",
       "    }\n",
       "\n",
       "    .dataframe tbody tr th {\n",
       "        vertical-align: top;\n",
       "    }\n",
       "\n",
       "    .dataframe thead th {\n",
       "        text-align: right;\n",
       "    }\n",
       "</style>\n",
       "<table border=\"1\" class=\"dataframe\">\n",
       "  <thead>\n",
       "    <tr style=\"text-align: right;\">\n",
       "      <th></th>\n",
       "      <th>weight_before</th>\n",
       "      <th>weight_after</th>\n",
       "      <th>weight_change</th>\n",
       "    </tr>\n",
       "  </thead>\n",
       "  <tbody>\n",
       "    <tr>\n",
       "      <th>count</th>\n",
       "      <td>100.000000</td>\n",
       "      <td>100.000000</td>\n",
       "      <td>100.000000</td>\n",
       "    </tr>\n",
       "    <tr>\n",
       "      <th>mean</th>\n",
       "      <td>250.345546</td>\n",
       "      <td>249.115171</td>\n",
       "      <td>-1.230375</td>\n",
       "    </tr>\n",
       "    <tr>\n",
       "      <th>std</th>\n",
       "      <td>28.132539</td>\n",
       "      <td>28.422183</td>\n",
       "      <td>4.783696</td>\n",
       "    </tr>\n",
       "    <tr>\n",
       "      <th>min</th>\n",
       "      <td>170.400443</td>\n",
       "      <td>165.913930</td>\n",
       "      <td>-11.495286</td>\n",
       "    </tr>\n",
       "    <tr>\n",
       "      <th>25%</th>\n",
       "      <td>230.421042</td>\n",
       "      <td>229.148236</td>\n",
       "      <td>-4.046211</td>\n",
       "    </tr>\n",
       "    <tr>\n",
       "      <th>50%</th>\n",
       "      <td>250.830805</td>\n",
       "      <td>251.134089</td>\n",
       "      <td>-1.413463</td>\n",
       "    </tr>\n",
       "    <tr>\n",
       "      <th>75%</th>\n",
       "      <td>270.637145</td>\n",
       "      <td>268.927258</td>\n",
       "      <td>1.738673</td>\n",
       "    </tr>\n",
       "    <tr>\n",
       "      <th>max</th>\n",
       "      <td>314.700233</td>\n",
       "      <td>316.720357</td>\n",
       "      <td>9.759282</td>\n",
       "    </tr>\n",
       "  </tbody>\n",
       "</table>\n",
       "</div>"
      ],
      "text/plain": [
       "       weight_before  weight_after  weight_change\n",
       "count     100.000000    100.000000     100.000000\n",
       "mean      250.345546    249.115171      -1.230375\n",
       "std        28.132539     28.422183       4.783696\n",
       "min       170.400443    165.913930     -11.495286\n",
       "25%       230.421042    229.148236      -4.046211\n",
       "50%       250.830805    251.134089      -1.413463\n",
       "75%       270.637145    268.927258       1.738673\n",
       "max       314.700233    316.720357       9.759282"
      ]
     },
     "execution_count": 16,
     "metadata": {},
     "output_type": "execute_result"
    }
   ],
   "source": [
    "np.random.seed(11)\n",
    "\n",
    "before= stats.norm.rvs(scale=30, loc=250, size=100)\n",
    "\n",
    "after = before + stats.norm.rvs(scale=5, loc=-1.25, size=100)\n",
    "\n",
    "weight_df = pd.DataFrame({\"weight_before\":before,\n",
    "                          \"weight_after\":after,\n",
    "                          \"weight_change\":after-before})\n",
    "\n",
    "weight_df.describe()             # Check a summary of the data"
   ]
  },
  {
   "cell_type": "code",
   "execution_count": 17,
   "metadata": {},
   "outputs": [
    {
     "data": {
      "text/plain": [
       "Ttest_relResult(statistic=2.5720175998568284, pvalue=0.011596444318439857)"
      ]
     },
     "execution_count": 17,
     "metadata": {},
     "output_type": "execute_result"
    }
   ],
   "source": [
    "stats.ttest_rel(a= weight_df.weight_before,\n",
    "                b= weight_df.weight_after)"
   ]
  },
  {
   "cell_type": "code",
   "execution_count": 18,
   "metadata": {},
   "outputs": [],
   "source": [
    "# ANOVA"
   ]
  },
  {
   "cell_type": "code",
   "execution_count": 23,
   "metadata": {},
   "outputs": [
    {
     "data": {
      "text/plain": [
       "F_onewayResult(statistic=1.4407265239799805, pvalue=0.19583793303843983)"
      ]
     },
     "execution_count": 23,
     "metadata": {},
     "output_type": "execute_result"
    }
   ],
   "source": [
    "np.random.seed(12)\n",
    "\n",
    "groups =   [\"g1\",\"g2\",\"g3\",\"g4\",\"g5\", \"g6\", \"g7\"]\n",
    "\n",
    "# Generate random data\n",
    "voter_group = np.random.choice(a= groups,\n",
    "                              p = [0.05, 0.15 ,0.25, 0.05, 0.25, 0.125, 0.125],\n",
    "                              size=1000)\n",
    "\n",
    "voter_age = stats.poisson.rvs(loc=18,\n",
    "                              mu=30,\n",
    "                              size=1000)\n",
    "\n",
    "# Group age data by group\n",
    "voter_frame = pd.DataFrame({\"group\":voter_group,\"age\":voter_age})\n",
    "gps = voter_frame.groupby(\"group\").groups\n",
    "\n",
    "# Etract individual groups\n",
    "g1 = voter_age[gps[\"g1\"]]\n",
    "g2 = voter_age[gps[\"g2\"]]\n",
    "g3 = voter_age[gps[\"g3\"]]\n",
    "g4 = voter_age[gps[\"g4\"]]\n",
    "g5 = voter_age[gps[\"g5\"]]\n",
    "g6 = voter_age[gps[\"g6\"]]\n",
    "g7 = voter_age[gps[\"g7\"]]\n",
    "\n",
    "# Perform the ANOVA\n",
    "stats.f_oneway(g1, g2, g3, g4, g5, g6, g7)"
   ]
  },
  {
   "cell_type": "code",
   "execution_count": 25,
   "metadata": {},
   "outputs": [
    {
     "name": "stdout",
     "output_type": "stream",
     "text": [
      "g1 g2\n",
      "Ttest_indResult(statistic=1.4723166654510063, pvalue=0.14259864916065687)\n",
      "g1 g3\n",
      "Ttest_indResult(statistic=0.7952576949464497, pvalue=0.42712310624411387)\n",
      "g1 g4\n",
      "Ttest_indResult(statistic=0.023943564194904926, pvalue=0.9809494819541007)\n",
      "g1 g5\n",
      "Ttest_indResult(statistic=1.860203655851984, pvalue=0.06385858384096696)\n",
      "g1 g6\n",
      "Ttest_indResult(statistic=1.9500917862114706, pvalue=0.05285990753724046)\n",
      "g1 g7\n",
      "Ttest_indResult(statistic=1.0436500096419603, pvalue=0.29802403848297954)\n",
      "g2 g3\n",
      "Ttest_indResult(statistic=-0.9779887872139286, pvalue=0.328687679434698)\n",
      "g2 g4\n",
      "Ttest_indResult(statistic=-1.537940275215305, pvalue=0.12568427083007871)\n",
      "g2 g5\n",
      "Ttest_indResult(statistic=0.33279404799700385, pvalue=0.7394658589884084)\n",
      "g2 g6\n",
      "Ttest_indResult(statistic=0.6630318128974703, pvalue=0.5078800399468361)\n",
      "g2 g7\n",
      "Ttest_indResult(statistic=-0.5844883518531755, pvalue=0.5593525681627008)\n",
      "g3 g4\n",
      "Ttest_indResult(statistic=-0.8181367221979297, pvalue=0.41394624196541574)\n",
      "g3 g5\n",
      "Ttest_indResult(statistic=1.5448191061118461, pvalue=0.12303166319152356)\n",
      "g3 g6\n",
      "Ttest_indResult(statistic=1.5992285294955366, pvalue=0.11063505178323176)\n",
      "g3 g7\n",
      "Ttest_indResult(statistic=0.35201138787617064, pvalue=0.7250233225252923)\n",
      "g4 g5\n",
      "Ttest_indResult(statistic=1.947691034859587, pvalue=0.05238766108845243)\n",
      "g4 g6\n",
      "Ttest_indResult(statistic=2.046554687785251, pvalue=0.04223261313553163)\n",
      "g4 g7\n",
      "Ttest_indResult(statistic=1.0819602167474214, pvalue=0.28064872884390396)\n"
     ]
    }
   ],
   "source": [
    "# Get all gorup pairs\n",
    "group_pairs = []\n",
    "\n",
    "for gp1 in range(4):\n",
    "    for gp2  in range(gp1+1,7):\n",
    "        group_pairs.append((groups[gp1], groups[gp2]))\n",
    "\n",
    "# Conduct t-test on each pair\n",
    "for gp1, gp2 in group_pairs: \n",
    "    print(gp1, gp2)\n",
    "    print(stats.ttest_ind(voter_age[gps[gp1]], \n",
    "                          voter_age[gps[gp2]]))"
   ]
  },
  {
   "cell_type": "code",
   "execution_count": 2,
   "metadata": {},
   "outputs": [],
   "source": [
    "# CHI SQUARED"
   ]
  },
  {
   "cell_type": "code",
   "execution_count": 3,
   "metadata": {},
   "outputs": [],
   "source": [
    "import numpy as np\n",
    "import pandas as pd\n",
    "import scipy.stats as stats"
   ]
  },
  {
   "cell_type": "code",
   "execution_count": 42,
   "metadata": {},
   "outputs": [],
   "source": [
    "# Test du Chi2\n",
    "# Goodness of fit : H0 : pas de différence entre les deux distributions observed vs expected / H1 : différence\n",
    "# Independance : H0 : il y a indépendance entre les deux variables catégorielles / H1: pas d'indépendance\n",
    "# Chi2-stat = (observed - expected)**2 / expected\n",
    "# Chi2-stat suit une loi de distribution du Chi2 à df degrés de libertés\n",
    "# Cas de goodness of fit, on a une série de N valeurs : df = N-1\n",
    "# Cas du test d'indépendance, df = (#lignes - 1) * (#colonnes - 1)\n",
    "# p-value = Prob(X >= Chi2-stat | Chi2(df))\n",
    "# Si p-value >= alpha (0.05, 0.01), on ne peut rejeter H0\n",
    "# Sinon, on rejette H0"
   ]
  },
  {
   "cell_type": "code",
   "execution_count": 4,
   "metadata": {},
   "outputs": [
    {
     "name": "stdout",
     "output_type": "stream",
     "text": [
      "National\n",
      "col_0   count\n",
      "0            \n",
      "g1     100000\n",
      "g2      60000\n",
      "g3      50000\n",
      "g4      15000\n",
      "g5      35000\n",
      " \n",
      "Ile de France\n",
      "col_0  count\n",
      "0           \n",
      "g1       600\n",
      "g2       300\n",
      "g3       250\n",
      "g4        75\n",
      "g5       150\n"
     ]
    }
   ],
   "source": [
    "national = pd.DataFrame([\"g1\"]*100000 + [\"g2\"]*60000 +\\\n",
    "                        [\"g3\"]*50000 + [\"g4\"]*15000 + [\"g5\"]*35000)\n",
    "           \n",
    "\n",
    "idf = pd.DataFrame([\"g1\"]*600 + [\"g2\"]*300 + \\\n",
    "                         [\"g3\"]*250 +[\"g4\"]*75 + [\"g5\"]*150)\n",
    "\n",
    "national_table = pd.crosstab(index=national[0], columns=\"count\")\n",
    "idf_table = pd.crosstab(index=idf[0], columns=\"count\")\n",
    "\n",
    "print( \"National\")\n",
    "print(national_table)\n",
    "print(\" \")\n",
    "print( \"Ile de France\")\n",
    "print(idf_table)"
   ]
  },
  {
   "cell_type": "code",
   "execution_count": 50,
   "metadata": {},
   "outputs": [
    {
     "data": {
      "text/html": [
       "<div>\n",
       "<style scoped>\n",
       "    .dataframe tbody tr th:only-of-type {\n",
       "        vertical-align: middle;\n",
       "    }\n",
       "\n",
       "    .dataframe tbody tr th {\n",
       "        vertical-align: top;\n",
       "    }\n",
       "\n",
       "    .dataframe thead th {\n",
       "        text-align: right;\n",
       "    }\n",
       "</style>\n",
       "<table border=\"1\" class=\"dataframe\">\n",
       "  <thead>\n",
       "    <tr style=\"text-align: right;\">\n",
       "      <th>col_0</th>\n",
       "      <th>count</th>\n",
       "    </tr>\n",
       "    <tr>\n",
       "      <th>0</th>\n",
       "      <th></th>\n",
       "    </tr>\n",
       "  </thead>\n",
       "  <tbody>\n",
       "    <tr>\n",
       "      <th>g1</th>\n",
       "      <td>600</td>\n",
       "    </tr>\n",
       "    <tr>\n",
       "      <th>g2</th>\n",
       "      <td>300</td>\n",
       "    </tr>\n",
       "    <tr>\n",
       "      <th>g3</th>\n",
       "      <td>250</td>\n",
       "    </tr>\n",
       "    <tr>\n",
       "      <th>g4</th>\n",
       "      <td>75</td>\n",
       "    </tr>\n",
       "    <tr>\n",
       "      <th>g5</th>\n",
       "      <td>150</td>\n",
       "    </tr>\n",
       "  </tbody>\n",
       "</table>\n",
       "</div>"
      ],
      "text/plain": [
       "col_0  count\n",
       "0           \n",
       "g1       600\n",
       "g2       300\n",
       "g3       250\n",
       "g4        75\n",
       "g5       150"
      ]
     },
     "execution_count": 50,
     "metadata": {},
     "output_type": "execute_result"
    }
   ],
   "source": [
    "idf_table"
   ]
  },
  {
   "cell_type": "code",
   "execution_count": 44,
   "metadata": {},
   "outputs": [
    {
     "data": {
      "text/plain": [
       "0.38461538461538464"
      ]
     },
     "execution_count": 44,
     "metadata": {},
     "output_type": "execute_result"
    }
   ],
   "source": [
    "prop_g1 = 100/(100 + 60 + 50 + 15 + 35)\n",
    "prop_g1"
   ]
  },
  {
   "cell_type": "code",
   "execution_count": 46,
   "metadata": {},
   "outputs": [
    {
     "data": {
      "text/plain": [
       "528.8461538461539"
      ]
     },
     "execution_count": 46,
     "metadata": {},
     "output_type": "execute_result"
    }
   ],
   "source": [
    "expected_g1 = prop_g1 * (600 + 300 + 250 + 75 + 150)\n",
    "expected_g1"
   ]
  },
  {
   "cell_type": "code",
   "execution_count": 47,
   "metadata": {},
   "outputs": [
    {
     "data": {
      "text/plain": [
       "9.818181818181818"
      ]
     },
     "execution_count": 47,
     "metadata": {},
     "output_type": "execute_result"
    }
   ],
   "source": [
    "(600 - 528)**2/528"
   ]
  },
  {
   "cell_type": "code",
   "execution_count": 5,
   "metadata": {},
   "outputs": [
    {
     "name": "stdout",
     "output_type": "stream",
     "text": [
      "col_0\n",
      "count    18.194805\n",
      "dtype: float64\n"
     ]
    }
   ],
   "source": [
    "observed = idf_table\n",
    "\n",
    "national_ratios = national_table/len(national)  # Get population ratios\n",
    "\n",
    "expected = national_ratios * len(idf)   # Get expected counts\n",
    "\n",
    "chi_squared_stat = (((observed-expected)**2)/expected).sum()\n",
    "\n",
    "print(chi_squared_stat)"
   ]
  },
  {
   "cell_type": "code",
   "execution_count": 6,
   "metadata": {},
   "outputs": [
    {
     "name": "stdout",
     "output_type": "stream",
     "text": [
      "Critical value\n",
      "9.487729036781154\n",
      "P value\n",
      "[0.00113047]\n"
     ]
    }
   ],
   "source": [
    "crit = stats.chi2.ppf(q = 0.95, # Find the critical value for 95% confidence*\n",
    "                      df = 4)   # Df = number of variable categories - 1\n",
    "\n",
    "print(\"Critical value\")\n",
    "print(crit)\n",
    "\n",
    "p_value = 1 - stats.chi2.cdf(x=chi_squared_stat,  # Find the p-value\n",
    "                             df=4)\n",
    "print(\"P value\")\n",
    "print(p_value)"
   ]
  },
  {
   "cell_type": "code",
   "execution_count": 7,
   "metadata": {},
   "outputs": [
    {
     "data": {
      "text/plain": [
       "Power_divergenceResult(statistic=array([18.19480519]), pvalue=array([0.00113047]))"
      ]
     },
     "execution_count": 7,
     "metadata": {},
     "output_type": "execute_result"
    }
   ],
   "source": [
    "stats.chisquare(f_obs= observed,   # Array of observed counts\n",
    "                f_exp= expected)   # Array of expected counts"
   ]
  },
  {
   "cell_type": "code",
   "execution_count": 8,
   "metadata": {},
   "outputs": [],
   "source": [
    "# Test of independance"
   ]
  },
  {
   "cell_type": "code",
   "execution_count": 9,
   "metadata": {},
   "outputs": [
    {
     "data": {
      "text/html": [
       "<div>\n",
       "<style scoped>\n",
       "    .dataframe tbody tr th:only-of-type {\n",
       "        vertical-align: middle;\n",
       "    }\n",
       "\n",
       "    .dataframe tbody tr th {\n",
       "        vertical-align: top;\n",
       "    }\n",
       "\n",
       "    .dataframe thead th {\n",
       "        text-align: right;\n",
       "    }\n",
       "</style>\n",
       "<table border=\"1\" class=\"dataframe\">\n",
       "  <thead>\n",
       "    <tr style=\"text-align: right;\">\n",
       "      <th></th>\n",
       "      <th>democrat</th>\n",
       "      <th>independent</th>\n",
       "      <th>republican</th>\n",
       "      <th>row_totals</th>\n",
       "    </tr>\n",
       "  </thead>\n",
       "  <tbody>\n",
       "    <tr>\n",
       "      <th>g1</th>\n",
       "      <td>21</td>\n",
       "      <td>7</td>\n",
       "      <td>32</td>\n",
       "      <td>60</td>\n",
       "    </tr>\n",
       "    <tr>\n",
       "      <th>g2</th>\n",
       "      <td>65</td>\n",
       "      <td>25</td>\n",
       "      <td>64</td>\n",
       "      <td>154</td>\n",
       "    </tr>\n",
       "    <tr>\n",
       "      <th>g3</th>\n",
       "      <td>107</td>\n",
       "      <td>50</td>\n",
       "      <td>94</td>\n",
       "      <td>251</td>\n",
       "    </tr>\n",
       "    <tr>\n",
       "      <th>g4</th>\n",
       "      <td>15</td>\n",
       "      <td>8</td>\n",
       "      <td>15</td>\n",
       "      <td>38</td>\n",
       "    </tr>\n",
       "    <tr>\n",
       "      <th>g5</th>\n",
       "      <td>189</td>\n",
       "      <td>96</td>\n",
       "      <td>212</td>\n",
       "      <td>497</td>\n",
       "    </tr>\n",
       "    <tr>\n",
       "      <th>col_totals</th>\n",
       "      <td>397</td>\n",
       "      <td>186</td>\n",
       "      <td>417</td>\n",
       "      <td>1000</td>\n",
       "    </tr>\n",
       "  </tbody>\n",
       "</table>\n",
       "</div>"
      ],
      "text/plain": [
       "            democrat  independent  republican  row_totals\n",
       "g1                21            7          32          60\n",
       "g2                65           25          64         154\n",
       "g3               107           50          94         251\n",
       "g4                15            8          15          38\n",
       "g5               189           96         212         497\n",
       "col_totals       397          186         417        1000"
      ]
     },
     "execution_count": 9,
     "metadata": {},
     "output_type": "execute_result"
    }
   ],
   "source": [
    "np.random.seed(10)\n",
    "\n",
    "# Sample data randomly at fixed probabilities\n",
    "voter_group = np.random.choice(a= [\"g1\",\"g2\",\"g3\",\"g4\",\"g5\"],\n",
    "                              p = [0.05, 0.15 ,0.25, 0.05, 0.5],\n",
    "                              size=1000)\n",
    "\n",
    "# Sample data randomly at fixed probabilities\n",
    "voter_party = np.random.choice(a= [\"democrat\",\"independent\",\"republican\"],\n",
    "                              p = [0.4, 0.2, 0.4],\n",
    "                              size=1000)\n",
    "\n",
    "voters = pd.DataFrame({\"group\":voter_group, \n",
    "                       \"party\":voter_party})\n",
    "\n",
    "voter_tab = pd.crosstab(voters.group, voters.party, margins = True)\n",
    "\n",
    "voter_tab.columns = [\"democrat\",\"independent\",\"republican\",\"row_totals\"]\n",
    "\n",
    "voter_tab.index = [\"g1\",\"g2\",\"g3\",\"g4\",\"g5\",\"col_totals\"]\n",
    "\n",
    "observed = voter_tab.iloc[0:5,0:3]   # Get table without totals for later use\n",
    "voter_tab"
   ]
  },
  {
   "cell_type": "code",
   "execution_count": 11,
   "metadata": {},
   "outputs": [
    {
     "data": {
      "text/html": [
       "<div>\n",
       "<style scoped>\n",
       "    .dataframe tbody tr th:only-of-type {\n",
       "        vertical-align: middle;\n",
       "    }\n",
       "\n",
       "    .dataframe tbody tr th {\n",
       "        vertical-align: top;\n",
       "    }\n",
       "\n",
       "    .dataframe thead th {\n",
       "        text-align: right;\n",
       "    }\n",
       "</style>\n",
       "<table border=\"1\" class=\"dataframe\">\n",
       "  <thead>\n",
       "    <tr style=\"text-align: right;\">\n",
       "      <th></th>\n",
       "      <th>democrat</th>\n",
       "      <th>independent</th>\n",
       "      <th>republican</th>\n",
       "    </tr>\n",
       "  </thead>\n",
       "  <tbody>\n",
       "    <tr>\n",
       "      <th>g1</th>\n",
       "      <td>23.820</td>\n",
       "      <td>11.160</td>\n",
       "      <td>25.020</td>\n",
       "    </tr>\n",
       "    <tr>\n",
       "      <th>g2</th>\n",
       "      <td>61.138</td>\n",
       "      <td>28.644</td>\n",
       "      <td>64.218</td>\n",
       "    </tr>\n",
       "    <tr>\n",
       "      <th>g3</th>\n",
       "      <td>99.647</td>\n",
       "      <td>46.686</td>\n",
       "      <td>104.667</td>\n",
       "    </tr>\n",
       "    <tr>\n",
       "      <th>g4</th>\n",
       "      <td>15.086</td>\n",
       "      <td>7.068</td>\n",
       "      <td>15.846</td>\n",
       "    </tr>\n",
       "    <tr>\n",
       "      <th>g5</th>\n",
       "      <td>197.309</td>\n",
       "      <td>92.442</td>\n",
       "      <td>207.249</td>\n",
       "    </tr>\n",
       "  </tbody>\n",
       "</table>\n",
       "</div>"
      ],
      "text/plain": [
       "    democrat  independent  republican\n",
       "g1    23.820       11.160      25.020\n",
       "g2    61.138       28.644      64.218\n",
       "g3    99.647       46.686     104.667\n",
       "g4    15.086        7.068      15.846\n",
       "g5   197.309       92.442     207.249"
      ]
     },
     "execution_count": 11,
     "metadata": {},
     "output_type": "execute_result"
    }
   ],
   "source": [
    "expected =  np.outer(voter_tab[\"row_totals\"][0:5],\n",
    "                     voter_tab.loc[\"col_totals\"][0:3]) / 1000\n",
    "\n",
    "expected = pd.DataFrame(expected)\n",
    "\n",
    "expected.columns = [\"democrat\",\"independent\",\"republican\"]\n",
    "expected.index = [\"g1\",\"g2\",\"g3\",\"g4\",\"g5\"]\n",
    "\n",
    "expected"
   ]
  },
  {
   "cell_type": "code",
   "execution_count": 12,
   "metadata": {},
   "outputs": [
    {
     "name": "stdout",
     "output_type": "stream",
     "text": [
      "7.169321280162059\n"
     ]
    }
   ],
   "source": [
    "chi_squared_stat = (((observed-expected)**2)/expected).sum().sum()\n",
    "\n",
    "print(chi_squared_stat)"
   ]
  },
  {
   "cell_type": "code",
   "execution_count": 13,
   "metadata": {},
   "outputs": [
    {
     "name": "stdout",
     "output_type": "stream",
     "text": [
      "Critical value\n",
      "15.50731305586545\n",
      "P value\n",
      "0.518479392948842\n"
     ]
    }
   ],
   "source": [
    "crit = stats.chi2.ppf(q = 0.95, # Find the critical value for 95% confidence*\n",
    "                      df = 8)   # *\n",
    "\n",
    "print(\"Critical value\")\n",
    "print(crit)\n",
    "\n",
    "p_value = 1 - stats.chi2.cdf(x=chi_squared_stat,  # Find the p-value\n",
    "                             df=8)\n",
    "print(\"P value\")\n",
    "print(p_value)"
   ]
  },
  {
   "cell_type": "code",
   "execution_count": 14,
   "metadata": {},
   "outputs": [
    {
     "data": {
      "text/plain": [
       "(7.169321280162059,\n",
       " 0.518479392948842,\n",
       " 8,\n",
       " array([[ 23.82 ,  11.16 ,  25.02 ],\n",
       "        [ 61.138,  28.644,  64.218],\n",
       "        [ 99.647,  46.686, 104.667],\n",
       "        [ 15.086,   7.068,  15.846],\n",
       "        [197.309,  92.442, 207.249]]))"
      ]
     },
     "execution_count": 14,
     "metadata": {},
     "output_type": "execute_result"
    }
   ],
   "source": [
    "stats.chi2_contingency(observed= observed)"
   ]
  },
  {
   "cell_type": "code",
   "execution_count": 15,
   "metadata": {},
   "outputs": [],
   "source": [
    "# CRAMER'S V"
   ]
  },
  {
   "cell_type": "code",
   "execution_count": 30,
   "metadata": {},
   "outputs": [],
   "source": [
    "import scipy.stats as ss"
   ]
  },
  {
   "cell_type": "code",
   "execution_count": 38,
   "metadata": {},
   "outputs": [],
   "source": [
    "from scipy.stats import chi2_contingency"
   ]
  },
  {
   "cell_type": "code",
   "execution_count": 39,
   "metadata": {},
   "outputs": [],
   "source": [
    "def cramers_V(var1,var2) :\n",
    "    crosstab =np.array(pd.crosstab(var1,var2, rownames=None, colnames=None)) # Cross table building\n",
    "    stat = chi2_contingency(crosstab)[0] # Keeping of the test statistic of the Chi2 test\n",
    "    obs = np.sum(crosstab) # Number of observations\n",
    "    mini = min(crosstab.shape)-1 # Take the minimum value between the columns and the rows of the cross table\n",
    "    return (stat/(obs*mini))"
   ]
  },
  {
   "cell_type": "code",
   "execution_count": 25,
   "metadata": {},
   "outputs": [],
   "source": [
    "df = pd.read_csv(\"jvc.csv\")"
   ]
  },
  {
   "cell_type": "code",
   "execution_count": 26,
   "metadata": {},
   "outputs": [
    {
     "data": {
      "text/html": [
       "<div>\n",
       "<style scoped>\n",
       "    .dataframe tbody tr th:only-of-type {\n",
       "        vertical-align: middle;\n",
       "    }\n",
       "\n",
       "    .dataframe tbody tr th {\n",
       "        vertical-align: top;\n",
       "    }\n",
       "\n",
       "    .dataframe thead th {\n",
       "        text-align: right;\n",
       "    }\n",
       "</style>\n",
       "<table border=\"1\" class=\"dataframe\">\n",
       "  <thead>\n",
       "    <tr style=\"text-align: right;\">\n",
       "      <th></th>\n",
       "      <th>Unnamed: 0</th>\n",
       "      <th>game_fr</th>\n",
       "      <th>game_en</th>\n",
       "      <th>platform</th>\n",
       "      <th>website_rating</th>\n",
       "      <th>public_rating</th>\n",
       "      <th>publishor/developer</th>\n",
       "      <th>release</th>\n",
       "      <th>type</th>\n",
       "      <th>classification</th>\n",
       "      <th>url</th>\n",
       "      <th>description</th>\n",
       "    </tr>\n",
       "  </thead>\n",
       "  <tbody>\n",
       "    <tr>\n",
       "      <th>0</th>\n",
       "      <td>1</td>\n",
       "      <td>.hack//G.U. Last Recode</td>\n",
       "      <td>.hack//G.U. Last Recode</td>\n",
       "      <td>PS4</td>\n",
       "      <td>14/20</td>\n",
       "      <td>--/20</td>\n",
       "      <td>Bandai Namco Entertainment</td>\n",
       "      <td>03 Novembre 2017</td>\n",
       "      <td>RPG</td>\n",
       "      <td>+12 ans</td>\n",
       "      <td>http://www.jeuxvideo.com/jeux/ps4/jeu-674262/</td>\n",
       "      <td>Au contraire d’autres titres, None ,''.hack'' ...</td>\n",
       "    </tr>\n",
       "    <tr>\n",
       "      <th>1</th>\n",
       "      <td>2</td>\n",
       "      <td>.hack//G.U. Vol.1//Rebirth</td>\n",
       "      <td>.hack//G.U. Vol. 1//Rebirth</td>\n",
       "      <td>PS2</td>\n",
       "      <td>15/20</td>\n",
       "      <td>18.2/20</td>\n",
       "      <td>Bandai Namco CyberConnect2</td>\n",
       "      <td>Date de sortie inconnue</td>\n",
       "      <td>RPG</td>\n",
       "      <td>+7 ans</td>\n",
       "      <td>http://www.jeuxvideo.com/jeux/playstation-2-ps...</td>\n",
       "      <td>Avec plus de 20 œuvres de fiction sur de mult...</td>\n",
       "    </tr>\n",
       "    <tr>\n",
       "      <th>2</th>\n",
       "      <td>3</td>\n",
       "      <td>.hack//Infection Part 1</td>\n",
       "      <td>.hack//Infection: Part 1</td>\n",
       "      <td>PS2</td>\n",
       "      <td>15/20</td>\n",
       "      <td>15.1/20</td>\n",
       "      <td>CyberConnect2 Bandai</td>\n",
       "      <td>26 Mars 2004</td>\n",
       "      <td>RPG</td>\n",
       "      <td>+12 ans</td>\n",
       "      <td>http://www.jeuxvideo.com/jeux/playstation-2-ps...</td>\n",
       "      <td>S'appuyant sur la maxime « Mieux vaut tard qu...</td>\n",
       "    </tr>\n",
       "    <tr>\n",
       "      <th>3</th>\n",
       "      <td>4</td>\n",
       "      <td>.hack//Mutation Part 2</td>\n",
       "      <td>.hack//Mutation: Part 2</td>\n",
       "      <td>PS2</td>\n",
       "      <td>14/20</td>\n",
       "      <td>16.4/20</td>\n",
       "      <td>Bandai CyberConnect2</td>\n",
       "      <td>18 Juin 2004</td>\n",
       "      <td>RPG</td>\n",
       "      <td>+12 ans</td>\n",
       "      <td>http://www.jeuxvideo.com/jeux/playstation-2-ps...</td>\n",
       "      <td>Voici enfin le second volet de la quadrilogie...</td>\n",
       "    </tr>\n",
       "    <tr>\n",
       "      <th>4</th>\n",
       "      <td>5</td>\n",
       "      <td>.hack//Outbreak Part 3</td>\n",
       "      <td>.hack//Outbreak: Part 3</td>\n",
       "      <td>PS2</td>\n",
       "      <td>13/20</td>\n",
       "      <td>15.3/20</td>\n",
       "      <td>CyberConnect2 Atari</td>\n",
       "      <td>17 Septembre 2004</td>\n",
       "      <td>RPG</td>\n",
       "      <td>+12 ans</td>\n",
       "      <td>http://www.jeuxvideo.com/jeux/playstation-2-ps...</td>\n",
       "      <td>Comme la maxime «Jamais deux sans trois» ne c...</td>\n",
       "    </tr>\n",
       "  </tbody>\n",
       "</table>\n",
       "</div>"
      ],
      "text/plain": [
       "   Unnamed: 0                     game_fr                      game_en  \\\n",
       "0           1     .hack//G.U. Last Recode      .hack//G.U. Last Recode   \n",
       "1           2  .hack//G.U. Vol.1//Rebirth  .hack//G.U. Vol. 1//Rebirth   \n",
       "2           3     .hack//Infection Part 1     .hack//Infection: Part 1   \n",
       "3           4      .hack//Mutation Part 2      .hack//Mutation: Part 2   \n",
       "4           5      .hack//Outbreak Part 3      .hack//Outbreak: Part 3   \n",
       "\n",
       "  platform website_rating public_rating         publishor/developer  \\\n",
       "0      PS4          14/20         --/20  Bandai Namco Entertainment   \n",
       "1      PS2          15/20       18.2/20  Bandai Namco CyberConnect2   \n",
       "2      PS2          15/20       15.1/20        CyberConnect2 Bandai   \n",
       "3      PS2          14/20       16.4/20        Bandai CyberConnect2   \n",
       "4      PS2          13/20       15.3/20         CyberConnect2 Atari   \n",
       "\n",
       "                   release type classification  \\\n",
       "0         03 Novembre 2017  RPG        +12 ans   \n",
       "1  Date de sortie inconnue  RPG         +7 ans   \n",
       "2             26 Mars 2004  RPG        +12 ans   \n",
       "3             18 Juin 2004  RPG        +12 ans   \n",
       "4        17 Septembre 2004  RPG        +12 ans   \n",
       "\n",
       "                                                 url  \\\n",
       "0      http://www.jeuxvideo.com/jeux/ps4/jeu-674262/   \n",
       "1  http://www.jeuxvideo.com/jeux/playstation-2-ps...   \n",
       "2  http://www.jeuxvideo.com/jeux/playstation-2-ps...   \n",
       "3  http://www.jeuxvideo.com/jeux/playstation-2-ps...   \n",
       "4  http://www.jeuxvideo.com/jeux/playstation-2-ps...   \n",
       "\n",
       "                                         description  \n",
       "0  Au contraire d’autres titres, None ,''.hack'' ...  \n",
       "1   Avec plus de 20 œuvres de fiction sur de mult...  \n",
       "2   S'appuyant sur la maxime « Mieux vaut tard qu...  \n",
       "3   Voici enfin le second volet de la quadrilogie...  \n",
       "4   Comme la maxime «Jamais deux sans trois» ne c...  "
      ]
     },
     "execution_count": 26,
     "metadata": {},
     "output_type": "execute_result"
    }
   ],
   "source": [
    "df.head()"
   ]
  },
  {
   "cell_type": "code",
   "execution_count": 27,
   "metadata": {},
   "outputs": [],
   "source": [
    "confusion_matrix = pd.crosstab(df.type, df.classification)"
   ]
  },
  {
   "cell_type": "code",
   "execution_count": 28,
   "metadata": {},
   "outputs": [
    {
     "data": {
      "text/html": [
       "<div>\n",
       "<style scoped>\n",
       "    .dataframe tbody tr th:only-of-type {\n",
       "        vertical-align: middle;\n",
       "    }\n",
       "\n",
       "    .dataframe tbody tr th {\n",
       "        vertical-align: top;\n",
       "    }\n",
       "\n",
       "    .dataframe thead th {\n",
       "        text-align: right;\n",
       "    }\n",
       "</style>\n",
       "<table border=\"1\" class=\"dataframe\">\n",
       "  <thead>\n",
       "    <tr style=\"text-align: right;\">\n",
       "      <th>classification</th>\n",
       "      <th>+12 ans</th>\n",
       "      <th>+16 ans</th>\n",
       "      <th>+17 ans</th>\n",
       "      <th>+18 ans</th>\n",
       "      <th>+3 ans</th>\n",
       "      <th>+4 ans</th>\n",
       "      <th>+7 ans</th>\n",
       "      <th>+9 ans</th>\n",
       "      <th>Unknown</th>\n",
       "    </tr>\n",
       "    <tr>\n",
       "      <th>type</th>\n",
       "      <th></th>\n",
       "      <th></th>\n",
       "      <th></th>\n",
       "      <th></th>\n",
       "      <th></th>\n",
       "      <th></th>\n",
       "      <th></th>\n",
       "      <th></th>\n",
       "      <th></th>\n",
       "    </tr>\n",
       "  </thead>\n",
       "  <tbody>\n",
       "    <tr>\n",
       "      <th>4X</th>\n",
       "      <td>1</td>\n",
       "      <td>0</td>\n",
       "      <td>0</td>\n",
       "      <td>0</td>\n",
       "      <td>0</td>\n",
       "      <td>0</td>\n",
       "      <td>1</td>\n",
       "      <td>0</td>\n",
       "      <td>1</td>\n",
       "    </tr>\n",
       "    <tr>\n",
       "      <th>Action</th>\n",
       "      <td>306</td>\n",
       "      <td>209</td>\n",
       "      <td>2</td>\n",
       "      <td>191</td>\n",
       "      <td>193</td>\n",
       "      <td>3</td>\n",
       "      <td>108</td>\n",
       "      <td>5</td>\n",
       "      <td>158</td>\n",
       "    </tr>\n",
       "    <tr>\n",
       "      <th>Action Action RPG</th>\n",
       "      <td>0</td>\n",
       "      <td>0</td>\n",
       "      <td>0</td>\n",
       "      <td>0</td>\n",
       "      <td>0</td>\n",
       "      <td>0</td>\n",
       "      <td>0</td>\n",
       "      <td>0</td>\n",
       "      <td>2</td>\n",
       "    </tr>\n",
       "    <tr>\n",
       "      <th>Action Action RPG Dungeon RPG</th>\n",
       "      <td>0</td>\n",
       "      <td>0</td>\n",
       "      <td>0</td>\n",
       "      <td>0</td>\n",
       "      <td>0</td>\n",
       "      <td>0</td>\n",
       "      <td>0</td>\n",
       "      <td>0</td>\n",
       "      <td>1</td>\n",
       "    </tr>\n",
       "    <tr>\n",
       "      <th>Action Adresse</th>\n",
       "      <td>2</td>\n",
       "      <td>0</td>\n",
       "      <td>0</td>\n",
       "      <td>0</td>\n",
       "      <td>2</td>\n",
       "      <td>1</td>\n",
       "      <td>0</td>\n",
       "      <td>0</td>\n",
       "      <td>3</td>\n",
       "    </tr>\n",
       "    <tr>\n",
       "      <th>...</th>\n",
       "      <td>...</td>\n",
       "      <td>...</td>\n",
       "      <td>...</td>\n",
       "      <td>...</td>\n",
       "      <td>...</td>\n",
       "      <td>...</td>\n",
       "      <td>...</td>\n",
       "      <td>...</td>\n",
       "      <td>...</td>\n",
       "    </tr>\n",
       "    <tr>\n",
       "      <th>Visual Novel RPG</th>\n",
       "      <td>0</td>\n",
       "      <td>0</td>\n",
       "      <td>0</td>\n",
       "      <td>0</td>\n",
       "      <td>0</td>\n",
       "      <td>0</td>\n",
       "      <td>0</td>\n",
       "      <td>0</td>\n",
       "      <td>1</td>\n",
       "    </tr>\n",
       "    <tr>\n",
       "      <th>Visual Novel Rythme</th>\n",
       "      <td>0</td>\n",
       "      <td>0</td>\n",
       "      <td>0</td>\n",
       "      <td>0</td>\n",
       "      <td>0</td>\n",
       "      <td>1</td>\n",
       "      <td>0</td>\n",
       "      <td>0</td>\n",
       "      <td>0</td>\n",
       "    </tr>\n",
       "    <tr>\n",
       "      <th>Wargame</th>\n",
       "      <td>6</td>\n",
       "      <td>0</td>\n",
       "      <td>0</td>\n",
       "      <td>0</td>\n",
       "      <td>9</td>\n",
       "      <td>0</td>\n",
       "      <td>2</td>\n",
       "      <td>0</td>\n",
       "      <td>9</td>\n",
       "    </tr>\n",
       "    <tr>\n",
       "      <th>Wargame Jeu de société</th>\n",
       "      <td>0</td>\n",
       "      <td>0</td>\n",
       "      <td>0</td>\n",
       "      <td>0</td>\n",
       "      <td>0</td>\n",
       "      <td>0</td>\n",
       "      <td>1</td>\n",
       "      <td>0</td>\n",
       "      <td>0</td>\n",
       "    </tr>\n",
       "    <tr>\n",
       "      <th>Wargame Simulation</th>\n",
       "      <td>0</td>\n",
       "      <td>0</td>\n",
       "      <td>0</td>\n",
       "      <td>0</td>\n",
       "      <td>0</td>\n",
       "      <td>0</td>\n",
       "      <td>1</td>\n",
       "      <td>0</td>\n",
       "      <td>0</td>\n",
       "    </tr>\n",
       "  </tbody>\n",
       "</table>\n",
       "<p>723 rows × 9 columns</p>\n",
       "</div>"
      ],
      "text/plain": [
       "classification                 +12 ans  +16 ans  +17 ans  +18 ans  +3 ans  \\\n",
       "type                                                                        \n",
       "4X                                   1        0        0        0       0   \n",
       "Action                             306      209        2      191     193   \n",
       "Action Action RPG                    0        0        0        0       0   \n",
       "Action Action RPG Dungeon RPG        0        0        0        0       0   \n",
       "Action Adresse                       2        0        0        0       2   \n",
       "...                                ...      ...      ...      ...     ...   \n",
       "Visual Novel RPG                     0        0        0        0       0   \n",
       "Visual Novel Rythme                  0        0        0        0       0   \n",
       "Wargame                              6        0        0        0       9   \n",
       "Wargame Jeu de société               0        0        0        0       0   \n",
       "Wargame Simulation                   0        0        0        0       0   \n",
       "\n",
       "classification                 +4 ans  +7 ans  +9 ans  Unknown  \n",
       "type                                                            \n",
       "4X                                  0       1       0        1  \n",
       "Action                              3     108       5      158  \n",
       "Action Action RPG                   0       0       0        2  \n",
       "Action Action RPG Dungeon RPG       0       0       0        1  \n",
       "Action Adresse                      1       0       0        3  \n",
       "...                               ...     ...     ...      ...  \n",
       "Visual Novel RPG                    0       0       0        1  \n",
       "Visual Novel Rythme                 1       0       0        0  \n",
       "Wargame                             0       2       0        9  \n",
       "Wargame Jeu de société              0       1       0        0  \n",
       "Wargame Simulation                  0       1       0        0  \n",
       "\n",
       "[723 rows x 9 columns]"
      ]
     },
     "execution_count": 28,
     "metadata": {},
     "output_type": "execute_result"
    }
   ],
   "source": [
    "confusion_matrix"
   ]
  },
  {
   "cell_type": "code",
   "execution_count": 40,
   "metadata": {},
   "outputs": [
    {
     "data": {
      "text/plain": [
       "0.18305399966174624"
      ]
     },
     "execution_count": 40,
     "metadata": {},
     "output_type": "execute_result"
    }
   ],
   "source": [
    "cramers_V(df.type, df.classification)"
   ]
  },
  {
   "cell_type": "code",
   "execution_count": 51,
   "metadata": {},
   "outputs": [],
   "source": [
    "import pandas\n",
    "import matplotlib.pyplot as plt\n",
    "import seaborn"
   ]
  },
  {
   "cell_type": "code",
   "execution_count": 53,
   "metadata": {},
   "outputs": [
    {
     "data": {
      "text/html": [
       "<div>\n",
       "<style scoped>\n",
       "    .dataframe tbody tr th:only-of-type {\n",
       "        vertical-align: middle;\n",
       "    }\n",
       "\n",
       "    .dataframe tbody tr th {\n",
       "        vertical-align: top;\n",
       "    }\n",
       "\n",
       "    .dataframe thead th {\n",
       "        text-align: right;\n",
       "    }\n",
       "</style>\n",
       "<table border=\"1\" class=\"dataframe\">\n",
       "  <thead>\n",
       "    <tr style=\"text-align: right;\">\n",
       "      <th></th>\n",
       "      <th>Factor</th>\n",
       "      <th>Weight</th>\n",
       "      <th>Variance</th>\n",
       "    </tr>\n",
       "  </thead>\n",
       "  <tbody>\n",
       "    <tr>\n",
       "      <th>0</th>\n",
       "      <td>Growth</td>\n",
       "      <td>0.1</td>\n",
       "      <td>0.15</td>\n",
       "    </tr>\n",
       "    <tr>\n",
       "      <th>1</th>\n",
       "      <td>Value</td>\n",
       "      <td>0.2</td>\n",
       "      <td>0.35</td>\n",
       "    </tr>\n",
       "  </tbody>\n",
       "</table>\n",
       "</div>"
      ],
      "text/plain": [
       "   Factor  Weight  Variance\n",
       "0  Growth     0.1      0.15\n",
       "1   Value     0.2      0.35"
      ]
     },
     "execution_count": 53,
     "metadata": {},
     "output_type": "execute_result"
    }
   ],
   "source": [
    "df"
   ]
  },
  {
   "cell_type": "code",
   "execution_count": 58,
   "metadata": {},
   "outputs": [
    {
     "data": {
      "text/html": [
       "<div>\n",
       "<style scoped>\n",
       "    .dataframe tbody tr th:only-of-type {\n",
       "        vertical-align: middle;\n",
       "    }\n",
       "\n",
       "    .dataframe tbody tr th {\n",
       "        vertical-align: top;\n",
       "    }\n",
       "\n",
       "    .dataframe thead th {\n",
       "        text-align: right;\n",
       "    }\n",
       "</style>\n",
       "<table border=\"1\" class=\"dataframe\">\n",
       "  <thead>\n",
       "    <tr style=\"text-align: right;\">\n",
       "      <th></th>\n",
       "      <th>Etabl</th>\n",
       "      <th>Variable</th>\n",
       "      <th>Value</th>\n",
       "    </tr>\n",
       "  </thead>\n",
       "  <tbody>\n",
       "    <tr>\n",
       "      <th>0</th>\n",
       "      <td>et1</td>\n",
       "      <td>men</td>\n",
       "      <td>0.10</td>\n",
       "    </tr>\n",
       "    <tr>\n",
       "      <th>1</th>\n",
       "      <td>et2</td>\n",
       "      <td>men</td>\n",
       "      <td>0.20</td>\n",
       "    </tr>\n",
       "    <tr>\n",
       "      <th>2</th>\n",
       "      <td>et1</td>\n",
       "      <td>women</td>\n",
       "      <td>0.15</td>\n",
       "    </tr>\n",
       "    <tr>\n",
       "      <th>3</th>\n",
       "      <td>et2</td>\n",
       "      <td>women</td>\n",
       "      <td>0.35</td>\n",
       "    </tr>\n",
       "  </tbody>\n",
       "</table>\n",
       "</div>"
      ],
      "text/plain": [
       "  Etabl Variable  Value\n",
       "0   et1      men   0.10\n",
       "1   et2      men   0.20\n",
       "2   et1    women   0.15\n",
       "3   et2    women   0.35"
      ]
     },
     "execution_count": 58,
     "metadata": {},
     "output_type": "execute_result"
    }
   ],
   "source": [
    "df = pandas.DataFrame({\n",
    "    'etabl': ['et1', 'et2'],\n",
    "    'men': [0.10, 0.20],\n",
    "    'women': [0.15, 0.35]\n",
    "})\n",
    "tidy = df.melt(id_vars='etabl').rename(columns=str.title)\n",
    "tidy"
   ]
  },
  {
   "cell_type": "code",
   "execution_count": 60,
   "metadata": {},
   "outputs": [
    {
     "data": {
      "image/png": "[encoded data removed]",
      "text/plain": [
       "<Figure size 720x720 with 1 Axes>"
      ]
     },
     "metadata": {
      "needs_background": "light"
     },
     "output_type": "display_data"
    }
   ],
   "source": [
    "fig, ax1 = plt.subplots(figsize=(10, 10))\n",
    "seaborn.barplot(x='Etabl', y='Value', hue='Variable', data=tidy, ax=ax1)\n",
    "seaborn.despine(fig)"
   ]
  },
  {
   "cell_type": "code",
   "execution_count": 62,
   "metadata": {},
   "outputs": [
    {
     "ename": "TypeError",
     "evalue": "randn() got an unexpected keyword argument 'shape'",
     "output_type": "error",
     "traceback": [
      "\u001b[0;31m---------------------------------------------------------------------------\u001b[0m",
      "\u001b[0;31mTypeError\u001b[0m                                 Traceback (most recent call last)",
      "\u001b[0;32m<ipython-input-62-dc36b4c5274e>\u001b[0m in \u001b[0;36m<module>\u001b[0;34m\u001b[0m\n\u001b[0;32m----> 1\u001b[0;31m \u001b[0mpop\u001b[0m \u001b[0;34m=\u001b[0m \u001b[0mnp\u001b[0m\u001b[0;34m.\u001b[0m\u001b[0mrandom\u001b[0m\u001b[0;34m.\u001b[0m\u001b[0mrandn\u001b[0m\u001b[0;34m(\u001b[0m\u001b[0;36m30\u001b[0m\u001b[0;34m,\u001b[0m \u001b[0;36m5\u001b[0m\u001b[0;34m,\u001b[0m \u001b[0mshape\u001b[0m\u001b[0;34m=\u001b[0m\u001b[0;34m(\u001b[0m\u001b[0;36m1000\u001b[0m\u001b[0;34m)\u001b[0m\u001b[0;34m)\u001b[0m\u001b[0;34m\u001b[0m\u001b[0;34m\u001b[0m\u001b[0m\n\u001b[0m",
      "\u001b[0;31mTypeError\u001b[0m: randn() got an unexpected keyword argument 'shape'"
     ]
    }
   ],
   "source": [
    "pop = np.random.randn(30, 5, shape=(1000))"
   ]
  },
  {
   "cell_type": "code",
   "execution_count": 65,
   "metadata": {},
   "outputs": [],
   "source": [
    "pop = 10 * np.random.randn(10000) + 30"
   ]
  },
  {
   "cell_type": "code",
   "execution_count": 66,
   "metadata": {},
   "outputs": [
    {
     "data": {
      "text/plain": [
       "array([33.18788747, 44.90912191, 25.20818721, ..., -0.06811994,\n",
       "       15.01076948, 32.22132343])"
      ]
     },
     "execution_count": 66,
     "metadata": {},
     "output_type": "execute_result"
    }
   ],
   "source": [
    "pop"
   ]
  },
  {
   "cell_type": "code",
   "execution_count": 67,
   "metadata": {},
   "outputs": [
    {
     "ename": "AttributeError",
     "evalue": "'numpy.ndarray' object has no attribute 'sample'",
     "output_type": "error",
     "traceback": [
      "\u001b[0;31m---------------------------------------------------------------------------\u001b[0m",
      "\u001b[0;31mAttributeError\u001b[0m                            Traceback (most recent call last)",
      "\u001b[0;32m<ipython-input-67-ba73e9025567>\u001b[0m in \u001b[0;36m<module>\u001b[0;34m\u001b[0m\n\u001b[0;32m----> 1\u001b[0;31m \u001b[0ms\u001b[0m \u001b[0;34m=\u001b[0m \u001b[0mpop\u001b[0m\u001b[0;34m.\u001b[0m\u001b[0msample\u001b[0m\u001b[0;34m(\u001b[0m\u001b[0;36m100\u001b[0m\u001b[0;34m)\u001b[0m\u001b[0;34m\u001b[0m\u001b[0;34m\u001b[0m\u001b[0m\n\u001b[0m",
      "\u001b[0;31mAttributeError\u001b[0m: 'numpy.ndarray' object has no attribute 'sample'"
     ]
    }
   ],
   "source": [
    "s = np.randaom.sample(100)"
   ]
  },
  {
   "cell_type": "code",
   "execution_count": 71,
   "metadata": {},
   "outputs": [],
   "source": [
    "s = np.random.choice(pop, 100)"
   ]
  },
  {
   "cell_type": "code",
   "execution_count": 72,
   "metadata": {},
   "outputs": [
    {
     "data": {
      "text/plain": [
       "array([34.12157759, 15.16300959, 34.3306454 , 26.9194712 , 38.42662746,\n",
       "       36.60934426, 50.58352529, 17.1552867 , 33.08624585, 38.82759671,\n",
       "       22.87857634, 24.80053729, 36.01789959, 14.98781248, 25.57358406,\n",
       "       34.30301062, 45.78741338, 24.03870922, 47.11117445,  5.47109999,\n",
       "       36.64758784, 16.97844917, 33.37150399, 16.90450527, 17.21018386,\n",
       "        0.85037164, 32.60117429, 51.7070853 , 45.42198379, 40.02230953,\n",
       "       37.87871868, 16.16125747, 27.80136029, 20.88526137, 10.79122444,\n",
       "       17.72332305, 38.82766919, 36.25884669, 27.03562816, 35.55579617,\n",
       "       31.41193685, 20.15099904, 22.71431427, 35.66881624, 30.79939601,\n",
       "       35.39446202, 38.09196763, 32.00202722, 37.23236825, 27.49860793,\n",
       "       26.39200001, 26.4717304 , 33.78958375, 32.84071858, 37.1589819 ,\n",
       "       12.06095611, 28.41890437, 37.85744834, 22.0558153 , 17.98102105,\n",
       "       22.63481682, 17.8603345 , 43.23535917, 36.18786526, 31.22125915,\n",
       "       20.67353468, 36.90696199, 29.43608741, 35.39339797, 32.67908706,\n",
       "       29.91918338, 33.4843387 , 33.60982943, 31.97585959, 44.49271601,\n",
       "       20.62840256, 32.65398981, 25.52915812, 25.50088722, 20.39346351,\n",
       "       29.85363659, 24.78033545, 33.15979741, 32.7706254 ,  9.16416666,\n",
       "       16.4431269 , 39.94637371, 40.88251637, 47.23803085, 31.71760961,\n",
       "       17.16891722, 29.12165037, 22.36645312, 25.51847923, 35.19884061,\n",
       "       25.025401  , 22.87459863, 32.75057886, 38.09196763, 42.97176347])"
      ]
     },
     "execution_count": 72,
     "metadata": {},
     "output_type": "execute_result"
    }
   ],
   "source": [
    "s"
   ]
  },
  {
   "cell_type": "code",
   "execution_count": 74,
   "metadata": {},
   "outputs": [],
   "source": [
    "mu = s.mean()"
   ]
  },
  {
   "cell_type": "code",
   "execution_count": 76,
   "metadata": {},
   "outputs": [],
   "source": [
    "mu_emp = []\n",
    "for i in range(1000):\n",
    "    s_bootstrap = np.random.choice(s, 100, replace=True)\n",
    "    mu_emp.append(s_bootstrap.mean())"
   ]
  },
  {
   "cell_type": "code",
   "execution_count": 77,
   "metadata": {},
   "outputs": [
    {
     "data": {
      "text/plain": [
       "[29.942713423592796,\n",
       " 31.023484407123405,\n",
       " 30.63748680115812,\n",
       " 29.530037481682303,\n",
       " 29.533389368228246,\n",
       " 29.513396015329104,\n",
       " 30.527116577727803,\n",
       " 29.469100266073887,\n",
       " 29.909636666674768,\n",
       " 30.189936623793532,\n",
       " 28.964844734869224,\n",
       " 27.618612911268148,\n",
       " 29.649127148339904,\n",
       " 30.381637911626004,\n",
       " 29.73299033339189,\n",
       " 30.76209064854299,\n",
       " 29.516912632785676,\n",
       " 28.75644853063989,\n",
       " 30.719640683126823,\n",
       " 29.116370945370637,\n",
       " 27.136508440642732,\n",
       " 27.99227835765717,\n",
       " 29.527799596977783,\n",
       " 29.90053892632682,\n",
       " 30.7329116525208,\n",
       " 28.384828242092855,\n",
       " 30.0078568134982,\n",
       " 29.772481670782796,\n",
       " 29.85922527120652,\n",
       " 29.63249639138837,\n",
       " 30.34710168780366,\n",
       " 28.75769644981827,\n",
       " 29.625361002702313,\n",
       " 28.94457235406261,\n",
       " 29.055555969753808,\n",
       " 30.449012109410283,\n",
       " 31.798166934383357,\n",
       " 30.18109540225411,\n",
       " 30.048666804514568,\n",
       " 29.346361947135154,\n",
       " 30.754754701634027,\n",
       " 28.99794313635779,\n",
       " 29.322143961449378,\n",
       " 28.150490332042864,\n",
       " 30.868441812874867,\n",
       " 30.08223109160182,\n",
       " 30.619455631746952,\n",
       " 28.160429588010402,\n",
       " 28.720105865213885,\n",
       " 28.608370321404387,\n",
       " 30.164602076937303,\n",
       " 30.50309135116307,\n",
       " 29.042518638907527,\n",
       " 28.615711824562094,\n",
       " 28.467117803930215,\n",
       " 28.616152814872965,\n",
       " 30.88016111112963,\n",
       " 29.004663444586143,\n",
       " 29.844033385533063,\n",
       " 28.66108657207825,\n",
       " 28.9795941216723,\n",
       " 30.985608992772235,\n",
       " 31.129307684268987,\n",
       " 30.651566050506208,\n",
       " 28.48621975337743,\n",
       " 29.590418504133314,\n",
       " 29.945165653868372,\n",
       " 27.998215349954407,\n",
       " 29.84684799589231,\n",
       " 28.128800495877762,\n",
       " 31.03488444459842,\n",
       " 29.852304601069513,\n",
       " 28.451687707845853,\n",
       " 29.446698421792654,\n",
       " 29.47472641756276,\n",
       " 28.098605439394017,\n",
       " 32.330909768745876,\n",
       " 29.156186739040592,\n",
       " 29.096922405811267,\n",
       " 29.310570017849138,\n",
       " 28.859791799359012,\n",
       " 30.29213202352501,\n",
       " 29.858242579336878,\n",
       " 30.106025632315244,\n",
       " 31.01766555228838,\n",
       " 30.32235935472644,\n",
       " 27.319090936940682,\n",
       " 28.50229825296948,\n",
       " 29.893480761047314,\n",
       " 31.132528008881486,\n",
       " 30.07900060272458,\n",
       " 28.32362045644361,\n",
       " 28.33037727880922,\n",
       " 29.951025598729924,\n",
       " 28.951592951654707,\n",
       " 29.201293848368138,\n",
       " 28.92356289493681,\n",
       " 30.628712560924523,\n",
       " 29.239683017014883,\n",
       " 30.369901515582164,\n",
       " 30.668129387017416,\n",
       " 28.810349743642508,\n",
       " 30.07216758395901,\n",
       " 30.896285122311625,\n",
       " 30.233043013361726,\n",
       " 28.037673926119055,\n",
       " 28.55660589108606,\n",
       " 31.486410062506376,\n",
       " 29.249907259555656,\n",
       " 30.216432159482352,\n",
       " 27.98142806951857,\n",
       " 30.749101174602252,\n",
       " 29.727116233330225,\n",
       " 29.74266204704199,\n",
       " 29.91957026538812,\n",
       " 29.479203596390686,\n",
       " 28.437792933760335,\n",
       " 31.347695971541608,\n",
       " 29.45984627194961,\n",
       " 30.906053965213474,\n",
       " 29.085689813141844,\n",
       " 30.536612188915893,\n",
       " 30.48072903702874,\n",
       " 29.713475506500114,\n",
       " 28.404108667032855,\n",
       " 29.517930612763664,\n",
       " 28.741444304675042,\n",
       " 29.172343590717798,\n",
       " 28.85030366345663,\n",
       " 29.873454683967772,\n",
       " 30.174208291582907,\n",
       " 28.87140996586013,\n",
       " 30.67126432124808,\n",
       " 28.990233117895478,\n",
       " 30.133375207480476,\n",
       " 29.04810622773617,\n",
       " 29.841923658746186,\n",
       " 31.801799220236592,\n",
       " 29.679084015173917,\n",
       " 30.17252998641227,\n",
       " 29.892067995325824,\n",
       " 30.08000633268549,\n",
       " 29.712270621516055,\n",
       " 29.961939834294913,\n",
       " 28.425243904952108,\n",
       " 30.0791732278217,\n",
       " 29.464997905718448,\n",
       " 28.649575576644256,\n",
       " 28.661597834074282,\n",
       " 30.09481817633296,\n",
       " 29.46915932218016,\n",
       " 30.664967402092326,\n",
       " 29.551667217703265,\n",
       " 30.290217213628974,\n",
       " 30.976119085110906,\n",
       " 29.30867203603762,\n",
       " 30.44752590123336,\n",
       " 27.99334627381286,\n",
       " 30.11949651069948,\n",
       " 30.19207036148691,\n",
       " 28.266574447690463,\n",
       " 29.106125078622032,\n",
       " 30.75489096552022,\n",
       " 29.766504105456626,\n",
       " 29.466308839648445,\n",
       " 29.970944762057115,\n",
       " 30.766435546247997,\n",
       " 28.633680718645838,\n",
       " 28.85485812849468,\n",
       " 29.316406059052923,\n",
       " 29.67547711213776,\n",
       " 29.274867011441753,\n",
       " 29.172677849831583,\n",
       " 28.60163303803792,\n",
       " 28.947164911505602,\n",
       " 30.20432248931031,\n",
       " 29.62895556839322,\n",
       " 30.245635294665494,\n",
       " 30.33985980824087,\n",
       " 29.14487237045369,\n",
       " 29.819116722440764,\n",
       " 28.502991006810625,\n",
       " 31.961268259588547,\n",
       " 29.70777680320624,\n",
       " 30.440447160050784,\n",
       " 30.406864828510066,\n",
       " 28.850724221953072,\n",
       " 28.472920647540896,\n",
       " 29.769899897597483,\n",
       " 29.233883430345905,\n",
       " 28.593680973166762,\n",
       " 31.913366455267205,\n",
       " 30.079467687769323,\n",
       " 29.958564005260943,\n",
       " 28.7129785936497,\n",
       " 29.218167957284564,\n",
       " 30.68725419125545,\n",
       " 30.271699197676945,\n",
       " 28.367664698013797,\n",
       " 32.36602739316098,\n",
       " 27.737426121694934,\n",
       " 30.482872156411094,\n",
       " 28.390823283546116,\n",
       " 27.861658675344167,\n",
       " 29.049996346294957,\n",
       " 27.609360103016165,\n",
       " 30.392714786637526,\n",
       " 28.60276634312447,\n",
       " 30.681035839877808,\n",
       " 29.74239974362446,\n",
       " 29.21823381174997,\n",
       " 28.61630442055333,\n",
       " 28.754014714273755,\n",
       " 28.221892880081786,\n",
       " 29.615118365695302,\n",
       " 29.18931335758741,\n",
       " 29.08166940233981,\n",
       " 29.586227070525865,\n",
       " 28.750377601036767,\n",
       " 31.852053268718866,\n",
       " 28.572405840912523,\n",
       " 27.175324996781217,\n",
       " 29.335156035378564,\n",
       " 30.970880084008805,\n",
       " 29.354760743183174,\n",
       " 29.449927839376215,\n",
       " 28.990742119713918,\n",
       " 28.72614660201037,\n",
       " 30.855865227629838,\n",
       " 28.32659821608946,\n",
       " 28.900978383837938,\n",
       " 29.817771576812305,\n",
       " 31.692395667389246,\n",
       " 28.44041958368996,\n",
       " 29.913265182411738,\n",
       " 29.90536425386175,\n",
       " 31.30227896689793,\n",
       " 27.522562510206484,\n",
       " 30.163034484854236,\n",
       " 29.20998767968657,\n",
       " 30.15116358585216,\n",
       " 30.813843855608525,\n",
       " 31.399873768072798,\n",
       " 29.29558962604062,\n",
       " 28.465890891856944,\n",
       " 30.34202437229824,\n",
       " 30.277934085486518,\n",
       " 30.428536411049862,\n",
       " 30.89961154276716,\n",
       " 28.971542651262553,\n",
       " 27.80505377540429,\n",
       " 29.30432937111549,\n",
       " 29.588312333496805,\n",
       " 30.407481962465862,\n",
       " 28.920117952672367,\n",
       " 29.43639100906207,\n",
       " 32.68876793251068,\n",
       " 27.569401827434525,\n",
       " 31.41602569306169,\n",
       " 29.515153980069467,\n",
       " 28.0532766864323,\n",
       " 29.895568725407703,\n",
       " 28.870819402543827,\n",
       " 31.239152882086934,\n",
       " 28.282837269193752,\n",
       " 30.32925452709761,\n",
       " 31.106580680638054,\n",
       " 30.66435130334223,\n",
       " 28.972460423863723,\n",
       " 30.44276178857625,\n",
       " 30.340275241998853,\n",
       " 29.612898519146515,\n",
       " 27.856797991068262,\n",
       " 31.24373842019924,\n",
       " 28.374141911967914,\n",
       " 28.159329580367007,\n",
       " 28.266039958528026,\n",
       " 29.013271784574872,\n",
       " 28.930603164373842,\n",
       " 30.570034492797916,\n",
       " 28.951281111832746,\n",
       " 27.884298737663222,\n",
       " 29.725589188551133,\n",
       " 30.80776244368917,\n",
       " 28.02506722531221,\n",
       " 29.312799376421964,\n",
       " 29.540677610318713,\n",
       " 27.49205673864501,\n",
       " 29.250929855831338,\n",
       " 30.78824947395922,\n",
       " 31.50668796547761,\n",
       " 29.332063478572834,\n",
       " 30.582901952533618,\n",
       " 28.03690496561843,\n",
       " 28.536824542638843,\n",
       " 27.968427938838495,\n",
       " 30.318376953110615,\n",
       " 29.2431144989457,\n",
       " 29.7619426349446,\n",
       " 29.643937048113667,\n",
       " 31.657844483648315,\n",
       " 28.938244105081832,\n",
       " 28.930843503089694,\n",
       " 28.437092307259032,\n",
       " 28.989462336625028,\n",
       " 30.26382518910496,\n",
       " 30.05154596501711,\n",
       " 31.156546226977348,\n",
       " 30.28103237235202,\n",
       " 27.911117702458046,\n",
       " 29.36797818421645,\n",
       " 29.6211552986813,\n",
       " 28.825499250680608,\n",
       " 29.079335167730516,\n",
       " 30.41860971519329,\n",
       " 29.610484745734162,\n",
       " 28.099435229885366,\n",
       " 29.46100109542436,\n",
       " 31.11215577536908,\n",
       " 29.100372728909818,\n",
       " 29.17536853578343,\n",
       " 28.3823481463024,\n",
       " 30.326720685232253,\n",
       " 29.32275190337037,\n",
       " 31.05432403525244,\n",
       " 32.03444931491633,\n",
       " 29.262211018510687,\n",
       " 29.553239480778156,\n",
       " 30.925953528527362,\n",
       " 29.329307181583175,\n",
       " 27.723917772127464,\n",
       " 28.733330144643237,\n",
       " 29.41209213512648,\n",
       " 29.568510151550672,\n",
       " 30.27280754556055,\n",
       " 28.288913315567132,\n",
       " 30.35005394166618,\n",
       " 28.563676621912045,\n",
       " 29.27384333270522,\n",
       " 29.949346216403498,\n",
       " 27.75162419702763,\n",
       " 29.66401503338831,\n",
       " 31.18696502348765,\n",
       " 30.24717389052814,\n",
       " 28.709502803334036,\n",
       " 30.184876523596525,\n",
       " 29.02659102175923,\n",
       " 28.71655776365295,\n",
       " 29.080586701054145,\n",
       " 30.64611396669045,\n",
       " 28.254116120015855,\n",
       " 29.586645680115563,\n",
       " 29.937919017857016,\n",
       " 30.198295551757937,\n",
       " 30.243519420041558,\n",
       " 29.45698293072826,\n",
       " 30.010547145249774,\n",
       " 29.186761322642706,\n",
       " 29.795900714116115,\n",
       " 32.71968550425631,\n",
       " 30.068156298743784,\n",
       " 29.834726555547544,\n",
       " 27.674315319572376,\n",
       " 30.904796450144854,\n",
       " 31.639353767037086,\n",
       " 29.95472573955327,\n",
       " 30.649272454998258,\n",
       " 29.206054637740355,\n",
       " 29.656384786081567,\n",
       " 29.63357879469694,\n",
       " 30.250816620770706,\n",
       " 29.821976979311195,\n",
       " 31.883741971358,\n",
       " 28.568299099694663,\n",
       " 30.669403469251574,\n",
       " 30.206992808896292,\n",
       " 29.902047297795907,\n",
       " 31.141731091056137,\n",
       " 28.62135438198321,\n",
       " 31.336828568045814,\n",
       " 30.496143214753744,\n",
       " 30.015884213969212,\n",
       " 28.668058017764242,\n",
       " 29.194920352774375,\n",
       " 29.7928136951411,\n",
       " 29.91184330068065,\n",
       " 29.109821420339618,\n",
       " 30.00672789810613,\n",
       " 29.7568657438241,\n",
       " 30.098404480565854,\n",
       " 29.951911051990727,\n",
       " 28.44663237474751,\n",
       " 31.215589789989437,\n",
       " 29.00812490307601,\n",
       " 30.58792985675689,\n",
       " 30.545932077564338,\n",
       " 30.51430271512272,\n",
       " 28.51597679051706,\n",
       " 28.681579696189683,\n",
       " 29.63422069593004,\n",
       " 29.408710834424006,\n",
       " 29.74261456901253,\n",
       " 28.779274233489744,\n",
       " 29.065738213697365,\n",
       " 28.644759827590846,\n",
       " 30.51112586669266,\n",
       " 27.351309336927258,\n",
       " 28.765206705531526,\n",
       " 29.108522459860982,\n",
       " 29.121171830572102,\n",
       " 29.19243213469506,\n",
       " 30.294197540501926,\n",
       " 29.110480189417,\n",
       " 30.392057677813597,\n",
       " 30.157940485190974,\n",
       " 30.73234811234879,\n",
       " 30.401151576154106,\n",
       " 27.85692747581895,\n",
       " 29.86999817729439,\n",
       " 30.075736440913907,\n",
       " 29.42211915352264,\n",
       " 31.375579440345746,\n",
       " 29.57892298564398,\n",
       " 29.636063211913424,\n",
       " 28.668699244500043,\n",
       " 29.25353882031283,\n",
       " 28.558310796110405,\n",
       " 30.497071934669712,\n",
       " 29.820776255285555,\n",
       " 31.494840660603224,\n",
       " 29.807505415821975,\n",
       " 27.04557989385671,\n",
       " 28.52125133711262,\n",
       " 30.629445556757588,\n",
       " 29.62840812187415,\n",
       " 28.931612556456948,\n",
       " 29.785890205661122,\n",
       " 29.167267245704334,\n",
       " 28.559556078207667,\n",
       " 31.467361276535588,\n",
       " 30.072800903511133,\n",
       " 29.441833416027457,\n",
       " 29.19759016996603,\n",
       " 29.717346522934562,\n",
       " 29.06151563832025,\n",
       " 28.32911105030158,\n",
       " 30.9130295676367,\n",
       " 29.681941918538318,\n",
       " 29.515711441341917,\n",
       " 28.739600046424247,\n",
       " 29.798873490522066,\n",
       " 28.632324042613575,\n",
       " 30.59567248637539,\n",
       " 29.91384658903338,\n",
       " 30.100737361222528,\n",
       " 29.467607269439625,\n",
       " 29.972205132624143,\n",
       " 30.06082432803352,\n",
       " 29.591761258297197,\n",
       " 29.619063539857713,\n",
       " 30.76901474556179,\n",
       " 30.39073809875226,\n",
       " 29.206327124374422,\n",
       " 30.486130046865096,\n",
       " 29.2011378133371,\n",
       " 31.366858250247333,\n",
       " 29.34759338840324,\n",
       " 29.843693314868418,\n",
       " 30.577890852647357,\n",
       " 29.6601737310619,\n",
       " 31.543639860283605,\n",
       " 28.84904256224451,\n",
       " 27.44743553646003,\n",
       " 29.699824213354905,\n",
       " 30.910943417850387,\n",
       " 29.65895904030275,\n",
       " 29.43459968880612,\n",
       " 30.11660770218002,\n",
       " 30.38993302833901,\n",
       " 29.96429751870541,\n",
       " 29.100168532263538,\n",
       " 30.389113116714146,\n",
       " 29.693378441780727,\n",
       " 30.477195929128158,\n",
       " 29.62949046760898,\n",
       " 28.034321682960485,\n",
       " 30.29598206048282,\n",
       " 30.41763022002309,\n",
       " 30.855759513944236,\n",
       " 31.30047577816411,\n",
       " 30.015819237622658,\n",
       " 31.37510565879528,\n",
       " 28.946518671557925,\n",
       " 29.243692641440486,\n",
       " 29.29767249617477,\n",
       " 28.02743183994895,\n",
       " 29.534421621371155,\n",
       " 30.626479456569758,\n",
       " 28.436475372912383,\n",
       " 30.64336267534541,\n",
       " 30.23234065849394,\n",
       " 28.41579923928957,\n",
       " 28.94070421376997,\n",
       " 28.958437645161,\n",
       " 28.793100233436153,\n",
       " 30.325248047362585,\n",
       " 29.254730198496482,\n",
       " 28.95321483144681,\n",
       " 28.718205874738405,\n",
       " 30.200575548676326,\n",
       " 29.0476744482142,\n",
       " 29.88935488018899,\n",
       " 30.02371988284888,\n",
       " 30.140515409735652,\n",
       " 28.38778218231172,\n",
       " 30.12602534459961,\n",
       " 30.98128488925302,\n",
       " 28.941589179577964,\n",
       " 29.21458380212466,\n",
       " 28.838890205618284,\n",
       " 30.76076055819203,\n",
       " 29.26463241584416,\n",
       " 30.895249208155306,\n",
       " 28.344138227593806,\n",
       " 28.45539490098271,\n",
       " 28.600244768785107,\n",
       " 26.62371958208639,\n",
       " 29.901273172729237,\n",
       " 29.366677906171443,\n",
       " 29.337135885373563,\n",
       " 30.18603873066599,\n",
       " 29.272446004940047,\n",
       " 29.958718644818372,\n",
       " 29.35859610133491,\n",
       " 29.83559266332331,\n",
       " 29.268377419407834,\n",
       " 29.91925847616325,\n",
       " 29.77739165389736,\n",
       " 29.02616605414081,\n",
       " 28.27804613429911,\n",
       " 30.81105456432174,\n",
       " 31.30719159720259,\n",
       " 30.861870183942074,\n",
       " 29.756728143897366,\n",
       " 29.720179120964822,\n",
       " 28.16662310294188,\n",
       " 31.612734221463608,\n",
       " 27.856297882320735,\n",
       " 28.34029732196414,\n",
       " 30.274862735630396,\n",
       " 30.42073692719256,\n",
       " 27.463153869296885,\n",
       " 27.372310123535726,\n",
       " 30.46060461050989,\n",
       " 29.577883241967925,\n",
       " 29.726543502043647,\n",
       " 29.4152871483043,\n",
       " 29.211262248713748,\n",
       " 28.456916744120203,\n",
       " 27.56521862918642,\n",
       " 28.784863592955798,\n",
       " 28.879320096452787,\n",
       " 30.403028258625714,\n",
       " 28.9059357230955,\n",
       " 30.810889369428896,\n",
       " 29.64543276655518,\n",
       " 28.795806642633785,\n",
       " 29.169492259912285,\n",
       " 31.162934594499816,\n",
       " 29.39861114125623,\n",
       " 28.39104511698002,\n",
       " 30.342512605566498,\n",
       " 28.278784882678348,\n",
       " 30.383276348187504,\n",
       " 30.881194747053993,\n",
       " 29.739863913750533,\n",
       " 30.70775291662981,\n",
       " 29.738024699178453,\n",
       " 29.579800344048962,\n",
       " 30.786138047383442,\n",
       " 27.79779590340266,\n",
       " 28.87099130222384,\n",
       " 30.41670198529885,\n",
       " 29.64276579271013,\n",
       " 30.597387091376994,\n",
       " 27.429118154029275,\n",
       " 28.7458600744446,\n",
       " 29.463242424201585,\n",
       " 28.6763027698527,\n",
       " 30.493535581889113,\n",
       " 30.57490397620736,\n",
       " 28.13092670999955,\n",
       " 30.00596276646026,\n",
       " 28.442764876003768,\n",
       " 29.617850430449526,\n",
       " 29.61143313330307,\n",
       " 29.79468040926357,\n",
       " 29.0502765489178,\n",
       " 28.34315646652138,\n",
       " 30.158278182967255,\n",
       " 29.52199480433265,\n",
       " 30.032155001713512,\n",
       " 30.606174086398234,\n",
       " 29.28552658241567,\n",
       " 30.86059345335142,\n",
       " 28.334963857864714,\n",
       " 29.155477126755528,\n",
       " 30.03932135554001,\n",
       " 29.553881100699545,\n",
       " 29.63570516659881,\n",
       " 29.39406460542167,\n",
       " 29.775557057937146,\n",
       " 28.007989688126205,\n",
       " 27.963533316920902,\n",
       " 29.69697186284173,\n",
       " 29.17040680424567,\n",
       " 30.02489256578749,\n",
       " 28.164878554142827,\n",
       " 29.254359948030107,\n",
       " 28.530963649218116,\n",
       " 29.318498956655347,\n",
       " 28.653753364273527,\n",
       " 29.567338659988167,\n",
       " 28.960374605244173,\n",
       " 29.322391476897746,\n",
       " 30.180652371399628,\n",
       " 29.37051931719694,\n",
       " 27.78740436719888,\n",
       " 29.471086578505297,\n",
       " 29.010816697422996,\n",
       " 28.477758892059754,\n",
       " 30.041241533516015,\n",
       " 30.659926547834015,\n",
       " 30.715164413942194,\n",
       " 29.607198295858588,\n",
       " 29.282109630375516,\n",
       " 30.191744427981167,\n",
       " 27.890942768731417,\n",
       " 28.62548194514287,\n",
       " 30.02300680676992,\n",
       " 28.15027249805857,\n",
       " 28.11339069688816,\n",
       " 29.634235510911417,\n",
       " 28.167937066798512,\n",
       " 30.053858018478145,\n",
       " 30.173773396146853,\n",
       " 28.52483403729065,\n",
       " 28.972416022705033,\n",
       " 29.27799129421799,\n",
       " 29.793380377078506,\n",
       " 28.695562620154192,\n",
       " 28.990404526836137,\n",
       " 30.748895539401065,\n",
       " 28.883109932394312,\n",
       " 27.979743608952063,\n",
       " 30.250736607603713,\n",
       " 31.12811759310289,\n",
       " 28.791800797553783,\n",
       " 29.436009196347946,\n",
       " 28.20219542948743,\n",
       " 30.183418880279145,\n",
       " 29.66518239102344,\n",
       " 30.142195682783964,\n",
       " 29.467918420388514,\n",
       " 28.194318236724015,\n",
       " 30.667455529955923,\n",
       " 30.664961450148322,\n",
       " 30.584502098574468,\n",
       " 29.199925039886256,\n",
       " 28.85457870125033,\n",
       " 27.762797940220295,\n",
       " 28.974582826411762,\n",
       " 30.151673099409447,\n",
       " 29.76326415021976,\n",
       " 29.575659467370937,\n",
       " 28.241374529542245,\n",
       " 29.795312635246226,\n",
       " 30.14664650031772,\n",
       " 30.224094587911814,\n",
       " 32.02605462415184,\n",
       " 28.40082296080523,\n",
       " 28.475461442915453,\n",
       " 31.060388972934625,\n",
       " 29.94092007685334,\n",
       " 30.539466627294246,\n",
       " 29.62250433871593,\n",
       " 30.847469575448404,\n",
       " 27.823552841379396,\n",
       " 29.522348080221334,\n",
       " 30.21402376574777,\n",
       " 29.045119512017024,\n",
       " 30.78960020328122,\n",
       " 29.388625009378874,\n",
       " 28.87681298809702,\n",
       " 28.898846484340982,\n",
       " 27.386754079322962,\n",
       " 30.00818372276823,\n",
       " 29.771444011879698,\n",
       " 29.977954178309297,\n",
       " 29.195298259292002,\n",
       " 31.54153325290878,\n",
       " 28.098680961580772,\n",
       " 29.25427134061921,\n",
       " 29.956802261016396,\n",
       " 28.883046592635647,\n",
       " 29.238275211774113,\n",
       " 31.0506484275744,\n",
       " 29.985522691855305,\n",
       " 28.92271806183694,\n",
       " 28.149574985705932,\n",
       " 29.22580717065284,\n",
       " 30.757762031995018,\n",
       " 31.744198439030765,\n",
       " 28.810337741662185,\n",
       " 30.153671830857483,\n",
       " 29.33036367493175,\n",
       " 29.837592129338727,\n",
       " 28.611962951831334,\n",
       " 28.281324264363597,\n",
       " 30.746246741383228,\n",
       " 29.066200033880346,\n",
       " 29.15043016933924,\n",
       " 29.253035699419005,\n",
       " 29.951789368100204,\n",
       " 28.93434702772217,\n",
       " 29.378780925861697,\n",
       " 30.169545621652937,\n",
       " 30.793085633030454,\n",
       " 27.557061829888525,\n",
       " 28.772027159476515,\n",
       " 29.746706499767935,\n",
       " 30.181740768175136,\n",
       " 28.452848650387438,\n",
       " 30.53954438816644,\n",
       " 30.2882716740291,\n",
       " 28.288875084654734,\n",
       " 28.618023546430276,\n",
       " 30.37993075936774,\n",
       " 29.69125529003743,\n",
       " 29.468354697776423,\n",
       " 28.87345752014216,\n",
       " 30.050529882051674,\n",
       " 29.445586038919156,\n",
       " 29.968921797663665,\n",
       " 30.166037124691897,\n",
       " 29.82855808978844,\n",
       " 29.241620590512834,\n",
       " 29.568865631169317,\n",
       " 28.194004460639732,\n",
       " 29.5211251160822,\n",
       " 29.171766135212142,\n",
       " 28.05021992542644,\n",
       " 30.098114516251215,\n",
       " 30.69560463012151,\n",
       " 29.689555292236367,\n",
       " 30.114976117427094,\n",
       " 29.383839035386995,\n",
       " 30.813101339639903,\n",
       " 30.806798649646236,\n",
       " 31.13106813810939,\n",
       " 28.8660469225016,\n",
       " 29.79510785793437,\n",
       " 29.86527265458231,\n",
       " 28.052117595149195,\n",
       " 29.533512204694112,\n",
       " 31.151752480781596,\n",
       " 30.390413917837883,\n",
       " 30.736851307681878,\n",
       " 29.117276216114195,\n",
       " 29.317270421162867,\n",
       " 29.152625742559756,\n",
       " 29.416020769992564,\n",
       " 30.077926641292496,\n",
       " 29.81850852240476,\n",
       " 28.39452826527322,\n",
       " 29.601946581886914,\n",
       " 27.61374226399544,\n",
       " 28.211748029066847,\n",
       " 31.20851487622943,\n",
       " 30.4421294997563,\n",
       " 27.61500319733745,\n",
       " 29.560998957096626,\n",
       " 29.455258128561706,\n",
       " 30.252836147398067,\n",
       " 29.252987890892392,\n",
       " 30.73881353252651,\n",
       " 29.417927558854867,\n",
       " 29.43078311093453,\n",
       " 29.558747853569148,\n",
       " 28.97456306583678,\n",
       " 30.755303261631813,\n",
       " 29.621860757280764,\n",
       " 29.181064721058465,\n",
       " 28.423159989049033,\n",
       " 30.150890649795286,\n",
       " 29.79798023281883,\n",
       " 29.897741439096585,\n",
       " 30.22612695915037,\n",
       " 29.485502983513797,\n",
       " 29.373715826281668,\n",
       " 29.553576632382704,\n",
       " 29.04818144698565,\n",
       " 29.995384326558405,\n",
       " 28.855596543057416,\n",
       " 29.64931970423387,\n",
       " 28.830089042154523,\n",
       " 30.616628761865556,\n",
       " 29.780666547785614,\n",
       " 29.348691522881385,\n",
       " 30.001989502505108,\n",
       " 30.141252328397606,\n",
       " 29.323719380103444,\n",
       " 28.47435582683182,\n",
       " 29.760114690288287,\n",
       " 30.340149653000175,\n",
       " 28.043699522862795,\n",
       " 29.822769965465564,\n",
       " 29.068986280615462,\n",
       " 30.605157725876825,\n",
       " 29.043904748979248,\n",
       " 28.709710315190293,\n",
       " 30.106971043718378,\n",
       " 29.42532634826157,\n",
       " 30.107109555712267,\n",
       " 29.849046046016532,\n",
       " 30.29251201623608,\n",
       " 29.054325147541757,\n",
       " 30.388073891698905,\n",
       " 29.940682591089477,\n",
       " 31.09879824598365,\n",
       " 31.547697339556585,\n",
       " 28.478723671655924,\n",
       " 30.599591282962802,\n",
       " 29.158705419533693,\n",
       " 29.46213285732545,\n",
       " 29.116602422619003,\n",
       " 27.745048951402165,\n",
       " 29.27059149438945,\n",
       " 29.759115322781184,\n",
       " 29.520257552019427,\n",
       " 32.390038583364884,\n",
       " 31.46514095678755,\n",
       " 30.341481553939794,\n",
       " 30.466610481667814,\n",
       " 30.33986146819879,\n",
       " 29.954523823967307,\n",
       " 30.642453096292403,\n",
       " 30.546971336331318,\n",
       " 28.339443337687676,\n",
       " 30.985588927036034,\n",
       " 29.591180009388758,\n",
       " 28.587444544755662,\n",
       " 29.311502151001577,\n",
       " 30.23429935595877,\n",
       " 28.06803798565769,\n",
       " 29.609180468541236,\n",
       " 29.86936238379904,\n",
       " 29.134500352453387,\n",
       " 29.51368282052202,\n",
       " 28.566714978106173,\n",
       " 30.337014643657167,\n",
       " 30.080312258912254,\n",
       " 29.3721110063387,\n",
       " 30.863157901577605,\n",
       " 27.85075165899651,\n",
       " 27.534014155430242,\n",
       " 27.648335918828835,\n",
       " 29.71241854720092,\n",
       " 30.843323863853485,\n",
       " 28.801494113964125,\n",
       " 29.954674157447524,\n",
       " 27.690061686921116,\n",
       " 30.53832917884497,\n",
       " 29.072807899039976,\n",
       " 29.74871987520179,\n",
       " 31.16983498484764,\n",
       " 29.5656001826947,\n",
       " 29.678504774982972,\n",
       " 29.544609589929323,\n",
       " 30.969447452146113,\n",
       " 28.83249482908705,\n",
       " 28.462088309235344,\n",
       " 31.408825963950676,\n",
       " 29.395190155024842,\n",
       " 28.992512720569767,\n",
       " 28.95412059263974,\n",
       " 30.633484064703197,\n",
       " 29.280944934552,\n",
       " 30.493218186136286,\n",
       " 29.249147220219157,\n",
       " 28.638268780554817,\n",
       " 27.34592132608551,\n",
       " 30.810171974385643,\n",
       " 29.443130016391823,\n",
       " 30.471626255221764,\n",
       " 31.648934167184002,\n",
       " 29.131123753929522,\n",
       " 30.190295923636267,\n",
       " 28.160804913204025,\n",
       " 27.878456374737244,\n",
       " 27.558471751523815,\n",
       " 29.223527172803152,\n",
       " 28.483949335583773,\n",
       " 30.435424683050798,\n",
       " 29.98611487476388,\n",
       " 29.686761589981643,\n",
       " 28.840621929057097,\n",
       " 29.90940596423704,\n",
       " 29.508775808586122,\n",
       " 27.305786443161672,\n",
       " 29.41245092742411,\n",
       " 27.184811269456603,\n",
       " 30.168362795393765,\n",
       " 29.19790650803372,\n",
       " 31.697390539822226,\n",
       " 30.14856122945053,\n",
       " 29.439073605228273,\n",
       " 29.780532730842527,\n",
       " 28.638937505176354,\n",
       " 30.28031542979092,\n",
       " 28.023519211082792,\n",
       " 29.957912496748598,\n",
       " 27.823927214148334,\n",
       " 30.574517815875495,\n",
       " 30.01837462953046,\n",
       " 29.217576363232936,\n",
       " 27.380768970265976,\n",
       " 30.213673665107887,\n",
       " 28.855498883738356,\n",
       " 29.09604384066656,\n",
       " 30.752687286851874,\n",
       " 29.774111302761895,\n",
       " 28.90311151200162,\n",
       " 28.66225110392655,\n",
       " 30.85807420510842,\n",
       " 28.928601141585624,\n",
       " 29.460435976535983,\n",
       " 29.8438682779457,\n",
       " 30.376821962815416,\n",
       " 30.20780171736215,\n",
       " 29.759809636501185,\n",
       " 29.58718909242255,\n",
       " 27.729930122226115,\n",
       " 28.9332424863229,\n",
       " 31.435145824779863,\n",
       " 29.292253383152246,\n",
       " 29.893829482593446,\n",
       " 30.281688117943574,\n",
       " 28.270208955853377,\n",
       " 30.98608776237253,\n",
       " 30.487288839382202,\n",
       " 30.732263249766937,\n",
       " 30.847184193203034,\n",
       " 28.438885336709692,\n",
       " 28.69318090390943,\n",
       " 30.20235464581244,\n",
       " 29.506237391032197,\n",
       " 29.552388118028322,\n",
       " 29.612900618560833,\n",
       " 29.472630989036958,\n",
       " 29.015253540980783,\n",
       " 30.345833683806735,\n",
       " 28.212052886422075,\n",
       " 29.03514753824756,\n",
       " 31.154007021163803,\n",
       " 29.85627076429882,\n",
       " 27.99787430737475,\n",
       " 28.848818393350424,\n",
       " 29.153886889269973,\n",
       " 31.52691740864623,\n",
       " 29.136480920767443,\n",
       " 30.195255039679733,\n",
       " 31.14843346860976,\n",
       " 28.94852326580639,\n",
       " 31.858121261786206,\n",
       " 28.855849682121153,\n",
       " 30.2146288076647,\n",
       " 31.27680645803324,\n",
       " 28.665457334359903,\n",
       " 30.550532866125703,\n",
       " 29.362465936303707,\n",
       " 30.398475539184236,\n",
       " 28.755689991969383,\n",
       " 29.950851300406804,\n",
       " 28.688949158648242,\n",
       " 29.05772574106612,\n",
       " 29.312703040091428,\n",
       " 27.91928258266207,\n",
       " 30.386943379653598,\n",
       " 29.104638792077296,\n",
       " 29.053575844900642,\n",
       " 27.771573699813253,\n",
       " 30.691139412416657,\n",
       " 29.50141930362154,\n",
       " 29.656465972433953,\n",
       " 28.186525094599737,\n",
       " 26.92609739499771,\n",
       " 28.536000367394827,\n",
       " 28.27605465674128,\n",
       " 31.173142336507638]"
      ]
     },
     "execution_count": 77,
     "metadata": {},
     "output_type": "execute_result"
    }
   ],
   "source": [
    "mu_emp"
   ]
  },
  {
   "cell_type": "code",
   "execution_count": 78,
   "metadata": {},
   "outputs": [
    {
     "data": {
      "text/plain": [
       "array([[<AxesSubplot:title={'center':'0'}>]], dtype=object)"
      ]
     },
     "execution_count": 78,
     "metadata": {},
     "output_type": "execute_result"
    },
    {
     "data": {
      "image/png": "[encoded data removed]",
      "text/plain": [
       "<Figure size 432x288 with 1 Axes>"
      ]
     },
     "metadata": {
      "needs_background": "light"
     },
     "output_type": "display_data"
    }
   ],
   "source": [
    "pd.DataFrame(mu_emp).hist()"
   ]
  },
  {
   "cell_type": "code",
   "execution_count": 81,
   "metadata": {},
   "outputs": [],
   "source": [
    "mu_emp_df = pd.DataFrame(mu_emp)"
   ]
  },
  {
   "cell_type": "code",
   "execution_count": 88,
   "metadata": {},
   "outputs": [
    {
     "data": {
      "text/plain": [
       "0    27.184764\n",
       "Name: 0.005, dtype: float64"
      ]
     },
     "execution_count": 88,
     "metadata": {},
     "output_type": "execute_result"
    }
   ],
   "source": [
    "mu_emp_df.quantile(0.005)"
   ]
  },
  {
   "cell_type": "code",
   "execution_count": 89,
   "metadata": {},
   "outputs": [
    {
     "data": {
      "text/plain": [
       "0    32.035932\n",
       "Name: 0.995, dtype: float64"
      ]
     },
     "execution_count": 89,
     "metadata": {},
     "output_type": "execute_result"
    }
   ],
   "source": [
    "mu_emp_df.quantile(0.995)"
   ]
  },
  {
   "cell_type": "code",
   "execution_count": 86,
   "metadata": {},
   "outputs": [
    {
     "data": {
      "text/plain": [
       "0    29.572159\n",
       "dtype: float64"
      ]
     },
     "execution_count": 86,
     "metadata": {},
     "output_type": "execute_result"
    }
   ],
   "source": [
    "mu_emp_df.mean()"
   ]
  },
  {
   "cell_type": "code",
   "execution_count": 87,
   "metadata": {},
   "outputs": [
    {
     "data": {
      "text/plain": [
       "29.542808443357657"
      ]
     },
     "execution_count": 87,
     "metadata": {},
     "output_type": "execute_result"
    }
   ],
   "source": [
    "mu"
   ]
  },
  {
   "cell_type": "code",
   "execution_count": 90,
   "metadata": {},
   "outputs": [
    {
     "data": {
      "text/plain": [
       "30.142205329804465"
      ]
     },
     "execution_count": 90,
     "metadata": {},
     "output_type": "execute_result"
    }
   ],
   "source": [
    "pop.mean()"
   ]
  },
  {
   "cell_type": "code",
   "execution_count": 91,
   "metadata": {},
   "outputs": [],
   "source": [
    "from scipy.stats import norm"
   ]
  },
  {
   "cell_type": "code",
   "execution_count": 94,
   "metadata": {},
   "outputs": [
    {
     "data": {
      "text/plain": [
       "(27.613155589381837, 31.472461297333478)"
      ]
     },
     "execution_count": 94,
     "metadata": {},
     "output_type": "execute_result"
    }
   ],
   "source": [
    "norm.interval(0.95, loc=mu, scale=s.std()/np.sqrt(100))"
   ]
  },
  {
   "cell_type": "code",
   "execution_count": null,
   "metadata": {},
   "outputs": [],
   "source": []
  }
 ],
 "metadata": {
  "kernelspec": {
   "display_name": "Python 3",
   "language": "python",
   "name": "python3"
  },
  "language_info": {
   "codemirror_mode": {
    "name": "ipython",
    "version": 3
   },
   "file_extension": ".py",
   "mimetype": "text/x-python",
   "name": "python",
   "nbconvert_exporter": "python",
   "pygments_lexer": "ipython3",
   "version": "3.7.5"
  }
 },
 "nbformat": 4,
 "nbformat_minor": 4
}
