{
 "cells": [
  {
   "cell_type": "markdown",
   "metadata": {},
   "source": [
    "## Projet Pollution"
   ]
  },
  {
   "cell_type": "code",
   "execution_count": 4,
   "metadata": {},
   "outputs": [],
   "source": [
    "import pandas as pd\n",
    "import numpy as np\n",
    "import datetime\n",
    "import matplotlib.pyplot as plt\n",
    "from statsmodels.tsa.seasonal import seasonal_decompose"
   ]
  },
  {
   "cell_type": "code",
   "execution_count": 5,
   "metadata": {},
   "outputs": [],
   "source": [
    "Paris = pd.read_csv('paris-air-quality.csv')\n",
    "Berlin = pd.read_csv('berlin,-germany-air-quality.csv')\n",
    "Vienne = pd.read_csv('vienne - wiener-straße 233, straßenbahnstation neue welt, austria-air-quality.csv')\n",
    "Vilvoorde = pd.read_csv('vilvoorde,-belgium-air-quality.csv')\n",
    "Copenhague = pd.read_csv('h.c.andersens-boulevard, copenhagen, denmark-air-quality.csv')\n",
    "Madrid = pd.read_csv('valdemoro,-madrid, spain-air-quality.csv')\n",
    "Rome = pd.read_csv('roma,-prato, italy-air-quality.csv')\n",
    "Oslo = pd.read_csv('smestad,-oslo, norway-air-quality.csv')\n",
    "Amsterdam = pd.read_csv('amsterdam-air-quality.csv')\n",
    "Lisbonne = pd.read_csv('entrecampos,-lisboa, portugal-air-quality.csv')\n",
    "Londres = pd.read_csv('london-air-quality.csv')\n",
    "Zurich = pd.read_csv('zurich-kaserne, switzerland-air-quality.csv')"
   ]
  },
  {
   "cell_type": "code",
   "execution_count": 6,
   "metadata": {},
   "outputs": [
    {
     "data": {
      "text/html": [
       "<div>\n",
       "<style scoped>\n",
       "    .dataframe tbody tr th:only-of-type {\n",
       "        vertical-align: middle;\n",
       "    }\n",
       "\n",
       "    .dataframe tbody tr th {\n",
       "        vertical-align: top;\n",
       "    }\n",
       "\n",
       "    .dataframe thead th {\n",
       "        text-align: right;\n",
       "    }\n",
       "</style>\n",
       "<table border=\"1\" class=\"dataframe\">\n",
       "  <thead>\n",
       "    <tr style=\"text-align: right;\">\n",
       "      <th></th>\n",
       "      <th>date</th>\n",
       "      <th>pm25</th>\n",
       "      <th>pm10</th>\n",
       "      <th>o3</th>\n",
       "      <th>no2</th>\n",
       "      <th>so2</th>\n",
       "      <th>co</th>\n",
       "    </tr>\n",
       "  </thead>\n",
       "  <tbody>\n",
       "    <tr>\n",
       "      <th>0</th>\n",
       "      <td>2020/10/1</td>\n",
       "      <td>45</td>\n",
       "      <td>59</td>\n",
       "      <td>23</td>\n",
       "      <td>11</td>\n",
       "      <td></td>\n",
       "      <td>2</td>\n",
       "    </tr>\n",
       "    <tr>\n",
       "      <th>1</th>\n",
       "      <td>2020/10/2</td>\n",
       "      <td>71</td>\n",
       "      <td>31</td>\n",
       "      <td>21</td>\n",
       "      <td>6</td>\n",
       "      <td></td>\n",
       "      <td>2</td>\n",
       "    </tr>\n",
       "    <tr>\n",
       "      <th>2</th>\n",
       "      <td>2020/10/3</td>\n",
       "      <td>58</td>\n",
       "      <td>10</td>\n",
       "      <td>21</td>\n",
       "      <td>8</td>\n",
       "      <td></td>\n",
       "      <td>1</td>\n",
       "    </tr>\n",
       "    <tr>\n",
       "      <th>3</th>\n",
       "      <td>2020/10/4</td>\n",
       "      <td>20</td>\n",
       "      <td>20</td>\n",
       "      <td>21</td>\n",
       "      <td>18</td>\n",
       "      <td></td>\n",
       "      <td>2</td>\n",
       "    </tr>\n",
       "    <tr>\n",
       "      <th>4</th>\n",
       "      <td>2020/10/5</td>\n",
       "      <td>33</td>\n",
       "      <td>13</td>\n",
       "      <td>15</td>\n",
       "      <td>13</td>\n",
       "      <td></td>\n",
       "      <td>1</td>\n",
       "    </tr>\n",
       "    <tr>\n",
       "      <th>...</th>\n",
       "      <td>...</td>\n",
       "      <td>...</td>\n",
       "      <td>...</td>\n",
       "      <td>...</td>\n",
       "      <td>...</td>\n",
       "      <td>...</td>\n",
       "      <td>...</td>\n",
       "    </tr>\n",
       "    <tr>\n",
       "      <th>2115</th>\n",
       "      <td>2014/12/25</td>\n",
       "      <td></td>\n",
       "      <td></td>\n",
       "      <td>7</td>\n",
       "      <td>27</td>\n",
       "      <td></td>\n",
       "      <td>3</td>\n",
       "    </tr>\n",
       "    <tr>\n",
       "      <th>2116</th>\n",
       "      <td>2014/12/26</td>\n",
       "      <td></td>\n",
       "      <td></td>\n",
       "      <td>8</td>\n",
       "      <td>25</td>\n",
       "      <td>1</td>\n",
       "      <td>3</td>\n",
       "    </tr>\n",
       "    <tr>\n",
       "      <th>2117</th>\n",
       "      <td>2014/12/27</td>\n",
       "      <td></td>\n",
       "      <td></td>\n",
       "      <td>13</td>\n",
       "      <td>24</td>\n",
       "      <td></td>\n",
       "      <td>3</td>\n",
       "    </tr>\n",
       "    <tr>\n",
       "      <th>2118</th>\n",
       "      <td>2015/9/25</td>\n",
       "      <td></td>\n",
       "      <td></td>\n",
       "      <td></td>\n",
       "      <td>21</td>\n",
       "      <td></td>\n",
       "      <td></td>\n",
       "    </tr>\n",
       "    <tr>\n",
       "      <th>2119</th>\n",
       "      <td>2015/9/26</td>\n",
       "      <td></td>\n",
       "      <td></td>\n",
       "      <td></td>\n",
       "      <td>20</td>\n",
       "      <td></td>\n",
       "      <td></td>\n",
       "    </tr>\n",
       "  </tbody>\n",
       "</table>\n",
       "<p>2120 rows × 7 columns</p>\n",
       "</div>"
      ],
      "text/plain": [
       "            date  pm25  pm10   o3  no2  so2  co\n",
       "0      2020/10/1    45    59   23   11        2\n",
       "1      2020/10/2    71    31   21    6        2\n",
       "2      2020/10/3    58    10   21    8        1\n",
       "3      2020/10/4    20    20   21   18        2\n",
       "4      2020/10/5    33    13   15   13        1\n",
       "...          ...   ...   ...  ...  ...  ...  ..\n",
       "2115  2014/12/25                7   27        3\n",
       "2116  2014/12/26                8   25    1   3\n",
       "2117  2014/12/27               13   24        3\n",
       "2118   2015/9/25                    21         \n",
       "2119   2015/9/26                    20         \n",
       "\n",
       "[2120 rows x 7 columns]"
      ]
     },
     "execution_count": 6,
     "metadata": {},
     "output_type": "execute_result"
    }
   ],
   "source": [
    "Copenhague"
   ]
  },
  {
   "cell_type": "code",
   "execution_count": null,
   "metadata": {},
   "outputs": [],
   "source": []
  },
  {
   "cell_type": "code",
   "execution_count": null,
   "metadata": {},
   "outputs": [],
   "source": [
    "Paris = Paris.drop([' pm25',' so2', ' co'], axis=1)\n",
    "Paris[' pm10'] = pd.to_numeric(Paris[' pm10'],errors='coerce')\n",
    "Paris[' o3'] = pd.to_numeric(Paris[' o3'],errors='coerce')\n",
    "Paris[' no2'] = pd.to_numeric(Paris[' no2'],errors='coerce')\n",
    "Paris['date'] = pd.to_datetime(Paris['date'])\n",
    "Paris = Paris.sort_values('date')\n",
    "Paris = Paris.dropna(axis=0)\n",
    "\n",
    "#Paris.columns"
   ]
  },
  {
   "cell_type": "code",
   "execution_count": null,
   "metadata": {},
   "outputs": [],
   "source": [
    "Paris[[' pm10', ' o3', ' no2']].plot.hist()"
   ]
  },
  {
   "cell_type": "code",
   "execution_count": null,
   "metadata": {},
   "outputs": [],
   "source": [
    "Paris_2018 = Paris[Paris['date'].isin(pd.date_range('2018-03-01', '2018-05-31'))]\n",
    "Paris_2019 = Paris[Paris['date'].isin(pd.date_range('2019-03-01', '2019-05-31'))]\n",
    "Paris_2020 = Paris[Paris[\"date\"].isin(pd.date_range('2020-03-01', '2020-05-31'))]"
   ]
  },
  {
   "cell_type": "code",
   "execution_count": null,
   "metadata": {},
   "outputs": [],
   "source": [
    "Paris_2020.mean()"
   ]
  },
  {
   "cell_type": "code",
   "execution_count": null,
   "metadata": {},
   "outputs": [],
   "source": [
    "Paris_result = Paris_2018.mean() - Paris_2019.mean()\n",
    "Paris_result"
   ]
  },
  {
   "cell_type": "code",
   "execution_count": null,
   "metadata": {},
   "outputs": [],
   "source": [
    "Berlin[' pm10'] = pd.to_numeric(Berlin[' pm10'],errors='coerce')\n",
    "Berlin[' o3'] = pd.to_numeric(Berlin[' o3'],errors='coerce')\n",
    "Berlin[' no2'] = pd.to_numeric(Berlin[' no2'],errors='coerce')\n",
    "Berlin['date'] = pd.to_datetime(Berlin['date'])\n",
    "Berlin = Berlin.sort_values('date')\n",
    "Berlin = Berlin.dropna(axis=0)"
   ]
  },
  {
   "cell_type": "code",
   "execution_count": null,
   "metadata": {},
   "outputs": [],
   "source": [
    "Berlin.plot.line()"
   ]
  },
  {
   "cell_type": "code",
   "execution_count": null,
   "metadata": {},
   "outputs": [],
   "source": [
    "Berlin_2018 = Berlin[Berlin['date'].isin(pd.date_range('2018-03-01', '2018-05-31'))]\n",
    "Berlin_2019 = Berlin[Berlin['date'].isin(pd.date_range('2019-03-01', '2019-05-31'))]\n",
    "Berlin_2020 = Berlin[Berlin[\"date\"].isin(pd.date_range('2020-03-1', '2020-05-31'))]\n"
   ]
  },
  {
   "cell_type": "code",
   "execution_count": null,
   "metadata": {},
   "outputs": [],
   "source": [
    "Berlin_2020.mean()\n"
   ]
  },
  {
   "cell_type": "code",
   "execution_count": null,
   "metadata": {},
   "outputs": [],
   "source": [
    "Berlin_2018_2019 = Berlin_2018.mean() - Berlin_2019.mean()\n",
    "Berlin_result = Berlin_2019.mean() - Berlin_2020.mean()\n"
   ]
  },
  {
   "cell_type": "code",
   "execution_count": null,
   "metadata": {},
   "outputs": [],
   "source": [
    "Berlin_2018_2019"
   ]
  },
  {
   "cell_type": "code",
   "execution_count": null,
   "metadata": {},
   "outputs": [],
   "source": [
    "Berlin_result"
   ]
  },
  {
   "cell_type": "code",
   "execution_count": null,
   "metadata": {},
   "outputs": [],
   "source": [
    "Berlin_2018 = Berlin_2018.set_index('date')\n",
    "Berlin_2018 = Berlin_2018.sort_index()\n",
    "Berlin_2018 = Berlin_2018.dropna(axis=0)"
   ]
  },
  {
   "cell_type": "code",
   "execution_count": null,
   "metadata": {},
   "outputs": [],
   "source": [
    "Berlin_2019 = Berlin_2019.set_index('date')\n",
    "Berlin_2019 = Berlin_2019.sort_index()\n",
    "Berlin_2019 = Berlin_2019.dropna(axis=0)\n"
   ]
  },
  {
   "cell_type": "code",
   "execution_count": null,
   "metadata": {},
   "outputs": [],
   "source": [
    "Berlin_2020 = Berlin_2020.set_index('date')\n",
    "Berlin_2020 = Berlin_2020.sort_index()\n",
    "Berlin_2020 = Berlin_2020.dropna(axis=0)"
   ]
  },
  {
   "cell_type": "code",
   "execution_count": null,
   "metadata": {},
   "outputs": [],
   "source": [
    "Berlin[[' pm10', ' o3', ' no2']].plot.hist()"
   ]
  },
  {
   "cell_type": "code",
   "execution_count": null,
   "metadata": {},
   "outputs": [],
   "source": []
  },
  {
   "cell_type": "code",
   "execution_count": null,
   "metadata": {},
   "outputs": [],
   "source": [
    "result_add_pm10_2018 = seasonal_decompose(Berlin_2018[' pm10'], model='additive', period = 7)\n",
    "result_add_o3_2018 = seasonal_decompose(Berlin_2018[' o3'], model='additive', period = 7)\n",
    "result_add_no2_2018 = seasonal_decompose(Berlin_2018[' no2'], model='additive', period = 7)\n",
    "result_add_pm10_2020 = seasonal_decompose(Berlin_2020[' pm10'], model='additive', period = 7)\n",
    "result_add_o3_2020 = seasonal_decompose(Berlin_2020[' o3'], model='additive', period = 7)\n",
    "result_add_no2_2020 = seasonal_decompose(Berlin_2020[' no2'], model='additive', period = 7)\n",
    "result_add_pm10_2019 = seasonal_decompose(Berlin_2019[' pm10'], model='additive', period = 7)\n",
    "result_add_o3_2019 = seasonal_decompose(Berlin_2019[' o3'], model='additive', period = 7)\n",
    "result_add_no2_2019 = seasonal_decompose(Berlin_2019[' no2'], model='additive', period = 7)"
   ]
  },
  {
   "cell_type": "code",
   "execution_count": null,
   "metadata": {},
   "outputs": [],
   "source": [
    "plt.rcParams.update({'figure.figsize': (16,5)})\n",
    "result_add_o3_2018.trend.plot()\n",
    "plt.show()\n",
    "result_add_o3_2019.trend.plot()\n",
    "plt.show()\n",
    "result_add_o3_2020.trend.plot()\n",
    "\n",
    "\n",
    "#result_add_o3_2019.trend.plot()\n",
    "#result_add_o3_2020.trend.plot()\n",
    "#result_add_no2_2019.trend.plot()\n",
    "#result_add_no2_2020.trend.plot()\n",
    "\n"
   ]
  },
  {
   "cell_type": "code",
   "execution_count": null,
   "metadata": {},
   "outputs": [],
   "source": [
    "result_add_pm10.trend.isna().value_counts()"
   ]
  },
  {
   "cell_type": "code",
   "execution_count": null,
   "metadata": {},
   "outputs": [],
   "source": [
    "Vienne[' pm25'] = pd.to_numeric(Vienne[' pm25'],errors='coerce')\n",
    "Vienne[' pm10'] = pd.to_numeric(Vienne[' pm10'],errors='coerce')\n",
    "Vienne[' no2'] = pd.to_numeric(Vienne[' no2'],errors='coerce')\n",
    "Vienne[' so2'] = pd.to_numeric(Vienne[' so2'],errors='coerce')\n",
    "Vienne[' co'] = pd.to_numeric(Vienne[' co'],errors='coerce')\n",
    "mask_v = (Vienne['date'] >= \"2019/1/1\") & (Vienne['date'] <= \"2020/10/5\")\n",
    "Vienne=Vienne.loc[mask_v]\n",
    "Vienne.isna().sum()\n",
    "#Vienne.columns"
   ]
  },
  {
   "cell_type": "code",
   "execution_count": null,
   "metadata": {},
   "outputs": [],
   "source": [
    "Vilvoorde[' pm25'] = pd.to_numeric(Vilvoorde[' pm25'],errors='coerce')\n",
    "Vilvoorde[' pm10'] = pd.to_numeric(Vilvoorde[' pm10'],errors='coerce')\n",
    "Vilvoorde[' no2'] = pd.to_numeric(Vilvoorde[' no2'],errors='coerce')\n",
    "Vilvoorde[' so2'] = pd.to_numeric(Vilvoorde[' so2'],errors='coerce')\n",
    "Vilvoorde[' co'] = pd.to_numeric(Vilvoorde[' co'],errors='coerce')\n",
    "mask_vi = (Vilvoorde['date'] >= \"2019/1/1\") & (Vilvoorde['date'] <= \"2020/10/5\")\n",
    "Vilvoorde=Vilvoorde.loc[mask_vi]\n",
    "Vilvoorde.isna().sum()\n",
    "#Vilvoorde.columns"
   ]
  },
  {
   "cell_type": "code",
   "execution_count": null,
   "metadata": {},
   "outputs": [],
   "source": [
    "Copenhague[' pm25'] = pd.to_numeric(Copenhague[' pm25'],errors='coerce')\n",
    "Copenhague[' pm10'] = pd.to_numeric(Copenhague[' pm10'],errors='coerce')\n",
    "Copenhague[' o3'] = pd.to_numeric(Copenhague[' o3'],errors='coerce')\n",
    "Copenhague[' no2'] = pd.to_numeric(Copenhague[' no2'],errors='coerce')\n",
    "Copenhague[' so2'] = pd.to_numeric(Copenhague[' so2'],errors='coerce')\n",
    "Copenhague[' co'] = pd.to_numeric(Copenhague[' co'],errors='coerce')\n",
    "mask_c = (Copenhague['date'] >= \"2019/1/1\") & (Copenhague['date'] <= \"2020/10/5\")\n",
    "Copenhague=Copenhague.loc[mask_c]\n",
    "Copenhague.isnull().sum()\n",
    "#Copenhague.columns"
   ]
  },
  {
   "cell_type": "code",
   "execution_count": null,
   "metadata": {},
   "outputs": [],
   "source": [
    "Madrid[' pm25'] = pd.to_numeric(Madrid[' pm25'],errors='coerce')\n",
    "Madrid[' pm10'] = pd.to_numeric(Madrid[' pm10'],errors='coerce')\n",
    "Madrid[' o3'] = pd.to_numeric(Madrid[' o3'],errors='coerce')\n",
    "Madrid[' no2'] = pd.to_numeric(Madrid[' no2'],errors='coerce')\n",
    "Madrid[' so2'] = pd.to_numeric(Madrid[' so2'],errors='coerce')\n",
    "Madrid[' co'] = pd.to_numeric(Madrid[' co'],errors='coerce')\n",
    "\n",
    "Madrid.isna().sum()\n",
    "#Madrid.head()"
   ]
  },
  {
   "cell_type": "code",
   "execution_count": null,
   "metadata": {},
   "outputs": [],
   "source": [
    "Rome = Rome.drop([' pm25',' so2', ' co'], axis=1)\n",
    "Rome[' pm10'] = pd.to_numeric(Rome[' pm10'],errors='coerce')\n",
    "Rome[' o3'] = pd.to_numeric(Rome[' o3'],errors='coerce')\n",
    "Rome[' no2'] = pd.to_numeric(Rome[' no2'],errors='coerce')\n",
    "Rome['date'] = pd.to_datetime(Rome['date'])\n",
    "Rome = Rome.sort_values('date')\n",
    "Rome = Rome.dropna(axis=0)\n",
    "\n",
    "#Rome.columns"
   ]
  },
  {
   "cell_type": "code",
   "execution_count": null,
   "metadata": {},
   "outputs": [],
   "source": [
    "Rome_2018 = Rome[Rome['date'].isin(pd.date_range('2018-03-01', '2018-05-31'))]\n",
    "Rome_2019 = Rome[Rome['date'].isin(pd.date_range('2019-03-01', '2019-05-31'))]\n",
    "Rome_2020 = Rome[Rome[\"date\"].isin(pd.date_range('2020-03-1', '2020-05-31'))]"
   ]
  },
  {
   "cell_type": "code",
   "execution_count": null,
   "metadata": {},
   "outputs": [],
   "source": [
    "Rome_2018 = Rome_2018.set_index('date')\n",
    "Rome_2018 = Rome_2018.sort_index()\n",
    "Rome_2018 = Rome_2018.dropna(axis=0)"
   ]
  },
  {
   "cell_type": "code",
   "execution_count": null,
   "metadata": {},
   "outputs": [],
   "source": [
    "Rome_2019 = Rome_2019.set_index('date')\n",
    "Rome_2019 = Rome_2019.sort_index()\n",
    "Rome_2019 = Rome_2019.dropna(axis=0)"
   ]
  },
  {
   "cell_type": "code",
   "execution_count": null,
   "metadata": {},
   "outputs": [],
   "source": [
    "Rome_2020 = Rome_2020.set_index('date')\n",
    "Rome_2020 = Rome_2020.sort_index()\n",
    "Rome_2020 = Rome_2020.dropna(axis=0)"
   ]
  },
  {
   "cell_type": "code",
   "execution_count": null,
   "metadata": {},
   "outputs": [],
   "source": [
    "Rome_20"
   ]
  },
  {
   "cell_type": "code",
   "execution_count": null,
   "metadata": {},
   "outputs": [],
   "source": [
    "Oslo[' pm25'] = pd.to_numeric(Oslo[' pm25'],errors='coerce')\n",
    "Oslo[' pm10'] = pd.to_numeric(Oslo[' pm10'],errors='coerce')\n",
    "Oslo[' o3'] = pd.to_numeric(Oslo[' o3'],errors='coerce')\n",
    "Oslo[' no2'] = pd.to_numeric(Oslo[' no2'],errors='coerce')\n",
    "Oslo[' so2'] = pd.to_numeric(Oslo[' so2'],errors='coerce')\n",
    "Oslo[' co'] = pd.to_numeric(Oslo[' co'],errors='coerce')\n",
    "mask_o = (Oslo['date'] >= \"2019/1/1\") & (Oslo['date'] <= \"2020/10/5\")\n",
    "Oslo=Oslo.loc[mask_o]\n",
    "Oslo.isnull().sum()\n",
    "#Oslo.columns"
   ]
  },
  {
   "cell_type": "code",
   "execution_count": null,
   "metadata": {},
   "outputs": [],
   "source": [
    "Amsterdam[' pm25'] = pd.to_numeric(Amsterdam[' pm25'],errors='coerce')\n",
    "Amsterdam[' pm10'] = pd.to_numeric(Amsterdam[' pm10'],errors='coerce')\n",
    "Amsterdam[' o3'] = pd.to_numeric(Amsterdam[' o3'],errors='coerce')\n",
    "Amsterdam[' no2'] = pd.to_numeric(Amsterdam[' no2'],errors='coerce')\n",
    "Amsterdam[' so2'] = pd.to_numeric(Amsterdam[' so2'],errors='coerce')\n",
    "Amsterdam[' co'] = pd.to_numeric(Amsterdam[' co'],errors='coerce')\n",
    "mask_a = (Amsterdam['date'] >= \"2019/1/1\") & (Amsterdam['date'] <= \"2020/10/5\")\n",
    "Amsterdam=Amsterdam.loc[mask_a]\n",
    "Amsterdam.isnull().sum()\n",
    "#Amsterdam.columns"
   ]
  },
  {
   "cell_type": "code",
   "execution_count": null,
   "metadata": {},
   "outputs": [],
   "source": [
    "Lisbonne = Lisbonne.drop([' pm25',' so2'], axis=1)\n",
    "Lisbonne[' pm10'] = pd.to_numeric(Lisbonne[' pm10'],errors='coerce')\n",
    "Lisbonne[' o3'] = pd.to_numeric(Lisbonne[' o3'],errors='coerce')\n",
    "Lisbonne[' no2'] = pd.to_numeric(Lisbonne[' no2'],errors='coerce')\n",
    "Lisbonne = Lisbonne.sort_values('date')\n",
    "Lisbonne = Lisbonne.dropna(axis=0)\n",
    "#Lisbonne.columns"
   ]
  },
  {
   "cell_type": "code",
   "execution_count": null,
   "metadata": {
    "scrolled": true
   },
   "outputs": [],
   "source": [
    "Lisbonne[[' pm10', ' o3', ' no2']].plot.hist()"
   ]
  },
  {
   "cell_type": "code",
   "execution_count": null,
   "metadata": {},
   "outputs": [],
   "source": [
    "Lisbonne_2018 = Lisbonne[Lisbonne['date'].isin(pd.date_range('2018-03-01', '2018-05-31'))]\n",
    "Lisbonne_2019 = Lisbonne[Lisbonne['date'].isin(pd.date_range('2019-03-01', '2019-05-31'))]\n",
    "Lisbonne_2020 = Lisbonne[Lisbonne[\"date\"].isin(pd.date_range('2020-03-1', '2020-05-31'))]"
   ]
  },
  {
   "cell_type": "code",
   "execution_count": null,
   "metadata": {},
   "outputs": [],
   "source": [
    "Lisbonne_2018 = Lisbonne_2018.set_index('date')\n",
    "Lisbonne_2018 = Lisbonne_2018.sort_index()\n",
    "Lisbonne_2018 = Lisbonne_2018.dropna(axis=0)\n",
    "Lisbonne_2019 = Lisbonne_2019.set_index('date')\n",
    "Lisbonne_2019 = Lisbonne_2019.sort_index()\n",
    "Lisbonne_2019 = Lisbonne_2019.dropna(axis=0)\n",
    "Lisbonne_2020 = Lisbonne_2020.set_index('date')\n",
    "Lisbonne_2020 = Lisbonne_2020.sort_index()\n",
    "Lisbonne_2020 = Lisbonne_2020.dropna(axis=0)"
   ]
  },
  {
   "cell_type": "code",
   "execution_count": null,
   "metadata": {},
   "outputs": [],
   "source": [
    "Lisbonne_2020.mean()"
   ]
  },
  {
   "cell_type": "code",
   "execution_count": null,
   "metadata": {},
   "outputs": [],
   "source": [
    "Londres = Londres.drop([' pm25',' so2',' co'], axis=1)\n",
    "\n",
    "Londres[' pm10'] = pd.to_numeric(Londres[' pm10'],errors='coerce')\n",
    "Londres[' o3'] = pd.to_numeric(Londres[' o3'],errors='coerce')\n",
    "Londres[' no2'] = pd.to_numeric(Londres[' no2'],errors='coerce')\n",
    "Londres['date'] = pd.to_datetime(Londres['date'])\n",
    "Londres.isnull().sum()\n",
    "#Londres.columns"
   ]
  },
  {
   "cell_type": "code",
   "execution_count": null,
   "metadata": {},
   "outputs": [],
   "source": [
    "Londres[[' pm10', ' o3', ' no2']].plot.hist()"
   ]
  },
  {
   "cell_type": "code",
   "execution_count": null,
   "metadata": {},
   "outputs": [],
   "source": [
    "Londres_2018 = Londres[Londres['date'].isin(pd.date_range('2018-03-01', '2018-05-31'))]\n",
    "Londres_2019 = Londres[Londres['date'].isin(pd.date_range('2019-03-01', '2019-05-31'))]\n",
    "Londres_2020 = Londres[Londres[\"date\"].isin(pd.date_range('2020-03-1', '2020-05-31'))]"
   ]
  },
  {
   "cell_type": "code",
   "execution_count": null,
   "metadata": {},
   "outputs": [],
   "source": [
    "Londres_2018 = Londres_2018.set_index('date')\n",
    "Londres_2018 = Londres_2018.sort_index()\n",
    "Londres_2018 = Londres_2018.dropna(axis=0)\n",
    "Londres_2019 = Londres_2019.set_index('date')\n",
    "Londres_2019 = Londres_2019.sort_index()\n",
    "Londres_2019 = Londres_2019.dropna(axis=0)\n",
    "Londres_2020 = Londres_2020.set_index('date')\n",
    "Londres_2020 = Londres_2020.sort_index()\n",
    "Londres_2020 = Londres_2020.dropna(axis=0)"
   ]
  },
  {
   "cell_type": "code",
   "execution_count": null,
   "metadata": {},
   "outputs": [],
   "source": [
    "Londres_2020.mean()"
   ]
  },
  {
   "cell_type": "code",
   "execution_count": null,
   "metadata": {},
   "outputs": [],
   "source": [
    "Zurich[' pm25'] = pd.to_numeric(Zurich[' pm25'],errors='coerce')\n",
    "Zurich[' pm10'] = pd.to_numeric(Zurich[' pm10'],errors='coerce')\n",
    "Zurich[' o3'] = pd.to_numeric(Zurich[' o3'],errors='coerce')\n",
    "Zurich[' no2'] = pd.to_numeric(Zurich[' no2'],errors='coerce')\n",
    "Zurich[' so2'] = pd.to_numeric(Zurich[' so2'],errors='coerce')\n",
    "mask_z = (Zurich['date'] >= \"2019/1/1\") & (Zurich['date'] <= \"2020/10/5\")\n",
    "Zurich=Zurich.loc[mask_z]\n",
    "Zurich.isnull().sum()\n",
    "#Zurich.columns"
   ]
  },
  {
   "cell_type": "code",
   "execution_count": null,
   "metadata": {},
   "outputs": [],
   "source": [
    "Zurich.info"
   ]
  },
  {
   "cell_type": "code",
   "execution_count": null,
   "metadata": {},
   "outputs": [],
   "source": []
  }
 ],
 "metadata": {
  "kernelspec": {
   "display_name": "Python 3",
   "language": "python",
   "name": "python3"
  },
  "language_info": {
   "codemirror_mode": {
    "name": "ipython",
    "version": 3
   },
   "file_extension": ".py",
   "mimetype": "text/x-python",
   "name": "python",
   "nbconvert_exporter": "python",
   "pygments_lexer": "ipython3",
   "version": "3.7.5"
  }
 },
 "nbformat": 4,
 "nbformat_minor": 4
}
