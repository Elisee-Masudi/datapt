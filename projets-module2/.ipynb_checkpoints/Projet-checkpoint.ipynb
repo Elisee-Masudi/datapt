{
 "cells": [
  {
   "cell_type": "code",
   "execution_count": 291,
   "metadata": {},
   "outputs": [],
   "source": [
    "import pandas as pd\n",
    "import numpy as np\n",
    "from scipy import stats\n",
    "import matplotlib.pyplot as plt\n",
    "import seaborn as sns"
   ]
  },
  {
   "cell_type": "code",
   "execution_count": 319,
   "metadata": {},
   "outputs": [
    {
     "data": {
      "text/html": [
       "<div>\n",
       "<style scoped>\n",
       "    .dataframe tbody tr th:only-of-type {\n",
       "        vertical-align: middle;\n",
       "    }\n",
       "\n",
       "    .dataframe tbody tr th {\n",
       "        vertical-align: top;\n",
       "    }\n",
       "\n",
       "    .dataframe thead th {\n",
       "        text-align: right;\n",
       "    }\n",
       "</style>\n",
       "<table border=\"1\" class=\"dataframe\">\n",
       "  <thead>\n",
       "    <tr style=\"text-align: right;\">\n",
       "      <th></th>\n",
       "      <th>ID</th>\n",
       "      <th>CODE_GENDER</th>\n",
       "      <th>FLAG_OWN_CAR</th>\n",
       "      <th>FLAG_OWN_REALTY</th>\n",
       "      <th>CNT_CHILDREN</th>\n",
       "      <th>AMT_INCOME_TOTAL</th>\n",
       "      <th>NAME_INCOME_TYPE</th>\n",
       "      <th>NAME_EDUCATION_TYPE</th>\n",
       "      <th>NAME_FAMILY_STATUS</th>\n",
       "      <th>NAME_HOUSING_TYPE</th>\n",
       "      <th>DAYS_BIRTH</th>\n",
       "      <th>DAYS_EMPLOYED</th>\n",
       "      <th>FLAG_MOBIL</th>\n",
       "      <th>FLAG_WORK_PHONE</th>\n",
       "      <th>FLAG_PHONE</th>\n",
       "      <th>FLAG_EMAIL</th>\n",
       "      <th>OCCUPATION_TYPE</th>\n",
       "      <th>CNT_FAM_MEMBERS</th>\n",
       "    </tr>\n",
       "  </thead>\n",
       "  <tbody>\n",
       "    <tr>\n",
       "      <th>0</th>\n",
       "      <td>5008804</td>\n",
       "      <td>M</td>\n",
       "      <td>Y</td>\n",
       "      <td>Y</td>\n",
       "      <td>0</td>\n",
       "      <td>427500.0</td>\n",
       "      <td>Working</td>\n",
       "      <td>Higher education</td>\n",
       "      <td>Civil marriage</td>\n",
       "      <td>Rented apartment</td>\n",
       "      <td>-12005</td>\n",
       "      <td>-4542</td>\n",
       "      <td>1</td>\n",
       "      <td>1</td>\n",
       "      <td>0</td>\n",
       "      <td>0</td>\n",
       "      <td>NaN</td>\n",
       "      <td>2.0</td>\n",
       "    </tr>\n",
       "    <tr>\n",
       "      <th>1</th>\n",
       "      <td>5008805</td>\n",
       "      <td>M</td>\n",
       "      <td>Y</td>\n",
       "      <td>Y</td>\n",
       "      <td>0</td>\n",
       "      <td>427500.0</td>\n",
       "      <td>Working</td>\n",
       "      <td>Higher education</td>\n",
       "      <td>Civil marriage</td>\n",
       "      <td>Rented apartment</td>\n",
       "      <td>-12005</td>\n",
       "      <td>-4542</td>\n",
       "      <td>1</td>\n",
       "      <td>1</td>\n",
       "      <td>0</td>\n",
       "      <td>0</td>\n",
       "      <td>NaN</td>\n",
       "      <td>2.0</td>\n",
       "    </tr>\n",
       "    <tr>\n",
       "      <th>2</th>\n",
       "      <td>5008806</td>\n",
       "      <td>M</td>\n",
       "      <td>Y</td>\n",
       "      <td>Y</td>\n",
       "      <td>0</td>\n",
       "      <td>112500.0</td>\n",
       "      <td>Working</td>\n",
       "      <td>Secondary / secondary special</td>\n",
       "      <td>Married</td>\n",
       "      <td>House / apartment</td>\n",
       "      <td>-21474</td>\n",
       "      <td>-1134</td>\n",
       "      <td>1</td>\n",
       "      <td>0</td>\n",
       "      <td>0</td>\n",
       "      <td>0</td>\n",
       "      <td>Security staff</td>\n",
       "      <td>2.0</td>\n",
       "    </tr>\n",
       "    <tr>\n",
       "      <th>3</th>\n",
       "      <td>5008808</td>\n",
       "      <td>F</td>\n",
       "      <td>N</td>\n",
       "      <td>Y</td>\n",
       "      <td>0</td>\n",
       "      <td>270000.0</td>\n",
       "      <td>Commercial associate</td>\n",
       "      <td>Secondary / secondary special</td>\n",
       "      <td>Single / not married</td>\n",
       "      <td>House / apartment</td>\n",
       "      <td>-19110</td>\n",
       "      <td>-3051</td>\n",
       "      <td>1</td>\n",
       "      <td>0</td>\n",
       "      <td>1</td>\n",
       "      <td>1</td>\n",
       "      <td>Sales staff</td>\n",
       "      <td>1.0</td>\n",
       "    </tr>\n",
       "    <tr>\n",
       "      <th>4</th>\n",
       "      <td>5008809</td>\n",
       "      <td>F</td>\n",
       "      <td>N</td>\n",
       "      <td>Y</td>\n",
       "      <td>0</td>\n",
       "      <td>270000.0</td>\n",
       "      <td>Commercial associate</td>\n",
       "      <td>Secondary / secondary special</td>\n",
       "      <td>Single / not married</td>\n",
       "      <td>House / apartment</td>\n",
       "      <td>-19110</td>\n",
       "      <td>-3051</td>\n",
       "      <td>1</td>\n",
       "      <td>0</td>\n",
       "      <td>1</td>\n",
       "      <td>1</td>\n",
       "      <td>Sales staff</td>\n",
       "      <td>1.0</td>\n",
       "    </tr>\n",
       "  </tbody>\n",
       "</table>\n",
       "</div>"
      ],
      "text/plain": [
       "        ID CODE_GENDER FLAG_OWN_CAR FLAG_OWN_REALTY  CNT_CHILDREN  \\\n",
       "0  5008804           M            Y               Y             0   \n",
       "1  5008805           M            Y               Y             0   \n",
       "2  5008806           M            Y               Y             0   \n",
       "3  5008808           F            N               Y             0   \n",
       "4  5008809           F            N               Y             0   \n",
       "\n",
       "   AMT_INCOME_TOTAL      NAME_INCOME_TYPE            NAME_EDUCATION_TYPE  \\\n",
       "0          427500.0               Working               Higher education   \n",
       "1          427500.0               Working               Higher education   \n",
       "2          112500.0               Working  Secondary / secondary special   \n",
       "3          270000.0  Commercial associate  Secondary / secondary special   \n",
       "4          270000.0  Commercial associate  Secondary / secondary special   \n",
       "\n",
       "     NAME_FAMILY_STATUS  NAME_HOUSING_TYPE  DAYS_BIRTH  DAYS_EMPLOYED  \\\n",
       "0        Civil marriage   Rented apartment      -12005          -4542   \n",
       "1        Civil marriage   Rented apartment      -12005          -4542   \n",
       "2               Married  House / apartment      -21474          -1134   \n",
       "3  Single / not married  House / apartment      -19110          -3051   \n",
       "4  Single / not married  House / apartment      -19110          -3051   \n",
       "\n",
       "   FLAG_MOBIL  FLAG_WORK_PHONE  FLAG_PHONE  FLAG_EMAIL OCCUPATION_TYPE  \\\n",
       "0           1                1           0           0             NaN   \n",
       "1           1                1           0           0             NaN   \n",
       "2           1                0           0           0  Security staff   \n",
       "3           1                0           1           1     Sales staff   \n",
       "4           1                0           1           1     Sales staff   \n",
       "\n",
       "   CNT_FAM_MEMBERS  \n",
       "0              2.0  \n",
       "1              2.0  \n",
       "2              2.0  \n",
       "3              1.0  \n",
       "4              1.0  "
      ]
     },
     "execution_count": 319,
     "metadata": {},
     "output_type": "execute_result"
    }
   ],
   "source": [
    "application_record = pd.read_csv(\"./data/application_record.csv\")\n",
    "application_record.head()"
   ]
  },
  {
   "cell_type": "code",
   "execution_count": 322,
   "metadata": {},
   "outputs": [
    {
     "name": "stdout",
     "output_type": "stream",
     "text": [
      "<class 'pandas.core.frame.DataFrame'>\n",
      "RangeIndex: 438557 entries, 0 to 438556\n",
      "Data columns (total 18 columns):\n",
      " #   Column               Non-Null Count   Dtype  \n",
      "---  ------               --------------   -----  \n",
      " 0   ID                   438557 non-null  int64  \n",
      " 1   CODE_GENDER          438557 non-null  object \n",
      " 2   FLAG_OWN_CAR         438557 non-null  object \n",
      " 3   FLAG_OWN_REALTY      438557 non-null  object \n",
      " 4   CNT_CHILDREN         438557 non-null  int64  \n",
      " 5   AMT_INCOME_TOTAL     438557 non-null  float64\n",
      " 6   NAME_INCOME_TYPE     438557 non-null  object \n",
      " 7   NAME_EDUCATION_TYPE  438557 non-null  object \n",
      " 8   NAME_FAMILY_STATUS   438557 non-null  object \n",
      " 9   NAME_HOUSING_TYPE    438557 non-null  object \n",
      " 10  DAYS_BIRTH           438557 non-null  int64  \n",
      " 11  DAYS_EMPLOYED        438557 non-null  int64  \n",
      " 12  FLAG_MOBIL           438557 non-null  int64  \n",
      " 13  FLAG_WORK_PHONE      438557 non-null  int64  \n",
      " 14  FLAG_PHONE           438557 non-null  int64  \n",
      " 15  FLAG_EMAIL           438557 non-null  int64  \n",
      " 16  OCCUPATION_TYPE      304354 non-null  object \n",
      " 17  CNT_FAM_MEMBERS      438557 non-null  float64\n",
      "dtypes: float64(2), int64(8), object(8)\n",
      "memory usage: 60.2+ MB\n"
     ]
    }
   ],
   "source": [
    "application_record.info()"
   ]
  },
  {
   "cell_type": "code",
   "execution_count": 293,
   "metadata": {},
   "outputs": [
    {
     "data": {
      "text/html": [
       "<div>\n",
       "<style scoped>\n",
       "    .dataframe tbody tr th:only-of-type {\n",
       "        vertical-align: middle;\n",
       "    }\n",
       "\n",
       "    .dataframe tbody tr th {\n",
       "        vertical-align: top;\n",
       "    }\n",
       "\n",
       "    .dataframe thead th {\n",
       "        text-align: right;\n",
       "    }\n",
       "</style>\n",
       "<table border=\"1\" class=\"dataframe\">\n",
       "  <thead>\n",
       "    <tr style=\"text-align: right;\">\n",
       "      <th></th>\n",
       "      <th>ID</th>\n",
       "      <th>MONTHS_BALANCE</th>\n",
       "      <th>STATUS</th>\n",
       "    </tr>\n",
       "  </thead>\n",
       "  <tbody>\n",
       "    <tr>\n",
       "      <th>0</th>\n",
       "      <td>5001711</td>\n",
       "      <td>0</td>\n",
       "      <td>X</td>\n",
       "    </tr>\n",
       "    <tr>\n",
       "      <th>1</th>\n",
       "      <td>5001711</td>\n",
       "      <td>-1</td>\n",
       "      <td>0</td>\n",
       "    </tr>\n",
       "    <tr>\n",
       "      <th>2</th>\n",
       "      <td>5001711</td>\n",
       "      <td>-2</td>\n",
       "      <td>0</td>\n",
       "    </tr>\n",
       "    <tr>\n",
       "      <th>3</th>\n",
       "      <td>5001711</td>\n",
       "      <td>-3</td>\n",
       "      <td>0</td>\n",
       "    </tr>\n",
       "    <tr>\n",
       "      <th>4</th>\n",
       "      <td>5001712</td>\n",
       "      <td>0</td>\n",
       "      <td>C</td>\n",
       "    </tr>\n",
       "  </tbody>\n",
       "</table>\n",
       "</div>"
      ],
      "text/plain": [
       "        ID  MONTHS_BALANCE STATUS\n",
       "0  5001711               0      X\n",
       "1  5001711              -1      0\n",
       "2  5001711              -2      0\n",
       "3  5001711              -3      0\n",
       "4  5001712               0      C"
      ]
     },
     "execution_count": 293,
     "metadata": {},
     "output_type": "execute_result"
    }
   ],
   "source": [
    "credit_record = pd.read_csv(\"./data/credit_record.csv\")\n",
    "credit_record.head()"
   ]
  },
  {
   "cell_type": "code",
   "execution_count": 294,
   "metadata": {},
   "outputs": [],
   "source": [
    "credit_incidents = pd.DataFrame(credit_record.groupby([\"ID\", \"STATUS\"]).count().reset_index()).pivot(index=\"ID\", columns=\"STATUS\").MONTHS_BALANCE.reset_index()\n",
    "credit_incidents[\"INCIDENTS\"]=credit_incidents.loc[:,'2':'5'].sum(axis=\"columns\")\n",
    "credit_incidents[\"MONTHS\"]=credit_incidents.loc[:,'0':'C'].sum(axis=\"columns\")\n",
    "credit_incidents[\"INCIDENTS_SCORE\"]=credit_incidents.INCIDENTS/credit_incidents.MONTHS"
   ]
  },
  {
   "cell_type": "code",
   "execution_count": 295,
   "metadata": {},
   "outputs": [
    {
     "data": {
      "text/html": [
       "<div>\n",
       "<style scoped>\n",
       "    .dataframe tbody tr th:only-of-type {\n",
       "        vertical-align: middle;\n",
       "    }\n",
       "\n",
       "    .dataframe tbody tr th {\n",
       "        vertical-align: top;\n",
       "    }\n",
       "\n",
       "    .dataframe thead th {\n",
       "        text-align: right;\n",
       "    }\n",
       "</style>\n",
       "<table border=\"1\" class=\"dataframe\">\n",
       "  <thead>\n",
       "    <tr style=\"text-align: right;\">\n",
       "      <th>STATUS</th>\n",
       "      <th>ID</th>\n",
       "      <th>0</th>\n",
       "      <th>1</th>\n",
       "      <th>2</th>\n",
       "      <th>3</th>\n",
       "      <th>4</th>\n",
       "      <th>5</th>\n",
       "      <th>C</th>\n",
       "      <th>X</th>\n",
       "      <th>INCIDENTS</th>\n",
       "      <th>MONTHS</th>\n",
       "      <th>INCIDENTS_SCORE</th>\n",
       "    </tr>\n",
       "  </thead>\n",
       "  <tbody>\n",
       "    <tr>\n",
       "      <th>0</th>\n",
       "      <td>5001711</td>\n",
       "      <td>3.0</td>\n",
       "      <td>NaN</td>\n",
       "      <td>NaN</td>\n",
       "      <td>NaN</td>\n",
       "      <td>NaN</td>\n",
       "      <td>NaN</td>\n",
       "      <td>NaN</td>\n",
       "      <td>1.0</td>\n",
       "      <td>0.0</td>\n",
       "      <td>3.0</td>\n",
       "      <td>0.0</td>\n",
       "    </tr>\n",
       "    <tr>\n",
       "      <th>1</th>\n",
       "      <td>5001712</td>\n",
       "      <td>10.0</td>\n",
       "      <td>NaN</td>\n",
       "      <td>NaN</td>\n",
       "      <td>NaN</td>\n",
       "      <td>NaN</td>\n",
       "      <td>NaN</td>\n",
       "      <td>9.0</td>\n",
       "      <td>NaN</td>\n",
       "      <td>0.0</td>\n",
       "      <td>19.0</td>\n",
       "      <td>0.0</td>\n",
       "    </tr>\n",
       "    <tr>\n",
       "      <th>2</th>\n",
       "      <td>5001713</td>\n",
       "      <td>NaN</td>\n",
       "      <td>NaN</td>\n",
       "      <td>NaN</td>\n",
       "      <td>NaN</td>\n",
       "      <td>NaN</td>\n",
       "      <td>NaN</td>\n",
       "      <td>NaN</td>\n",
       "      <td>22.0</td>\n",
       "      <td>0.0</td>\n",
       "      <td>0.0</td>\n",
       "      <td>NaN</td>\n",
       "    </tr>\n",
       "    <tr>\n",
       "      <th>3</th>\n",
       "      <td>5001714</td>\n",
       "      <td>NaN</td>\n",
       "      <td>NaN</td>\n",
       "      <td>NaN</td>\n",
       "      <td>NaN</td>\n",
       "      <td>NaN</td>\n",
       "      <td>NaN</td>\n",
       "      <td>NaN</td>\n",
       "      <td>15.0</td>\n",
       "      <td>0.0</td>\n",
       "      <td>0.0</td>\n",
       "      <td>NaN</td>\n",
       "    </tr>\n",
       "    <tr>\n",
       "      <th>4</th>\n",
       "      <td>5001715</td>\n",
       "      <td>NaN</td>\n",
       "      <td>NaN</td>\n",
       "      <td>NaN</td>\n",
       "      <td>NaN</td>\n",
       "      <td>NaN</td>\n",
       "      <td>NaN</td>\n",
       "      <td>NaN</td>\n",
       "      <td>60.0</td>\n",
       "      <td>0.0</td>\n",
       "      <td>0.0</td>\n",
       "      <td>NaN</td>\n",
       "    </tr>\n",
       "  </tbody>\n",
       "</table>\n",
       "</div>"
      ],
      "text/plain": [
       "STATUS       ID     0   1   2   3   4   5    C     X  INCIDENTS  MONTHS  \\\n",
       "0       5001711   3.0 NaN NaN NaN NaN NaN  NaN   1.0        0.0     3.0   \n",
       "1       5001712  10.0 NaN NaN NaN NaN NaN  9.0   NaN        0.0    19.0   \n",
       "2       5001713   NaN NaN NaN NaN NaN NaN  NaN  22.0        0.0     0.0   \n",
       "3       5001714   NaN NaN NaN NaN NaN NaN  NaN  15.0        0.0     0.0   \n",
       "4       5001715   NaN NaN NaN NaN NaN NaN  NaN  60.0        0.0     0.0   \n",
       "\n",
       "STATUS  INCIDENTS_SCORE  \n",
       "0                   0.0  \n",
       "1                   0.0  \n",
       "2                   NaN  \n",
       "3                   NaN  \n",
       "4                   NaN  "
      ]
     },
     "execution_count": 295,
     "metadata": {},
     "output_type": "execute_result"
    }
   ],
   "source": [
    "credit_incidents.head()"
   ]
  },
  {
   "cell_type": "code",
   "execution_count": 296,
   "metadata": {},
   "outputs": [],
   "source": [
    "application_record_unique = application_record.drop_duplicates(subset = \"ID\", keep=False, inplace=False)"
   ]
  },
  {
   "cell_type": "code",
   "execution_count": 297,
   "metadata": {},
   "outputs": [],
   "source": [
    "global_record_unique = pd.merge(application_record_unique, credit_incidents, how=\"inner\", on=\"ID\")\n",
    "global_record_unique.dropna(subset=[\"INCIDENTS_SCORE\"], inplace = True)"
   ]
  },
  {
   "cell_type": "code",
   "execution_count": 298,
   "metadata": {},
   "outputs": [
    {
     "name": "stdout",
     "output_type": "stream",
     "text": [
      "<class 'pandas.core.frame.DataFrame'>\n",
      "Int64Index: 33110 entries, 0 to 36456\n",
      "Data columns (total 29 columns):\n",
      " #   Column               Non-Null Count  Dtype  \n",
      "---  ------               --------------  -----  \n",
      " 0   ID                   33110 non-null  int64  \n",
      " 1   CODE_GENDER          33110 non-null  object \n",
      " 2   FLAG_OWN_CAR         33110 non-null  object \n",
      " 3   FLAG_OWN_REALTY      33110 non-null  object \n",
      " 4   CNT_CHILDREN         33110 non-null  int64  \n",
      " 5   AMT_INCOME_TOTAL     33110 non-null  float64\n",
      " 6   NAME_INCOME_TYPE     33110 non-null  object \n",
      " 7   NAME_EDUCATION_TYPE  33110 non-null  object \n",
      " 8   NAME_FAMILY_STATUS   33110 non-null  object \n",
      " 9   NAME_HOUSING_TYPE    33110 non-null  object \n",
      " 10  DAYS_BIRTH           33110 non-null  int64  \n",
      " 11  DAYS_EMPLOYED        33110 non-null  int64  \n",
      " 12  FLAG_MOBIL           33110 non-null  int64  \n",
      " 13  FLAG_WORK_PHONE      33110 non-null  int64  \n",
      " 14  FLAG_PHONE           33110 non-null  int64  \n",
      " 15  FLAG_EMAIL           33110 non-null  int64  \n",
      " 16  OCCUPATION_TYPE      22737 non-null  object \n",
      " 17  CNT_FAM_MEMBERS      33110 non-null  float64\n",
      " 18  0                    31963 non-null  float64\n",
      " 19  1                    4149 non-null   float64\n",
      " 20  2                    555 non-null    float64\n",
      " 21  3                    248 non-null    float64\n",
      " 22  4                    181 non-null    float64\n",
      " 23  5                    180 non-null    float64\n",
      " 24  C                    17950 non-null  float64\n",
      " 25  X                    16301 non-null  float64\n",
      " 26  INCIDENTS            33110 non-null  float64\n",
      " 27  MONTHS               33110 non-null  float64\n",
      " 28  INCIDENTS_SCORE      33110 non-null  float64\n",
      "dtypes: float64(13), int64(8), object(8)\n",
      "memory usage: 7.6+ MB\n"
     ]
    }
   ],
   "source": [
    "global_record_unique.info()"
   ]
  },
  {
   "cell_type": "code",
   "execution_count": 299,
   "metadata": {},
   "outputs": [],
   "source": [
    "global_sample_80 = global_record_unique.sample(int(33110 * 0.8))\n",
    "global_sample_20 = pd.concat([global_record_unique, global_sample_80]).drop_duplicates(keep=False)"
   ]
  },
  {
   "cell_type": "code",
   "execution_count": 301,
   "metadata": {},
   "outputs": [
    {
     "name": "stdout",
     "output_type": "stream",
     "text": [
      "<class 'pandas.core.frame.DataFrame'>\n",
      "Int64Index: 26488 entries, 29230 to 24102\n",
      "Data columns (total 29 columns):\n",
      " #   Column               Non-Null Count  Dtype  \n",
      "---  ------               --------------  -----  \n",
      " 0   ID                   26488 non-null  int64  \n",
      " 1   CODE_GENDER          26488 non-null  object \n",
      " 2   FLAG_OWN_CAR         26488 non-null  object \n",
      " 3   FLAG_OWN_REALTY      26488 non-null  object \n",
      " 4   CNT_CHILDREN         26488 non-null  int64  \n",
      " 5   AMT_INCOME_TOTAL     26488 non-null  float64\n",
      " 6   NAME_INCOME_TYPE     26488 non-null  object \n",
      " 7   NAME_EDUCATION_TYPE  26488 non-null  object \n",
      " 8   NAME_FAMILY_STATUS   26488 non-null  object \n",
      " 9   NAME_HOUSING_TYPE    26488 non-null  object \n",
      " 10  DAYS_BIRTH           26488 non-null  int64  \n",
      " 11  DAYS_EMPLOYED        26488 non-null  int64  \n",
      " 12  FLAG_MOBIL           26488 non-null  int64  \n",
      " 13  FLAG_WORK_PHONE      26488 non-null  int64  \n",
      " 14  FLAG_PHONE           26488 non-null  int64  \n",
      " 15  FLAG_EMAIL           26488 non-null  int64  \n",
      " 16  OCCUPATION_TYPE      18130 non-null  object \n",
      " 17  CNT_FAM_MEMBERS      26488 non-null  float64\n",
      " 18  0                    25575 non-null  float64\n",
      " 19  1                    3326 non-null   float64\n",
      " 20  2                    440 non-null    float64\n",
      " 21  3                    190 non-null    float64\n",
      " 22  4                    138 non-null    float64\n",
      " 23  5                    140 non-null    float64\n",
      " 24  C                    14306 non-null  float64\n",
      " 25  X                    13022 non-null  float64\n",
      " 26  INCIDENTS            26488 non-null  float64\n",
      " 27  MONTHS               26488 non-null  float64\n",
      " 28  INCIDENTS_SCORE      26488 non-null  float64\n",
      "dtypes: float64(13), int64(8), object(8)\n",
      "memory usage: 6.1+ MB\n",
      "<class 'pandas.core.frame.DataFrame'>\n",
      "Int64Index: 6622 entries, 10 to 36455\n",
      "Data columns (total 29 columns):\n",
      " #   Column               Non-Null Count  Dtype  \n",
      "---  ------               --------------  -----  \n",
      " 0   ID                   6622 non-null   int64  \n",
      " 1   CODE_GENDER          6622 non-null   object \n",
      " 2   FLAG_OWN_CAR         6622 non-null   object \n",
      " 3   FLAG_OWN_REALTY      6622 non-null   object \n",
      " 4   CNT_CHILDREN         6622 non-null   int64  \n",
      " 5   AMT_INCOME_TOTAL     6622 non-null   float64\n",
      " 6   NAME_INCOME_TYPE     6622 non-null   object \n",
      " 7   NAME_EDUCATION_TYPE  6622 non-null   object \n",
      " 8   NAME_FAMILY_STATUS   6622 non-null   object \n",
      " 9   NAME_HOUSING_TYPE    6622 non-null   object \n",
      " 10  DAYS_BIRTH           6622 non-null   int64  \n",
      " 11  DAYS_EMPLOYED        6622 non-null   int64  \n",
      " 12  FLAG_MOBIL           6622 non-null   int64  \n",
      " 13  FLAG_WORK_PHONE      6622 non-null   int64  \n",
      " 14  FLAG_PHONE           6622 non-null   int64  \n",
      " 15  FLAG_EMAIL           6622 non-null   int64  \n",
      " 16  OCCUPATION_TYPE      4607 non-null   object \n",
      " 17  CNT_FAM_MEMBERS      6622 non-null   float64\n",
      " 18  0                    6388 non-null   float64\n",
      " 19  1                    823 non-null    float64\n",
      " 20  2                    115 non-null    float64\n",
      " 21  3                    58 non-null     float64\n",
      " 22  4                    43 non-null     float64\n",
      " 23  5                    40 non-null     float64\n",
      " 24  C                    3644 non-null   float64\n",
      " 25  X                    3279 non-null   float64\n",
      " 26  INCIDENTS            6622 non-null   float64\n",
      " 27  MONTHS               6622 non-null   float64\n",
      " 28  INCIDENTS_SCORE      6622 non-null   float64\n",
      "dtypes: float64(13), int64(8), object(8)\n",
      "memory usage: 1.5+ MB\n",
      "None None\n"
     ]
    }
   ],
   "source": [
    "print(global_sample_80.info(), global_sample_20.info())"
   ]
  },
  {
   "cell_type": "code",
   "execution_count": 302,
   "metadata": {},
   "outputs": [
    {
     "data": {
      "text/plain": [
       "<AxesSubplot:>"
      ]
     },
     "execution_count": 302,
     "metadata": {},
     "output_type": "execute_result"
    },
    {
     "data": {
      "image/png": "[encoded data removed]",
      "text/plain": [
       "<Figure size 432x288 with 1 Axes>"
      ]
     },
     "metadata": {
      "needs_background": "light"
     },
     "output_type": "display_data"
    }
   ],
   "source": [
    "credit_incidents[credit_incidents.INCIDENTS_SCORE > 0].INCIDENTS_SCORE.hist()"
   ]
  },
  {
   "cell_type": "code",
   "execution_count": 303,
   "metadata": {},
   "outputs": [
    {
     "data": {
      "text/plain": [
       "<AxesSubplot:xlabel='AMT_INCOME_TOTAL', ylabel='INCIDENTS_SCORE'>"
      ]
     },
     "execution_count": 303,
     "metadata": {},
     "output_type": "execute_result"
    },
    {
     "data": {
      "image/png": "[encoded data removed]",
      "text/plain": [
       "<Figure size 432x288 with 1 Axes>"
      ]
     },
     "metadata": {
      "needs_background": "light"
     },
     "output_type": "display_data"
    }
   ],
   "source": [
    "global_record_unique.plot(x=\"AMT_INCOME_TOTAL\", y=\"INCIDENTS_SCORE\", kind=\"scatter\")"
   ]
  },
  {
   "cell_type": "code",
   "execution_count": 304,
   "metadata": {},
   "outputs": [],
   "source": [
    "def binned(data, nb_bins, bin_type='l'):\n",
    "    if bin_type == 'l':\n",
    "        bins = np.linspace(data.min(), data.max(), nb_bins)\n",
    "        return np.digitize(data, bins, right=True)\n",
    "        \n",
    "    elif bin_type == 'q':\n",
    "        bins = data.quantile(np.linspace(1/nb_bins, 1, nb_bins))\n",
    "        return pd.cut(data, bins, right=True)"
   ]
  },
  {
   "cell_type": "code",
   "execution_count": 305,
   "metadata": {},
   "outputs": [
    {
     "data": {
      "text/html": [
       "<div>\n",
       "<style scoped>\n",
       "    .dataframe tbody tr th:only-of-type {\n",
       "        vertical-align: middle;\n",
       "    }\n",
       "\n",
       "    .dataframe tbody tr th {\n",
       "        vertical-align: top;\n",
       "    }\n",
       "\n",
       "    .dataframe thead th {\n",
       "        text-align: right;\n",
       "    }\n",
       "</style>\n",
       "<table border=\"1\" class=\"dataframe\">\n",
       "  <thead>\n",
       "    <tr style=\"text-align: right;\">\n",
       "      <th></th>\n",
       "      <th>AMT_INCOME_TOTAL</th>\n",
       "    </tr>\n",
       "  </thead>\n",
       "  <tbody>\n",
       "    <tr>\n",
       "      <th>29230</th>\n",
       "      <td>(157500.0, 180000.0]</td>\n",
       "    </tr>\n",
       "    <tr>\n",
       "      <th>4851</th>\n",
       "      <td>(157500.0, 180000.0]</td>\n",
       "    </tr>\n",
       "    <tr>\n",
       "      <th>16225</th>\n",
       "      <td>(135000.0, 157500.0]</td>\n",
       "    </tr>\n",
       "    <tr>\n",
       "      <th>23583</th>\n",
       "      <td>NaN</td>\n",
       "    </tr>\n",
       "    <tr>\n",
       "      <th>33483</th>\n",
       "      <td>(157500.0, 180000.0]</td>\n",
       "    </tr>\n",
       "    <tr>\n",
       "      <th>...</th>\n",
       "      <td>...</td>\n",
       "    </tr>\n",
       "    <tr>\n",
       "      <th>28990</th>\n",
       "      <td>(225000.0, 292500.0]</td>\n",
       "    </tr>\n",
       "    <tr>\n",
       "      <th>30189</th>\n",
       "      <td>(135000.0, 157500.0]</td>\n",
       "    </tr>\n",
       "    <tr>\n",
       "      <th>5310</th>\n",
       "      <td>(202500.0, 225000.0]</td>\n",
       "    </tr>\n",
       "    <tr>\n",
       "      <th>9482</th>\n",
       "      <td>(135000.0, 157500.0]</td>\n",
       "    </tr>\n",
       "    <tr>\n",
       "      <th>24102</th>\n",
       "      <td>(112500.0, 135000.0]</td>\n",
       "    </tr>\n",
       "  </tbody>\n",
       "</table>\n",
       "<p>26488 rows × 1 columns</p>\n",
       "</div>"
      ],
      "text/plain": [
       "           AMT_INCOME_TOTAL\n",
       "29230  (157500.0, 180000.0]\n",
       "4851   (157500.0, 180000.0]\n",
       "16225  (135000.0, 157500.0]\n",
       "23583                   NaN\n",
       "33483  (157500.0, 180000.0]\n",
       "...                     ...\n",
       "28990  (225000.0, 292500.0]\n",
       "30189  (135000.0, 157500.0]\n",
       "5310   (202500.0, 225000.0]\n",
       "9482   (135000.0, 157500.0]\n",
       "24102  (112500.0, 135000.0]\n",
       "\n",
       "[26488 rows x 1 columns]"
      ]
     },
     "execution_count": 305,
     "metadata": {},
     "output_type": "execute_result"
    }
   ],
   "source": [
    "pd.DataFrame(binned(global_sample_80[\"AMT_INCOME_TOTAL\"], 9, 'q'))"
   ]
  },
  {
   "cell_type": "code",
   "execution_count": 306,
   "metadata": {},
   "outputs": [
    {
     "data": {
      "text/plain": [
       "(array([0, 1, 2, 3, 4, 5, 6, 7]),\n",
       " [Text(0, 0, '(90000.0, 112500.0]'),\n",
       "  Text(1, 0, '(112500.0, 135000.0]'),\n",
       "  Text(2, 0, '(135000.0, 157500.0]'),\n",
       "  Text(3, 0, '(157500.0, 180000.0]'),\n",
       "  Text(4, 0, '(180000.0, 202500.0]'),\n",
       "  Text(5, 0, '(202500.0, 225000.0]'),\n",
       "  Text(6, 0, '(225000.0, 292500.0]'),\n",
       "  Text(7, 0, '(292500.0, 1575000.0]')])"
      ]
     },
     "execution_count": 306,
     "metadata": {},
     "output_type": "execute_result"
    },
    {
     "data": {
      "image/png": "[encoded data removed]",
      "text/plain": [
       "<Figure size 432x288 with 1 Axes>"
      ]
     },
     "metadata": {
      "needs_background": "light"
     },
     "output_type": "display_data"
    }
   ],
   "source": [
    "sns.countplot(binned(global_sample_80[\"AMT_INCOME_TOTAL\"], 9, 'q'))\n",
    "plt.xticks(rotation='vertical')"
   ]
  },
  {
   "cell_type": "code",
   "execution_count": 307,
   "metadata": {},
   "outputs": [
    {
     "data": {
      "text/plain": [
       "(array([0, 1, 2, 3, 4, 5, 6, 7]),\n",
       " [Text(0, 0, '(90000.0, 112500.0]'),\n",
       "  Text(1, 0, '(112500.0, 135000.0]'),\n",
       "  Text(2, 0, '(135000.0, 157500.0]'),\n",
       "  Text(3, 0, '(157500.0, 180000.0]'),\n",
       "  Text(4, 0, '(180000.0, 202500.0]'),\n",
       "  Text(5, 0, '(202500.0, 225000.0]'),\n",
       "  Text(6, 0, '(225000.0, 292500.0]'),\n",
       "  Text(7, 0, '(292500.0, 1575000.0]')])"
      ]
     },
     "execution_count": 307,
     "metadata": {},
     "output_type": "execute_result"
    },
    {
     "data": {
      "image/png": "[encoded data removed]",
      "text/plain": [
       "<Figure size 432x288 with 1 Axes>"
      ]
     },
     "metadata": {
      "needs_background": "light"
     },
     "output_type": "display_data"
    }
   ],
   "source": [
    "sns.barplot(x=binned(global_sample_80[\"AMT_INCOME_TOTAL\"], 9, 'q'), y=global_sample_80.INCIDENTS_SCORE)\n",
    "plt.xticks(rotation='vertical')"
   ]
  },
  {
   "cell_type": "code",
   "execution_count": 308,
   "metadata": {},
   "outputs": [
    {
     "data": {
      "text/plain": [
       "(array([0, 1, 2, 3, 4, 5, 6, 7]),\n",
       " [Text(0, 0, '(90000.0, 112500.0]'),\n",
       "  Text(1, 0, '(112500.0, 135000.0]'),\n",
       "  Text(2, 0, '(135000.0, 157500.0]'),\n",
       "  Text(3, 0, '(157500.0, 180000.0]'),\n",
       "  Text(4, 0, '(180000.0, 202500.0]'),\n",
       "  Text(5, 0, '(202500.0, 225000.0]'),\n",
       "  Text(6, 0, '(225000.0, 292500.0]'),\n",
       "  Text(7, 0, '(292500.0, 1575000.0]')])"
      ]
     },
     "execution_count": 308,
     "metadata": {},
     "output_type": "execute_result"
    },
    {
     "data": {
      "image/png": "[encoded data removed]",
      "text/plain": [
       "<Figure size 432x288 with 1 Axes>"
      ]
     },
     "metadata": {
      "needs_background": "light"
     },
     "output_type": "display_data"
    }
   ],
   "source": [
    "sns.barplot(x=binned(global_sample_20[\"AMT_INCOME_TOTAL\"], 9, 'q'), y=global_sample_20.INCIDENTS_SCORE)\n",
    "plt.xticks(rotation='vertical')"
   ]
  },
  {
   "cell_type": "code",
   "execution_count": 323,
   "metadata": {},
   "outputs": [
    {
     "data": {
      "text/plain": [
       "{'CODE_GENDER': [0.07683177153066018, 0.3954263525713355],\n",
       " 'FLAG_OWN_CAR': [0.23065425549360125, 0.537117708401903],\n",
       " 'FLAG_OWN_REALTY': [0.04712869614900145, 0.17766420528852364],\n",
       " 'CNT_CHILDREN': [0.9999999991347839, 0.9943802849961202],\n",
       " 'NAME_INCOME_TYPE': [0.49018987824212634, 0.9807675998965375],\n",
       " 'NAME_EDUCATION_TYPE': [0.0003903274853451504, 0.019066169656865445],\n",
       " 'NAME_FAMILY_STATUS': [0.11693735745843399, 0.08163245117913911],\n",
       " 'NAME_HOUSING_TYPE': [0.022198574454855048, 8.051090437678086e-08],\n",
       " 'FLAG_MOBIL': [1.0, 1.0],\n",
       " 'FLAG_WORK_PHONE': [0.37172674084018925, 0.4604910046481939],\n",
       " 'FLAG_PHONE': [0.0403538303376267, 0.9328627370468744],\n",
       " 'FLAG_EMAIL': [0.0008563724967879365, 0.3514109355835685],\n",
       " 'OCCUPATION_TYPE': [6.046840865164647e-07, 4.3158671310858666e-17],\n",
       " 'CNT_FAM_MEMBERS': [0.9999999990458933, 0.9795809651653892]}"
      ]
     },
     "execution_count": 323,
     "metadata": {},
     "output_type": "execute_result"
    }
   ],
   "source": [
    "columns = [\"CODE_GENDER\", \"FLAG_OWN_CAR\", \"FLAG_OWN_REALTY\", \"CNT_CHILDREN\", \"NAME_INCOME_TYPE\", \"NAME_EDUCATION_TYPE\", \"NAME_FAMILY_STATUS\", \"NAME_HOUSING_TYPE\", \n",
    "           \"FLAG_MOBIL\", \"FLAG_WORK_PHONE\", \"FLAG_PHONE\", \"FLAG_EMAIL\", \"OCCUPATION_TYPE\", \"CNT_FAM_MEMBERS\"]\n",
    "\n",
    "{element: [stats.chi2_contingency(pd.crosstab(global_sample_80[element], binned(global_sample_80.INCIDENTS_SCORE, 20)))[1], \n",
    "           stats.chi2_contingency(pd.crosstab(global_sample_20[element], binned(global_sample_20.INCIDENTS_SCORE, 20)))[1]\n",
    "          ] for element in columns}"
   ]
  },
  {
   "cell_type": "code",
   "execution_count": 310,
   "metadata": {},
   "outputs": [
    {
     "data": {
      "text/plain": [
       "0.0028197559993825977"
      ]
     },
     "execution_count": 310,
     "metadata": {},
     "output_type": "execute_result"
    }
   ],
   "source": [
    "def cramers_V(var1,var2) :\n",
    "    crosstab =np.array(pd.crosstab(var1,var2, rownames=None, colnames=None)) # Cross table building\n",
    "    stat = stats.chi2_contingency(crosstab)[0] # Keeping of the test statistic of the Chi2 test\n",
    "    obs = np.sum(crosstab) # Number of observations\n",
    "    mini = min(crosstab.shape)-1 # Take the minimum value between the columns and the rows of the cross table\n",
    "    return (stat/(obs*mini))\n",
    "\n",
    "\n",
    "cramers_V(global_sample_80.NAME_EDUCATION_TYPE, global_sample_80.NAME_HOUSING_TYPE)"
   ]
  },
  {
   "cell_type": "code",
   "execution_count": 311,
   "metadata": {},
   "outputs": [],
   "source": [
    "data = global_sample_80[[\"CODE_GENDER\", \"NAME_EDUCATION_TYPE\", \"NAME_HOUSING_TYPE\", \"FLAG_PHONE\", \"FLAG_EMAIL\", \"OCCUPATION_TYPE\"]].copy()\n",
    "data['ENC_INC_SCORE'] = binned(global_sample_80.INCIDENTS_SCORE, 20)"
   ]
  },
  {
   "cell_type": "code",
   "execution_count": null,
   "metadata": {},
   "outputs": [],
   "source": [
    "\n",
    "        "
   ]
  },
  {
   "cell_type": "code",
   "execution_count": 312,
   "metadata": {},
   "outputs": [
    {
     "data": {
      "text/html": [
       "<div>\n",
       "<style scoped>\n",
       "    .dataframe tbody tr th:only-of-type {\n",
       "        vertical-align: middle;\n",
       "    }\n",
       "\n",
       "    .dataframe tbody tr th {\n",
       "        vertical-align: top;\n",
       "    }\n",
       "\n",
       "    .dataframe thead th {\n",
       "        text-align: right;\n",
       "    }\n",
       "</style>\n",
       "<table border=\"1\" class=\"dataframe\">\n",
       "  <thead>\n",
       "    <tr style=\"text-align: right;\">\n",
       "      <th></th>\n",
       "      <th>ID</th>\n",
       "      <th>CODE_GENDER</th>\n",
       "      <th>FLAG_OWN_CAR</th>\n",
       "      <th>FLAG_OWN_REALTY</th>\n",
       "      <th>CNT_CHILDREN</th>\n",
       "      <th>AMT_INCOME_TOTAL</th>\n",
       "      <th>NAME_INCOME_TYPE</th>\n",
       "      <th>NAME_EDUCATION_TYPE</th>\n",
       "      <th>NAME_FAMILY_STATUS</th>\n",
       "      <th>NAME_HOUSING_TYPE</th>\n",
       "      <th>...</th>\n",
       "      <th>1</th>\n",
       "      <th>2</th>\n",
       "      <th>3</th>\n",
       "      <th>4</th>\n",
       "      <th>5</th>\n",
       "      <th>C</th>\n",
       "      <th>X</th>\n",
       "      <th>INCIDENTS</th>\n",
       "      <th>MONTHS</th>\n",
       "      <th>INCIDENTS_SCORE</th>\n",
       "    </tr>\n",
       "  </thead>\n",
       "  <tbody>\n",
       "    <tr>\n",
       "      <th>29230</th>\n",
       "      <td>5117285</td>\n",
       "      <td>M</td>\n",
       "      <td>Y</td>\n",
       "      <td>Y</td>\n",
       "      <td>1</td>\n",
       "      <td>180000.0</td>\n",
       "      <td>Working</td>\n",
       "      <td>Higher education</td>\n",
       "      <td>Married</td>\n",
       "      <td>House / apartment</td>\n",
       "      <td>...</td>\n",
       "      <td>NaN</td>\n",
       "      <td>NaN</td>\n",
       "      <td>NaN</td>\n",
       "      <td>NaN</td>\n",
       "      <td>NaN</td>\n",
       "      <td>15.0</td>\n",
       "      <td>NaN</td>\n",
       "      <td>0.0</td>\n",
       "      <td>20.0</td>\n",
       "      <td>0.0</td>\n",
       "    </tr>\n",
       "    <tr>\n",
       "      <th>4851</th>\n",
       "      <td>5024911</td>\n",
       "      <td>F</td>\n",
       "      <td>N</td>\n",
       "      <td>N</td>\n",
       "      <td>1</td>\n",
       "      <td>175500.0</td>\n",
       "      <td>Working</td>\n",
       "      <td>Higher education</td>\n",
       "      <td>Married</td>\n",
       "      <td>House / apartment</td>\n",
       "      <td>...</td>\n",
       "      <td>NaN</td>\n",
       "      <td>NaN</td>\n",
       "      <td>NaN</td>\n",
       "      <td>NaN</td>\n",
       "      <td>NaN</td>\n",
       "      <td>39.0</td>\n",
       "      <td>1.0</td>\n",
       "      <td>0.0</td>\n",
       "      <td>40.0</td>\n",
       "      <td>0.0</td>\n",
       "    </tr>\n",
       "    <tr>\n",
       "      <th>16225</th>\n",
       "      <td>5065759</td>\n",
       "      <td>M</td>\n",
       "      <td>Y</td>\n",
       "      <td>Y</td>\n",
       "      <td>0</td>\n",
       "      <td>157500.0</td>\n",
       "      <td>Working</td>\n",
       "      <td>Secondary / secondary special</td>\n",
       "      <td>Married</td>\n",
       "      <td>House / apartment</td>\n",
       "      <td>...</td>\n",
       "      <td>NaN</td>\n",
       "      <td>NaN</td>\n",
       "      <td>NaN</td>\n",
       "      <td>NaN</td>\n",
       "      <td>NaN</td>\n",
       "      <td>2.0</td>\n",
       "      <td>NaN</td>\n",
       "      <td>0.0</td>\n",
       "      <td>14.0</td>\n",
       "      <td>0.0</td>\n",
       "    </tr>\n",
       "    <tr>\n",
       "      <th>23583</th>\n",
       "      <td>5095929</td>\n",
       "      <td>F</td>\n",
       "      <td>N</td>\n",
       "      <td>N</td>\n",
       "      <td>0</td>\n",
       "      <td>76500.0</td>\n",
       "      <td>Pensioner</td>\n",
       "      <td>Secondary / secondary special</td>\n",
       "      <td>Married</td>\n",
       "      <td>House / apartment</td>\n",
       "      <td>...</td>\n",
       "      <td>NaN</td>\n",
       "      <td>NaN</td>\n",
       "      <td>NaN</td>\n",
       "      <td>NaN</td>\n",
       "      <td>NaN</td>\n",
       "      <td>NaN</td>\n",
       "      <td>5.0</td>\n",
       "      <td>0.0</td>\n",
       "      <td>5.0</td>\n",
       "      <td>0.0</td>\n",
       "    </tr>\n",
       "    <tr>\n",
       "      <th>33483</th>\n",
       "      <td>5142633</td>\n",
       "      <td>M</td>\n",
       "      <td>Y</td>\n",
       "      <td>N</td>\n",
       "      <td>2</td>\n",
       "      <td>180000.0</td>\n",
       "      <td>Commercial associate</td>\n",
       "      <td>Secondary / secondary special</td>\n",
       "      <td>Married</td>\n",
       "      <td>House / apartment</td>\n",
       "      <td>...</td>\n",
       "      <td>NaN</td>\n",
       "      <td>NaN</td>\n",
       "      <td>NaN</td>\n",
       "      <td>NaN</td>\n",
       "      <td>NaN</td>\n",
       "      <td>5.0</td>\n",
       "      <td>NaN</td>\n",
       "      <td>0.0</td>\n",
       "      <td>14.0</td>\n",
       "      <td>0.0</td>\n",
       "    </tr>\n",
       "    <tr>\n",
       "      <th>...</th>\n",
       "      <td>...</td>\n",
       "      <td>...</td>\n",
       "      <td>...</td>\n",
       "      <td>...</td>\n",
       "      <td>...</td>\n",
       "      <td>...</td>\n",
       "      <td>...</td>\n",
       "      <td>...</td>\n",
       "      <td>...</td>\n",
       "      <td>...</td>\n",
       "      <td>...</td>\n",
       "      <td>...</td>\n",
       "      <td>...</td>\n",
       "      <td>...</td>\n",
       "      <td>...</td>\n",
       "      <td>...</td>\n",
       "      <td>...</td>\n",
       "      <td>...</td>\n",
       "      <td>...</td>\n",
       "      <td>...</td>\n",
       "      <td>...</td>\n",
       "    </tr>\n",
       "    <tr>\n",
       "      <th>28990</th>\n",
       "      <td>5116932</td>\n",
       "      <td>F</td>\n",
       "      <td>Y</td>\n",
       "      <td>Y</td>\n",
       "      <td>1</td>\n",
       "      <td>247500.0</td>\n",
       "      <td>Commercial associate</td>\n",
       "      <td>Higher education</td>\n",
       "      <td>Civil marriage</td>\n",
       "      <td>House / apartment</td>\n",
       "      <td>...</td>\n",
       "      <td>NaN</td>\n",
       "      <td>NaN</td>\n",
       "      <td>NaN</td>\n",
       "      <td>NaN</td>\n",
       "      <td>NaN</td>\n",
       "      <td>25.0</td>\n",
       "      <td>NaN</td>\n",
       "      <td>0.0</td>\n",
       "      <td>37.0</td>\n",
       "      <td>0.0</td>\n",
       "    </tr>\n",
       "    <tr>\n",
       "      <th>30189</th>\n",
       "      <td>5125311</td>\n",
       "      <td>M</td>\n",
       "      <td>N</td>\n",
       "      <td>Y</td>\n",
       "      <td>3</td>\n",
       "      <td>157500.0</td>\n",
       "      <td>Working</td>\n",
       "      <td>Secondary / secondary special</td>\n",
       "      <td>Married</td>\n",
       "      <td>House / apartment</td>\n",
       "      <td>...</td>\n",
       "      <td>2.0</td>\n",
       "      <td>NaN</td>\n",
       "      <td>NaN</td>\n",
       "      <td>NaN</td>\n",
       "      <td>NaN</td>\n",
       "      <td>NaN</td>\n",
       "      <td>1.0</td>\n",
       "      <td>0.0</td>\n",
       "      <td>5.0</td>\n",
       "      <td>0.0</td>\n",
       "    </tr>\n",
       "    <tr>\n",
       "      <th>5310</th>\n",
       "      <td>5026234</td>\n",
       "      <td>F</td>\n",
       "      <td>Y</td>\n",
       "      <td>N</td>\n",
       "      <td>0</td>\n",
       "      <td>225000.0</td>\n",
       "      <td>Commercial associate</td>\n",
       "      <td>Secondary / secondary special</td>\n",
       "      <td>Married</td>\n",
       "      <td>House / apartment</td>\n",
       "      <td>...</td>\n",
       "      <td>NaN</td>\n",
       "      <td>NaN</td>\n",
       "      <td>NaN</td>\n",
       "      <td>NaN</td>\n",
       "      <td>NaN</td>\n",
       "      <td>NaN</td>\n",
       "      <td>1.0</td>\n",
       "      <td>0.0</td>\n",
       "      <td>1.0</td>\n",
       "      <td>0.0</td>\n",
       "    </tr>\n",
       "    <tr>\n",
       "      <th>9482</th>\n",
       "      <td>5041753</td>\n",
       "      <td>F</td>\n",
       "      <td>N</td>\n",
       "      <td>Y</td>\n",
       "      <td>0</td>\n",
       "      <td>157500.0</td>\n",
       "      <td>State servant</td>\n",
       "      <td>Higher education</td>\n",
       "      <td>Married</td>\n",
       "      <td>House / apartment</td>\n",
       "      <td>...</td>\n",
       "      <td>NaN</td>\n",
       "      <td>NaN</td>\n",
       "      <td>NaN</td>\n",
       "      <td>NaN</td>\n",
       "      <td>NaN</td>\n",
       "      <td>NaN</td>\n",
       "      <td>1.0</td>\n",
       "      <td>0.0</td>\n",
       "      <td>14.0</td>\n",
       "      <td>0.0</td>\n",
       "    </tr>\n",
       "    <tr>\n",
       "      <th>24102</th>\n",
       "      <td>5096672</td>\n",
       "      <td>F</td>\n",
       "      <td>N</td>\n",
       "      <td>N</td>\n",
       "      <td>0</td>\n",
       "      <td>135000.0</td>\n",
       "      <td>Commercial associate</td>\n",
       "      <td>Secondary / secondary special</td>\n",
       "      <td>Married</td>\n",
       "      <td>House / apartment</td>\n",
       "      <td>...</td>\n",
       "      <td>NaN</td>\n",
       "      <td>NaN</td>\n",
       "      <td>NaN</td>\n",
       "      <td>NaN</td>\n",
       "      <td>NaN</td>\n",
       "      <td>5.0</td>\n",
       "      <td>NaN</td>\n",
       "      <td>0.0</td>\n",
       "      <td>17.0</td>\n",
       "      <td>0.0</td>\n",
       "    </tr>\n",
       "  </tbody>\n",
       "</table>\n",
       "<p>26488 rows × 29 columns</p>\n",
       "</div>"
      ],
      "text/plain": [
       "            ID CODE_GENDER FLAG_OWN_CAR FLAG_OWN_REALTY  CNT_CHILDREN  \\\n",
       "29230  5117285           M            Y               Y             1   \n",
       "4851   5024911           F            N               N             1   \n",
       "16225  5065759           M            Y               Y             0   \n",
       "23583  5095929           F            N               N             0   \n",
       "33483  5142633           M            Y               N             2   \n",
       "...        ...         ...          ...             ...           ...   \n",
       "28990  5116932           F            Y               Y             1   \n",
       "30189  5125311           M            N               Y             3   \n",
       "5310   5026234           F            Y               N             0   \n",
       "9482   5041753           F            N               Y             0   \n",
       "24102  5096672           F            N               N             0   \n",
       "\n",
       "       AMT_INCOME_TOTAL      NAME_INCOME_TYPE            NAME_EDUCATION_TYPE  \\\n",
       "29230          180000.0               Working               Higher education   \n",
       "4851           175500.0               Working               Higher education   \n",
       "16225          157500.0               Working  Secondary / secondary special   \n",
       "23583           76500.0             Pensioner  Secondary / secondary special   \n",
       "33483          180000.0  Commercial associate  Secondary / secondary special   \n",
       "...                 ...                   ...                            ...   \n",
       "28990          247500.0  Commercial associate               Higher education   \n",
       "30189          157500.0               Working  Secondary / secondary special   \n",
       "5310           225000.0  Commercial associate  Secondary / secondary special   \n",
       "9482           157500.0         State servant               Higher education   \n",
       "24102          135000.0  Commercial associate  Secondary / secondary special   \n",
       "\n",
       "      NAME_FAMILY_STATUS  NAME_HOUSING_TYPE  ...    1   2   3   4   5     C  \\\n",
       "29230            Married  House / apartment  ...  NaN NaN NaN NaN NaN  15.0   \n",
       "4851             Married  House / apartment  ...  NaN NaN NaN NaN NaN  39.0   \n",
       "16225            Married  House / apartment  ...  NaN NaN NaN NaN NaN   2.0   \n",
       "23583            Married  House / apartment  ...  NaN NaN NaN NaN NaN   NaN   \n",
       "33483            Married  House / apartment  ...  NaN NaN NaN NaN NaN   5.0   \n",
       "...                  ...                ...  ...  ...  ..  ..  ..  ..   ...   \n",
       "28990     Civil marriage  House / apartment  ...  NaN NaN NaN NaN NaN  25.0   \n",
       "30189            Married  House / apartment  ...  2.0 NaN NaN NaN NaN   NaN   \n",
       "5310             Married  House / apartment  ...  NaN NaN NaN NaN NaN   NaN   \n",
       "9482             Married  House / apartment  ...  NaN NaN NaN NaN NaN   NaN   \n",
       "24102            Married  House / apartment  ...  NaN NaN NaN NaN NaN   5.0   \n",
       "\n",
       "         X  INCIDENTS  MONTHS  INCIDENTS_SCORE  \n",
       "29230  NaN        0.0    20.0              0.0  \n",
       "4851   1.0        0.0    40.0              0.0  \n",
       "16225  NaN        0.0    14.0              0.0  \n",
       "23583  5.0        0.0     5.0              0.0  \n",
       "33483  NaN        0.0    14.0              0.0  \n",
       "...    ...        ...     ...              ...  \n",
       "28990  NaN        0.0    37.0              0.0  \n",
       "30189  1.0        0.0     5.0              0.0  \n",
       "5310   1.0        0.0     1.0              0.0  \n",
       "9482   1.0        0.0    14.0              0.0  \n",
       "24102  NaN        0.0    17.0              0.0  \n",
       "\n",
       "[26488 rows x 29 columns]"
      ]
     },
     "execution_count": 312,
     "metadata": {},
     "output_type": "execute_result"
    }
   ],
   "source": [
    "global_sample_80"
   ]
  },
  {
   "cell_type": "code",
   "execution_count": 313,
   "metadata": {},
   "outputs": [
    {
     "data": {
      "text/html": [
       "<div>\n",
       "<style scoped>\n",
       "    .dataframe tbody tr th:only-of-type {\n",
       "        vertical-align: middle;\n",
       "    }\n",
       "\n",
       "    .dataframe tbody tr th {\n",
       "        vertical-align: top;\n",
       "    }\n",
       "\n",
       "    .dataframe thead th {\n",
       "        text-align: right;\n",
       "    }\n",
       "</style>\n",
       "<table border=\"1\" class=\"dataframe\">\n",
       "  <thead>\n",
       "    <tr style=\"text-align: right;\">\n",
       "      <th></th>\n",
       "      <th>CODE_GENDER</th>\n",
       "      <th>NAME_EDUCATION_TYPE</th>\n",
       "      <th>NAME_HOUSING_TYPE</th>\n",
       "      <th>FLAG_PHONE</th>\n",
       "      <th>FLAG_EMAIL</th>\n",
       "      <th>OCCUPATION_TYPE</th>\n",
       "      <th>ENC_INC_SCORE</th>\n",
       "    </tr>\n",
       "  </thead>\n",
       "  <tbody>\n",
       "    <tr>\n",
       "      <th>CODE_GENDER</th>\n",
       "      <td>1.00</td>\n",
       "      <td>0.00</td>\n",
       "      <td>0.01</td>\n",
       "      <td>0.00</td>\n",
       "      <td>0.00</td>\n",
       "      <td>0.31</td>\n",
       "      <td>0.0</td>\n",
       "    </tr>\n",
       "    <tr>\n",
       "      <th>NAME_EDUCATION_TYPE</th>\n",
       "      <td>0.00</td>\n",
       "      <td>1.00</td>\n",
       "      <td>0.00</td>\n",
       "      <td>0.00</td>\n",
       "      <td>0.01</td>\n",
       "      <td>0.04</td>\n",
       "      <td>0.0</td>\n",
       "    </tr>\n",
       "    <tr>\n",
       "      <th>NAME_HOUSING_TYPE</th>\n",
       "      <td>0.01</td>\n",
       "      <td>0.00</td>\n",
       "      <td>1.00</td>\n",
       "      <td>0.00</td>\n",
       "      <td>0.00</td>\n",
       "      <td>0.01</td>\n",
       "      <td>0.0</td>\n",
       "    </tr>\n",
       "    <tr>\n",
       "      <th>FLAG_PHONE</th>\n",
       "      <td>0.00</td>\n",
       "      <td>0.00</td>\n",
       "      <td>0.00</td>\n",
       "      <td>1.00</td>\n",
       "      <td>0.00</td>\n",
       "      <td>0.01</td>\n",
       "      <td>0.0</td>\n",
       "    </tr>\n",
       "    <tr>\n",
       "      <th>FLAG_EMAIL</th>\n",
       "      <td>0.00</td>\n",
       "      <td>0.01</td>\n",
       "      <td>0.00</td>\n",
       "      <td>0.00</td>\n",
       "      <td>1.00</td>\n",
       "      <td>0.01</td>\n",
       "      <td>0.0</td>\n",
       "    </tr>\n",
       "    <tr>\n",
       "      <th>OCCUPATION_TYPE</th>\n",
       "      <td>0.31</td>\n",
       "      <td>0.04</td>\n",
       "      <td>0.01</td>\n",
       "      <td>0.01</td>\n",
       "      <td>0.01</td>\n",
       "      <td>1.00</td>\n",
       "      <td>0.0</td>\n",
       "    </tr>\n",
       "    <tr>\n",
       "      <th>ENC_INC_SCORE</th>\n",
       "      <td>0.00</td>\n",
       "      <td>0.00</td>\n",
       "      <td>0.00</td>\n",
       "      <td>0.00</td>\n",
       "      <td>0.00</td>\n",
       "      <td>0.00</td>\n",
       "      <td>1.0</td>\n",
       "    </tr>\n",
       "  </tbody>\n",
       "</table>\n",
       "</div>"
      ],
      "text/plain": [
       "                     CODE_GENDER  NAME_EDUCATION_TYPE  NAME_HOUSING_TYPE  \\\n",
       "CODE_GENDER                 1.00                 0.00               0.01   \n",
       "NAME_EDUCATION_TYPE         0.00                 1.00               0.00   \n",
       "NAME_HOUSING_TYPE           0.01                 0.00               1.00   \n",
       "FLAG_PHONE                  0.00                 0.00               0.00   \n",
       "FLAG_EMAIL                  0.00                 0.01               0.00   \n",
       "OCCUPATION_TYPE             0.31                 0.04               0.01   \n",
       "ENC_INC_SCORE               0.00                 0.00               0.00   \n",
       "\n",
       "                     FLAG_PHONE  FLAG_EMAIL  OCCUPATION_TYPE  ENC_INC_SCORE  \n",
       "CODE_GENDER                0.00        0.00             0.31            0.0  \n",
       "NAME_EDUCATION_TYPE        0.00        0.01             0.04            0.0  \n",
       "NAME_HOUSING_TYPE          0.00        0.00             0.01            0.0  \n",
       "FLAG_PHONE                 1.00        0.00             0.01            0.0  \n",
       "FLAG_EMAIL                 0.00        1.00             0.01            0.0  \n",
       "OCCUPATION_TYPE            0.01        0.01             1.00            0.0  \n",
       "ENC_INC_SCORE              0.00        0.00             0.00            1.0  "
      ]
     },
     "execution_count": 313,
     "metadata": {},
     "output_type": "execute_result"
    }
   ],
   "source": [
    "\n",
    "\n",
    "rows= []\n",
    "\n",
    "for var1 in data:\n",
    "    col = []\n",
    "    for var2 in data:\n",
    "        cramers = cramers_V(data[var1], data[var2]) # Cramer's V test\n",
    "        col.append(round(cramers,2)) # Keeping of the rounded value of the Cramer's V  \n",
    "    rows.append(col)\n",
    "    \n",
    "cramers_results = np.array(rows)\n",
    "df = pd.DataFrame(cramers_results, columns = data.columns, index =data.columns)\n",
    "df"
   ]
  },
  {
   "cell_type": "code",
   "execution_count": null,
   "metadata": {},
   "outputs": [],
   "source": [
    "\n"
   ]
  },
  {
   "cell_type": "code",
   "execution_count": null,
   "metadata": {},
   "outputs": [],
   "source": [
    "\n",
    "\n"
   ]
  },
  {
   "cell_type": "code",
   "execution_count": 314,
   "metadata": {},
   "outputs": [
    {
     "data": {
      "text/plain": [
       "(array([ 0,  1,  2,  3,  4,  5,  6,  7,  8,  9, 10, 11, 12, 13, 14, 15, 16,\n",
       "        17]),\n",
       " [Text(0, 0, 'Security staff'),\n",
       "  Text(1, 0, 'Sales staff'),\n",
       "  Text(2, 0, 'Accountants'),\n",
       "  Text(3, 0, 'Laborers'),\n",
       "  Text(4, 0, 'Managers'),\n",
       "  Text(5, 0, 'Drivers'),\n",
       "  Text(6, 0, 'Core staff'),\n",
       "  Text(7, 0, 'High skill tech staff'),\n",
       "  Text(8, 0, 'Cleaning staff'),\n",
       "  Text(9, 0, 'Cooking staff'),\n",
       "  Text(10, 0, 'Low-skill Laborers'),\n",
       "  Text(11, 0, 'Medicine staff'),\n",
       "  Text(12, 0, 'Private service staff'),\n",
       "  Text(13, 0, 'Secretaries'),\n",
       "  Text(14, 0, 'Waiters/barmen staff'),\n",
       "  Text(15, 0, 'HR staff'),\n",
       "  Text(16, 0, 'IT staff'),\n",
       "  Text(17, 0, 'Realty agents')])"
      ]
     },
     "execution_count": 314,
     "metadata": {},
     "output_type": "execute_result"
    },
    {
     "data": {
      "image/png": "[encoded data removed]",
      "text/plain": [
       "<Figure size 432x288 with 1 Axes>"
      ]
     },
     "metadata": {
      "needs_background": "light"
     },
     "output_type": "display_data"
    }
   ],
   "source": [
    "g = sns.barplot(x=global_record_unique.OCCUPATION_TYPE, y=global_record_unique.INCIDENTS_SCORE)\n",
    "plt.xticks(rotation='vertical')"
   ]
  },
  {
   "cell_type": "code",
   "execution_count": 315,
   "metadata": {},
   "outputs": [
    {
     "data": {
      "text/plain": [
       "(array([0, 1, 2, 3, 4]),\n",
       " [Text(0, 0, 'Higher education'),\n",
       "  Text(1, 0, 'Secondary / secondary special'),\n",
       "  Text(2, 0, 'Incomplete higher'),\n",
       "  Text(3, 0, 'Lower secondary'),\n",
       "  Text(4, 0, 'Academic degree')])"
      ]
     },
     "execution_count": 315,
     "metadata": {},
     "output_type": "execute_result"
    },
    {
     "data": {
      "image/png": "[encoded data removed]",
      "text/plain": [
       "<Figure size 432x288 with 1 Axes>"
      ]
     },
     "metadata": {
      "needs_background": "light"
     },
     "output_type": "display_data"
    }
   ],
   "source": [
    "g = sns.barplot(x=global_record_unique.NAME_EDUCATION_TYPE, y=global_record_unique.INCIDENTS_SCORE)\n",
    "plt.xticks(rotation='vertical')"
   ]
  },
  {
   "cell_type": "code",
   "execution_count": 316,
   "metadata": {},
   "outputs": [
    {
     "data": {
      "text/plain": [
       "(array([0, 1]), [Text(0, 0, 'M'), Text(1, 0, 'F')])"
      ]
     },
     "execution_count": 316,
     "metadata": {},
     "output_type": "execute_result"
    },
    {
     "data": {
      "image/png": "[encoded data removed]",
      "text/plain": [
       "<Figure size 432x288 with 1 Axes>"
      ]
     },
     "metadata": {
      "needs_background": "light"
     },
     "output_type": "display_data"
    }
   ],
   "source": [
    "g = sns.barplot(x=global_record_unique.CODE_GENDER, y=global_record_unique.INCIDENTS_SCORE)\n",
    "plt.xticks(rotation='vertical')"
   ]
  },
  {
   "cell_type": "code",
   "execution_count": 317,
   "metadata": {},
   "outputs": [
    {
     "data": {
      "text/plain": [
       "(array([0, 1, 2, 3, 4, 5]),\n",
       " [Text(0, 0, 'Rented apartment'),\n",
       "  Text(1, 0, 'House / apartment'),\n",
       "  Text(2, 0, 'Municipal apartment'),\n",
       "  Text(3, 0, 'With parents'),\n",
       "  Text(4, 0, 'Co-op apartment'),\n",
       "  Text(5, 0, 'Office apartment')])"
      ]
     },
     "execution_count": 317,
     "metadata": {},
     "output_type": "execute_result"
    },
    {
     "data": {
      "image/png": "[encoded data removed]",
      "text/plain": [
       "<Figure size 432x288 with 1 Axes>"
      ]
     },
     "metadata": {
      "needs_background": "light"
     },
     "output_type": "display_data"
    }
   ],
   "source": [
    "g = sns.barplot(x=global_record_unique.NAME_HOUSING_TYPE, y=global_record_unique.INCIDENTS_SCORE)\n",
    "plt.xticks(rotation='vertical')"
   ]
  },
  {
   "cell_type": "code",
   "execution_count": 318,
   "metadata": {},
   "outputs": [
    {
     "data": {
      "text/plain": [
       "(array([0, 1]), [Text(0, 0, '0'), Text(1, 0, '1')])"
      ]
     },
     "execution_count": 318,
     "metadata": {},
     "output_type": "execute_result"
    },
    {
     "data": {
      "image/png": "[encoded data removed]",
      "text/plain": [
       "<Figure size 432x288 with 1 Axes>"
      ]
     },
     "metadata": {
      "needs_background": "light"
     },
     "output_type": "display_data"
    }
   ],
   "source": [
    "g = sns.barplot(x=global_record_unique.FLAG_EMAIL, y=global_record_unique.INCIDENTS_SCORE)\n",
    "plt.xticks(rotation='vertical')"
   ]
  },
  {
   "cell_type": "code",
   "execution_count": 290,
   "metadata": {},
   "outputs": [
    {
     "data": {
      "text/plain": [
       "ID                  0.008388\n",
       "CNT_CHILDREN       -0.004015\n",
       "AMT_INCOME_TOTAL    0.007468\n",
       "DAYS_BIRTH         -0.003237\n",
       "DAYS_EMPLOYED       0.000544\n",
       "FLAG_MOBIL               NaN\n",
       "FLAG_WORK_PHONE     0.000497\n",
       "FLAG_PHONE          0.008539\n",
       "FLAG_EMAIL          0.000665\n",
       "CNT_FAM_MEMBERS    -0.005916\n",
       "0                  -0.021612\n",
       "1                   0.070244\n",
       "2                   0.143999\n",
       "3                   0.020292\n",
       "4                   0.013488\n",
       "5                   0.573025\n",
       "C                  -0.026585\n",
       "X                   0.058711\n",
       "INCIDENTS           0.813749\n",
       "MONTHS              0.028966\n",
       "INCIDENTS_SCORE     1.000000\n",
       "Name: INCIDENTS_SCORE, dtype: float64"
      ]
     },
     "execution_count": 290,
     "metadata": {},
     "output_type": "execute_result"
    }
   ],
   "source": [
    "global_record_unique.corr()['INCIDENTS_SCORE']"
   ]
  },
  {
   "cell_type": "code",
   "execution_count": null,
   "metadata": {},
   "outputs": [],
   "source": []
  }
 ],
 "metadata": {
  "kernelspec": {
   "display_name": "Python 3",
   "language": "python",
   "name": "python3"
  },
  "language_info": {
   "codemirror_mode": {
    "name": "ipython",
    "version": 3
   },
   "file_extension": ".py",
   "mimetype": "text/x-python",
   "name": "python",
   "nbconvert_exporter": "python",
   "pygments_lexer": "ipython3",
   "version": "3.7.7"
  }
 },
 "nbformat": 4,
 "nbformat_minor": 4
}
