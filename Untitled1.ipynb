{
 "cells": [
  {
   "cell_type": "code",
   "execution_count": 2,
   "metadata": {},
   "outputs": [],
   "source": [
    "from github import Github"
   ]
  },
  {
   "cell_type": "code",
   "execution_count": 3,
   "metadata": {},
   "outputs": [
    {
     "data": {
      "text/plain": [
       "\u001b[0;31mInit signature:\u001b[0m\n",
       "\u001b[0mGithub\u001b[0m\u001b[0;34m(\u001b[0m\u001b[0;34m\u001b[0m\n",
       "\u001b[0;34m\u001b[0m    \u001b[0mlogin_or_token\u001b[0m\u001b[0;34m=\u001b[0m\u001b[0;32mNone\u001b[0m\u001b[0;34m,\u001b[0m\u001b[0;34m\u001b[0m\n",
       "\u001b[0;34m\u001b[0m    \u001b[0mpassword\u001b[0m\u001b[0;34m=\u001b[0m\u001b[0;32mNone\u001b[0m\u001b[0;34m,\u001b[0m\u001b[0;34m\u001b[0m\n",
       "\u001b[0;34m\u001b[0m    \u001b[0mjwt\u001b[0m\u001b[0;34m=\u001b[0m\u001b[0;32mNone\u001b[0m\u001b[0;34m,\u001b[0m\u001b[0;34m\u001b[0m\n",
       "\u001b[0;34m\u001b[0m    \u001b[0mbase_url\u001b[0m\u001b[0;34m=\u001b[0m\u001b[0;34m'https://api.github.com'\u001b[0m\u001b[0;34m,\u001b[0m\u001b[0;34m\u001b[0m\n",
       "\u001b[0;34m\u001b[0m    \u001b[0mtimeout\u001b[0m\u001b[0;34m=\u001b[0m\u001b[0;36m15\u001b[0m\u001b[0;34m,\u001b[0m\u001b[0;34m\u001b[0m\n",
       "\u001b[0;34m\u001b[0m    \u001b[0mclient_id\u001b[0m\u001b[0;34m=\u001b[0m\u001b[0;32mNone\u001b[0m\u001b[0;34m,\u001b[0m\u001b[0;34m\u001b[0m\n",
       "\u001b[0;34m\u001b[0m    \u001b[0mclient_secret\u001b[0m\u001b[0;34m=\u001b[0m\u001b[0;32mNone\u001b[0m\u001b[0;34m,\u001b[0m\u001b[0;34m\u001b[0m\n",
       "\u001b[0;34m\u001b[0m    \u001b[0muser_agent\u001b[0m\u001b[0;34m=\u001b[0m\u001b[0;34m'PyGithub/Python'\u001b[0m\u001b[0;34m,\u001b[0m\u001b[0;34m\u001b[0m\n",
       "\u001b[0;34m\u001b[0m    \u001b[0mper_page\u001b[0m\u001b[0;34m=\u001b[0m\u001b[0;36m30\u001b[0m\u001b[0;34m,\u001b[0m\u001b[0;34m\u001b[0m\n",
       "\u001b[0;34m\u001b[0m    \u001b[0mverify\u001b[0m\u001b[0;34m=\u001b[0m\u001b[0;32mTrue\u001b[0m\u001b[0;34m,\u001b[0m\u001b[0;34m\u001b[0m\n",
       "\u001b[0;34m\u001b[0m    \u001b[0mretry\u001b[0m\u001b[0;34m=\u001b[0m\u001b[0;32mNone\u001b[0m\u001b[0;34m,\u001b[0m\u001b[0;34m\u001b[0m\n",
       "\u001b[0;34m\u001b[0m\u001b[0;34m)\u001b[0m\u001b[0;34m\u001b[0m\u001b[0;34m\u001b[0m\u001b[0m\n",
       "\u001b[0;31mDocstring:\u001b[0m      This is the main class you instantiate to access the Github API v3. Optional parameters allow different authentication methods.\n",
       "\u001b[0;31mInit docstring:\u001b[0m\n",
       ":param login_or_token: string\n",
       ":param password: string\n",
       ":param base_url: string\n",
       ":param timeout: integer\n",
       ":param client_id: string\n",
       ":param client_secret: string\n",
       ":param user_agent: string\n",
       ":param per_page: int\n",
       ":param api_preview: bool\n",
       ":param verify: boolean or string\n",
       ":param retry: int or urllib3.util.retry.Retry object\n",
       "\u001b[0;31mFile:\u001b[0m           ~/.local/share/virtualenvs/ironhack-UuIfidyp/lib/python3.7/site-packages/github/MainClass.py\n",
       "\u001b[0;31mType:\u001b[0m           type\n",
       "\u001b[0;31mSubclasses:\u001b[0m     \n"
      ]
     },
     "metadata": {},
     "output_type": "display_data"
    }
   ],
   "source": [
    "?Github"
   ]
  },
  {
   "cell_type": "code",
   "execution_count": 4,
   "metadata": {},
   "outputs": [],
   "source": [
    "g = Github(\"bb8d89035213033d2e3fcd827120dcdd9a9a96bf\")"
   ]
  },
  {
   "cell_type": "code",
   "execution_count": 34,
   "metadata": {},
   "outputs": [],
   "source": [
    "prdf = []"
   ]
  },
  {
   "cell_type": "code",
   "execution_count": 35,
   "metadata": {},
   "outputs": [],
   "source": [
    "for pr in g.get_repo(\"elastic/elasticsearch\").get_pulls():\n",
    "    try:\n",
    "        prdict = {\n",
    "            'title': pr.title,\n",
    "            'state': pr.state,\n",
    "            'user': pr.user.login,\n",
    "            'labels': [(lab.name, lab.description) for lab in pr.labels],\n",
    "            'created_at': pr.created_at,\n",
    "            'updated_at': pr.updated_at,\n",
    "            'merged_at': pr.merged_at,\n",
    "            'closed_at': pr.closed_at,\n",
    "            #'assignee': pr.assignee.login,\n",
    "            #'assignees': [ass.login for ass in pr.assignees],\n",
    "            'comments': [c.body for c in pr.get_comments()],\n",
    "            'commits': pr.commits\n",
    "        }\n",
    "        prdf.append(prdict)\n",
    "    except:\n",
    "        print(pr)"
   ]
  },
  {
   "cell_type": "code",
   "execution_count": 28,
   "metadata": {},
   "outputs": [],
   "source": [
    "import pandas as pd"
   ]
  },
  {
   "cell_type": "code",
   "execution_count": 37,
   "metadata": {},
   "outputs": [],
   "source": [
    "pr_df = pd.DataFrame(prdf)"
   ]
  },
  {
   "cell_type": "code",
   "execution_count": 38,
   "metadata": {},
   "outputs": [
    {
     "data": {
      "text/html": [
       "<div>\n",
       "<style scoped>\n",
       "    .dataframe tbody tr th:only-of-type {\n",
       "        vertical-align: middle;\n",
       "    }\n",
       "\n",
       "    .dataframe tbody tr th {\n",
       "        vertical-align: top;\n",
       "    }\n",
       "\n",
       "    .dataframe thead th {\n",
       "        text-align: right;\n",
       "    }\n",
       "</style>\n",
       "<table border=\"1\" class=\"dataframe\">\n",
       "  <thead>\n",
       "    <tr style=\"text-align: right;\">\n",
       "      <th></th>\n",
       "      <th>title</th>\n",
       "      <th>state</th>\n",
       "      <th>user</th>\n",
       "      <th>labels</th>\n",
       "      <th>created_at</th>\n",
       "      <th>updated_at</th>\n",
       "      <th>merged_at</th>\n",
       "      <th>closed_at</th>\n",
       "      <th>comments</th>\n",
       "      <th>commits</th>\n",
       "    </tr>\n",
       "  </thead>\n",
       "  <tbody>\n",
       "    <tr>\n",
       "      <th>0</th>\n",
       "      <td>Async search: don't track fetch failures</td>\n",
       "      <td>open</td>\n",
       "      <td>javanna</td>\n",
       "      <td>[(:Search/Search, Search-related issues that d...</td>\n",
       "      <td>2020-09-08 15:21:02</td>\n",
       "      <td>2020-09-08 15:21:05</td>\n",
       "      <td>None</td>\n",
       "      <td>None</td>\n",
       "      <td>[]</td>\n",
       "      <td>1</td>\n",
       "    </tr>\n",
       "    <tr>\n",
       "      <th>1</th>\n",
       "      <td>[DOCS] Fix Field Caps API docs</td>\n",
       "      <td>open</td>\n",
       "      <td>jrodewig</td>\n",
       "      <td>[(&gt;docs, General docs changes), (Team:Docs, Me...</td>\n",
       "      <td>2020-09-08 15:10:33</td>\n",
       "      <td>2020-09-08 15:10:36</td>\n",
       "      <td>None</td>\n",
       "      <td>None</td>\n",
       "      <td>[]</td>\n",
       "      <td>1</td>\n",
       "    </tr>\n",
       "    <tr>\n",
       "      <th>2</th>\n",
       "      <td>[ML] Add changed stats fields as exception in ...</td>\n",
       "      <td>open</td>\n",
       "      <td>dimitris-athanasiou</td>\n",
       "      <td>[(:ml, Machine learning), (&gt;test, Issues or PR...</td>\n",
       "      <td>2020-09-08 14:59:34</td>\n",
       "      <td>2020-09-08 15:21:58</td>\n",
       "      <td>None</td>\n",
       "      <td>None</td>\n",
       "      <td>[I think you are missing the line where this s...</td>\n",
       "      <td>1</td>\n",
       "    </tr>\n",
       "    <tr>\n",
       "      <th>3</th>\n",
       "      <td>[7.x] [ML] setting require_alias to previous v...</td>\n",
       "      <td>open</td>\n",
       "      <td>benwtrent</td>\n",
       "      <td>[(:ml, Machine learning), (backport, )]</td>\n",
       "      <td>2020-09-08 14:57:35</td>\n",
       "      <td>2020-09-08 14:57:38</td>\n",
       "      <td>None</td>\n",
       "      <td>None</td>\n",
       "      <td>[]</td>\n",
       "      <td>1</td>\n",
       "    </tr>\n",
       "    <tr>\n",
       "      <th>4</th>\n",
       "      <td>[TEST] adjust TransportSearchActionTests</td>\n",
       "      <td>open</td>\n",
       "      <td>javanna</td>\n",
       "      <td>[(:Search/Search, Search-related issues that d...</td>\n",
       "      <td>2020-09-08 14:55:44</td>\n",
       "      <td>2020-09-08 15:22:31</td>\n",
       "      <td>None</td>\n",
       "      <td>None</td>\n",
       "      <td>[]</td>\n",
       "      <td>1</td>\n",
       "    </tr>\n",
       "    <tr>\n",
       "      <th>...</th>\n",
       "      <td>...</td>\n",
       "      <td>...</td>\n",
       "      <td>...</td>\n",
       "      <td>...</td>\n",
       "      <td>...</td>\n",
       "      <td>...</td>\n",
       "      <td>...</td>\n",
       "      <td>...</td>\n",
       "      <td>...</td>\n",
       "      <td>...</td>\n",
       "    </tr>\n",
       "    <tr>\n",
       "      <th>365</th>\n",
       "      <td>Fix handling of `JAVA_HOME` containg quotes</td>\n",
       "      <td>open</td>\n",
       "      <td>olcbean</td>\n",
       "      <td>[(:Core/Infra/Packaging, RPM and deb packaging...</td>\n",
       "      <td>2017-10-23 10:05:52</td>\n",
       "      <td>2020-05-04 22:53:42</td>\n",
       "      <td>None</td>\n",
       "      <td>None</td>\n",
       "      <td>[quotes, Perhaps merge these two if statements...</td>\n",
       "      <td>6</td>\n",
       "    </tr>\n",
       "    <tr>\n",
       "      <th>366</th>\n",
       "      <td>Define a templated systemd instance service un...</td>\n",
       "      <td>open</td>\n",
       "      <td>tylerjl</td>\n",
       "      <td>[(:Core/Infra/Packaging, RPM and deb packaging...</td>\n",
       "      <td>2017-08-16 16:01:18</td>\n",
       "      <td>2020-07-15 11:07:12</td>\n",
       "      <td>None</td>\n",
       "      <td>None</td>\n",
       "      <td>[Do you think we should add `AssertPathExists`...</td>\n",
       "      <td>3</td>\n",
       "    </tr>\n",
       "    <tr>\n",
       "      <th>367</th>\n",
       "      <td>Remove distance_type support from GeoDistance</td>\n",
       "      <td>open</td>\n",
       "      <td>nknize</td>\n",
       "      <td>[(:Analytics/Geo, Indexing, search aggregation...</td>\n",
       "      <td>2017-02-06 23:12:49</td>\n",
       "      <td>2020-07-23 16:22:05</td>\n",
       "      <td>None</td>\n",
       "      <td>None</td>\n",
       "      <td>[It doesn't look like `DistanceUnit` is availa...</td>\n",
       "      <td>11</td>\n",
       "    </tr>\n",
       "    <tr>\n",
       "      <th>368</th>\n",
       "      <td>Support extraction of all metadata</td>\n",
       "      <td>open</td>\n",
       "      <td>dadoonet</td>\n",
       "      <td>[(:Core/Features/Ingest, Execution or manageme...</td>\n",
       "      <td>2016-12-23 14:55:40</td>\n",
       "      <td>2020-05-04 22:54:54</td>\n",
       "      <td>None</td>\n",
       "      <td>None</td>\n",
       "      <td>[from a user perspective: why is this called `...</td>\n",
       "      <td>22</td>\n",
       "    </tr>\n",
       "    <tr>\n",
       "      <th>369</th>\n",
       "      <td>Add multipolygon support to GeoPolygonQueryBui...</td>\n",
       "      <td>open</td>\n",
       "      <td>nknize</td>\n",
       "      <td>[(:Analytics/Geo, Indexing, search aggregation...</td>\n",
       "      <td>2016-12-16 17:58:58</td>\n",
       "      <td>2020-05-04 22:54:56</td>\n",
       "      <td>None</td>\n",
       "      <td>None</td>\n",
       "      <td>[Hmm do we also do `lon` then `lat` elsewhere ...</td>\n",
       "      <td>4</td>\n",
       "    </tr>\n",
       "  </tbody>\n",
       "</table>\n",
       "<p>370 rows × 10 columns</p>\n",
       "</div>"
      ],
      "text/plain": [
       "                                                 title state  \\\n",
       "0             Async search: don't track fetch failures  open   \n",
       "1                       [DOCS] Fix Field Caps API docs  open   \n",
       "2    [ML] Add changed stats fields as exception in ...  open   \n",
       "3    [7.x] [ML] setting require_alias to previous v...  open   \n",
       "4             [TEST] adjust TransportSearchActionTests  open   \n",
       "..                                                 ...   ...   \n",
       "365        Fix handling of `JAVA_HOME` containg quotes  open   \n",
       "366  Define a templated systemd instance service un...  open   \n",
       "367      Remove distance_type support from GeoDistance  open   \n",
       "368                 Support extraction of all metadata  open   \n",
       "369  Add multipolygon support to GeoPolygonQueryBui...  open   \n",
       "\n",
       "                    user                                             labels  \\\n",
       "0                javanna  [(:Search/Search, Search-related issues that d...   \n",
       "1               jrodewig  [(>docs, General docs changes), (Team:Docs, Me...   \n",
       "2    dimitris-athanasiou  [(:ml, Machine learning), (>test, Issues or PR...   \n",
       "3              benwtrent            [(:ml, Machine learning), (backport, )]   \n",
       "4                javanna  [(:Search/Search, Search-related issues that d...   \n",
       "..                   ...                                                ...   \n",
       "365              olcbean  [(:Core/Infra/Packaging, RPM and deb packaging...   \n",
       "366              tylerjl  [(:Core/Infra/Packaging, RPM and deb packaging...   \n",
       "367               nknize  [(:Analytics/Geo, Indexing, search aggregation...   \n",
       "368             dadoonet  [(:Core/Features/Ingest, Execution or manageme...   \n",
       "369               nknize  [(:Analytics/Geo, Indexing, search aggregation...   \n",
       "\n",
       "             created_at          updated_at merged_at closed_at  \\\n",
       "0   2020-09-08 15:21:02 2020-09-08 15:21:05      None      None   \n",
       "1   2020-09-08 15:10:33 2020-09-08 15:10:36      None      None   \n",
       "2   2020-09-08 14:59:34 2020-09-08 15:21:58      None      None   \n",
       "3   2020-09-08 14:57:35 2020-09-08 14:57:38      None      None   \n",
       "4   2020-09-08 14:55:44 2020-09-08 15:22:31      None      None   \n",
       "..                  ...                 ...       ...       ...   \n",
       "365 2017-10-23 10:05:52 2020-05-04 22:53:42      None      None   \n",
       "366 2017-08-16 16:01:18 2020-07-15 11:07:12      None      None   \n",
       "367 2017-02-06 23:12:49 2020-07-23 16:22:05      None      None   \n",
       "368 2016-12-23 14:55:40 2020-05-04 22:54:54      None      None   \n",
       "369 2016-12-16 17:58:58 2020-05-04 22:54:56      None      None   \n",
       "\n",
       "                                              comments  commits  \n",
       "0                                                   []        1  \n",
       "1                                                   []        1  \n",
       "2    [I think you are missing the line where this s...        1  \n",
       "3                                                   []        1  \n",
       "4                                                   []        1  \n",
       "..                                                 ...      ...  \n",
       "365  [quotes, Perhaps merge these two if statements...        6  \n",
       "366  [Do you think we should add `AssertPathExists`...        3  \n",
       "367  [It doesn't look like `DistanceUnit` is availa...       11  \n",
       "368  [from a user perspective: why is this called `...       22  \n",
       "369  [Hmm do we also do `lon` then `lat` elsewhere ...        4  \n",
       "\n",
       "[370 rows x 10 columns]"
      ]
     },
     "execution_count": 38,
     "metadata": {},
     "output_type": "execute_result"
    }
   ],
   "source": [
    "pr_df"
   ]
  },
  {
   "cell_type": "code",
   "execution_count": 31,
   "metadata": {},
   "outputs": [
    {
     "name": "stdout",
     "output_type": "stream",
     "text": [
      "<class 'pandas.core.frame.DataFrame'>\n",
      "RangeIndex: 370 entries, 0 to 369\n",
      "Data columns (total 9 columns):\n",
      " #   Column      Non-Null Count  Dtype         \n",
      "---  ------      --------------  -----         \n",
      " 0   title       370 non-null    object        \n",
      " 1   state       370 non-null    object        \n",
      " 2   user        370 non-null    object        \n",
      " 3   labels      370 non-null    object        \n",
      " 4   created_at  370 non-null    datetime64[ns]\n",
      " 5   updated_at  370 non-null    datetime64[ns]\n",
      " 6   merged_at   0 non-null      object        \n",
      " 7   closed_at   0 non-null      object        \n",
      " 8   comments    370 non-null    object        \n",
      "dtypes: datetime64[ns](2), object(7)\n",
      "memory usage: 26.1+ KB\n"
     ]
    }
   ],
   "source": [
    "pr_df.info()"
   ]
  },
  {
   "cell_type": "code",
   "execution_count": 32,
   "metadata": {},
   "outputs": [
    {
     "data": {
      "text/plain": [
       "4"
      ]
     },
     "execution_count": 32,
     "metadata": {},
     "output_type": "execute_result"
    }
   ],
   "source": [
    "pr.commits"
   ]
  },
  {
   "cell_type": "code",
   "execution_count": 42,
   "metadata": {},
   "outputs": [
    {
     "data": {
      "text/plain": [
       "<AxesSubplot:>"
      ]
     },
     "execution_count": 42,
     "metadata": {},
     "output_type": "execute_result"
    },
    {
     "data": {
      "image/png": "[encoded data removed]",
      "text/plain": [
       "<Figure size 720x720 with 1 Axes>"
      ]
     },
     "metadata": {
      "needs_background": "light"
     },
     "output_type": "display_data"
    }
   ],
   "source": [
    "pr_df.user.value_counts()[:15].plot.bar(figsize=(10, 10))"
   ]
  },
  {
   "cell_type": "code",
   "execution_count": null,
   "metadata": {},
   "outputs": [],
   "source": [
    "user"
   ]
  },
  {
   "cell_type": "code",
   "execution_count": 44,
   "metadata": {},
   "outputs": [],
   "source": [
    "import numpy as np"
   ]
  },
  {
   "cell_type": "code",
   "execution_count": 45,
   "metadata": {},
   "outputs": [
    {
     "data": {
      "text/plain": [
       "25.455844122715714"
      ]
     },
     "execution_count": 45,
     "metadata": {},
     "output_type": "execute_result"
    }
   ],
   "source": [
    "18 * np.sqrt(2)"
   ]
  },
  {
   "cell_type": "code",
   "execution_count": 46,
   "metadata": {},
   "outputs": [
    {
     "data": {
      "text/plain": [
       "14.142135623730951"
      ]
     },
     "execution_count": 46,
     "metadata": {},
     "output_type": "execute_result"
    }
   ],
   "source": [
    "10 * np.sqrt(2)"
   ]
  },
  {
   "cell_type": "code",
   "execution_count": 49,
   "metadata": {},
   "outputs": [
    {
     "name": "stdout",
     "output_type": "stream",
     "text": [
      "0 0.0\n",
      "1 0.6931471805599453\n",
      "2 1.0986122886681098\n",
      "3 1.3862943611198906\n",
      "4 1.6094379124341003\n",
      "5 1.791759469228055\n",
      "6 1.9459101490553132\n",
      "7 2.0794415416798357\n",
      "8 2.1972245773362196\n",
      "9 2.302585092994046\n"
     ]
    }
   ],
   "source": [
    "for x in range(10):\n",
    "    print(x, np.log(1 + x))"
   ]
  },
  {
   "cell_type": "code",
   "execution_count": 50,
   "metadata": {},
   "outputs": [
    {
     "name": "stdout",
     "output_type": "stream",
     "text": [
      "0 0.0\n",
      "1 1.0\n",
      "2 1.4142135623730951\n",
      "3 1.7320508075688772\n",
      "4 2.0\n",
      "5 2.23606797749979\n",
      "6 2.449489742783178\n",
      "7 2.6457513110645907\n",
      "8 2.8284271247461903\n",
      "9 3.0\n"
     ]
    }
   ],
   "source": [
    "for x in range(10):\n",
    "    print(x, np.sqrt(x))"
   ]
  },
  {
   "cell_type": "code",
   "execution_count": 53,
   "metadata": {},
   "outputs": [
    {
     "data": {
      "text/plain": [
       "1.4142135623730951"
      ]
     },
     "execution_count": 53,
     "metadata": {},
     "output_type": "execute_result"
    }
   ],
   "source": [
    "np.sqrt(2)"
   ]
  },
  {
   "cell_type": "code",
   "execution_count": 62,
   "metadata": {},
   "outputs": [
    {
     "name": "stdout",
     "output_type": "stream",
     "text": [
      "0.75\n",
      "1.5\n",
      "2.25\n"
     ]
    }
   ],
   "source": [
    "print(np.quantile(range(4), 0.25))\n",
    "print(np.quantile(range(4), 0.5))\n",
    "print(np.quantile(range(4), 0.75))"
   ]
  },
  {
   "cell_type": "code",
   "execution_count": 63,
   "metadata": {},
   "outputs": [],
   "source": [
    "a = range(4)"
   ]
  },
  {
   "cell_type": "code",
   "execution_count": 64,
   "metadata": {},
   "outputs": [],
   "source": [
    "a = pd.DataFrame(a)"
   ]
  },
  {
   "cell_type": "code",
   "execution_count": 67,
   "metadata": {},
   "outputs": [
    {
     "data": {
      "text/html": [
       "<div>\n",
       "<style scoped>\n",
       "    .dataframe tbody tr th:only-of-type {\n",
       "        vertical-align: middle;\n",
       "    }\n",
       "\n",
       "    .dataframe tbody tr th {\n",
       "        vertical-align: top;\n",
       "    }\n",
       "\n",
       "    .dataframe thead th {\n",
       "        text-align: right;\n",
       "    }\n",
       "</style>\n",
       "<table border=\"1\" class=\"dataframe\">\n",
       "  <thead>\n",
       "    <tr style=\"text-align: right;\">\n",
       "      <th></th>\n",
       "      <th>0</th>\n",
       "    </tr>\n",
       "  </thead>\n",
       "  <tbody>\n",
       "    <tr>\n",
       "      <th>0</th>\n",
       "      <td>0</td>\n",
       "    </tr>\n",
       "    <tr>\n",
       "      <th>1</th>\n",
       "      <td>1</td>\n",
       "    </tr>\n",
       "    <tr>\n",
       "      <th>2</th>\n",
       "      <td>2</td>\n",
       "    </tr>\n",
       "    <tr>\n",
       "      <th>3</th>\n",
       "      <td>3</td>\n",
       "    </tr>\n",
       "  </tbody>\n",
       "</table>\n",
       "</div>"
      ],
      "text/plain": [
       "   0\n",
       "0  0\n",
       "1  1\n",
       "2  2\n",
       "3  3"
      ]
     },
     "execution_count": 67,
     "metadata": {},
     "output_type": "execute_result"
    }
   ],
   "source": [
    "a"
   ]
  },
  {
   "cell_type": "code",
   "execution_count": 73,
   "metadata": {},
   "outputs": [
    {
     "data": {
      "text/html": [
       "<div>\n",
       "<style scoped>\n",
       "    .dataframe tbody tr th:only-of-type {\n",
       "        vertical-align: middle;\n",
       "    }\n",
       "\n",
       "    .dataframe tbody tr th {\n",
       "        vertical-align: top;\n",
       "    }\n",
       "\n",
       "    .dataframe thead th {\n",
       "        text-align: right;\n",
       "    }\n",
       "</style>\n",
       "<table border=\"1\" class=\"dataframe\">\n",
       "  <thead>\n",
       "    <tr style=\"text-align: right;\">\n",
       "      <th></th>\n",
       "      <th>0</th>\n",
       "    </tr>\n",
       "  </thead>\n",
       "  <tbody>\n",
       "    <tr>\n",
       "      <th>3</th>\n",
       "      <td>3</td>\n",
       "    </tr>\n",
       "  </tbody>\n",
       "</table>\n",
       "</div>"
      ],
      "text/plain": [
       "   0\n",
       "3  3"
      ]
     },
     "execution_count": 73,
     "metadata": {},
     "output_type": "execute_result"
    }
   ],
   "source": [
    "a[a[0]>2]"
   ]
  },
  {
   "cell_type": "code",
   "execution_count": 74,
   "metadata": {},
   "outputs": [
    {
     "data": {
      "text/plain": [
       "2.5"
      ]
     },
     "execution_count": 74,
     "metadata": {},
     "output_type": "execute_result"
    }
   ],
   "source": [
    "10/4"
   ]
  },
  {
   "cell_type": "code",
   "execution_count": 4,
   "metadata": {},
   "outputs": [
    {
     "data": {
      "text/plain": [
       "-0.017857142857142794"
      ]
     },
     "execution_count": 4,
     "metadata": {},
     "output_type": "execute_result"
    }
   ],
   "source": [
    "(2.75 - 2.8) / 2.8"
   ]
  },
  {
   "cell_type": "code",
   "execution_count": 5,
   "metadata": {},
   "outputs": [
    {
     "data": {
      "text/plain": [
       "2.75"
      ]
     },
     "execution_count": 5,
     "metadata": {},
     "output_type": "execute_result"
    }
   ],
   "source": [
    "(1 + 2 + 3 + 5) / 4"
   ]
  },
  {
   "cell_type": "code",
   "execution_count": 6,
   "metadata": {},
   "outputs": [
    {
     "data": {
      "text/plain": [
       "2.8"
      ]
     },
     "execution_count": 6,
     "metadata": {},
     "output_type": "execute_result"
    }
   ],
   "source": [
    "(1 + 2 + 3 + 5 + 3) / 5"
   ]
  },
  {
   "cell_type": "code",
   "execution_count": 7,
   "metadata": {},
   "outputs": [
    {
     "data": {
      "text/plain": [
       "11"
      ]
     },
     "execution_count": 7,
     "metadata": {},
     "output_type": "execute_result"
    }
   ],
   "source": [
    "1 + 2 + 3 + 5"
   ]
  },
  {
   "cell_type": "code",
   "execution_count": 8,
   "metadata": {},
   "outputs": [
    {
     "data": {
      "text/plain": [
       "7.0"
      ]
     },
     "execution_count": 8,
     "metadata": {},
     "output_type": "execute_result"
    }
   ],
   "source": [
    "(11 + 3) / 2"
   ]
  },
  {
   "cell_type": "code",
   "execution_count": 9,
   "metadata": {},
   "outputs": [
    {
     "data": {
      "text/plain": [
       "0.5714285714285714"
      ]
     },
     "execution_count": 9,
     "metadata": {},
     "output_type": "execute_result"
    }
   ],
   "source": [
    "(11-7)/7"
   ]
  },
  {
   "cell_type": "code",
   "execution_count": null,
   "metadata": {},
   "outputs": [],
   "source": []
  }
 ],
 "metadata": {
  "kernelspec": {
   "display_name": "Python 3",
   "language": "python",
   "name": "python3"
  },
  "language_info": {
   "codemirror_mode": {
    "name": "ipython",
    "version": 3
   },
   "file_extension": ".py",
   "mimetype": "text/x-python",
   "name": "python",
   "nbconvert_exporter": "python",
   "pygments_lexer": "ipython3",
   "version": "3.7.5"
  }
 },
 "nbformat": 4,
 "nbformat_minor": 4
}
