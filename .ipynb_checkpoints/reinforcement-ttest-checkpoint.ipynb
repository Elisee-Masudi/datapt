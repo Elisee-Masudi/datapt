{
 "cells": [
  {
   "cell_type": "code",
   "execution_count": 1,
   "metadata": {},
   "outputs": [],
   "source": [
    "# reinforcement z-test, t-test, anova"
   ]
  },
  {
   "cell_type": "code",
   "execution_count": 2,
   "metadata": {},
   "outputs": [],
   "source": [
    "%matplotlib inline\n",
    "\n",
    "import numpy as np\n",
    "import pandas as pd\n",
    "import scipy.stats as stats\n",
    "import matplotlib.pyplot as plt\n",
    "import math"
   ]
  },
  {
   "cell_type": "code",
   "execution_count": 11,
   "metadata": {},
   "outputs": [],
   "source": [
    "# ONE SAMPLE T TEST"
   ]
  },
  {
   "cell_type": "code",
   "execution_count": 4,
   "metadata": {},
   "outputs": [
    {
     "name": "stdout",
     "output_type": "stream",
     "text": [
      "43.000112\n",
      "39.26\n"
     ]
    }
   ],
   "source": [
    "np.random.seed(6)\n",
    "\n",
    "population_ages1 = stats.poisson.rvs(loc=18, mu=35, size=150000)\n",
    "population_ages2 = stats.poisson.rvs(loc=18, mu=10, size=100000)\n",
    "population_ages = np.concatenate((population_ages1, population_ages2))\n",
    "\n",
    "idf_ages1 = stats.poisson.rvs(loc=18, mu=30, size=30)\n",
    "idf_ages2 = stats.poisson.rvs(loc=18, mu=10, size=20)\n",
    "idf_ages = np.concatenate((idf_ages1, idf_ages2))\n",
    "\n",
    "print( population_ages.mean() )\n",
    "print( idf_ages.mean() )"
   ]
  },
  {
   "cell_type": "code",
   "execution_count": 5,
   "metadata": {},
   "outputs": [
    {
     "data": {
      "text/plain": [
       "Ttest_1sampResult(statistic=-2.5742714883655027, pvalue=0.013118685425061678)"
      ]
     },
     "execution_count": 5,
     "metadata": {},
     "output_type": "execute_result"
    }
   ],
   "source": [
    "stats.ttest_1samp(a= idf_ages,               # Sample data\n",
    "                 popmean= population_ages.mean())  # Pop mean"
   ]
  },
  {
   "cell_type": "code",
   "execution_count": 6,
   "metadata": {},
   "outputs": [
    {
     "data": {
      "text/plain": [
       "-2.0095752344892093"
      ]
     },
     "execution_count": 6,
     "metadata": {},
     "output_type": "execute_result"
    }
   ],
   "source": [
    "stats.t.ppf(q=0.025,  # Quantile to check\n",
    "            df=49)  # Degrees of freedom"
   ]
  },
  {
   "cell_type": "code",
   "execution_count": 7,
   "metadata": {},
   "outputs": [
    {
     "data": {
      "text/plain": [
       "2.009575234489209"
      ]
     },
     "execution_count": 7,
     "metadata": {},
     "output_type": "execute_result"
    }
   ],
   "source": [
    "stats.t.ppf(q=0.975,  # Quantile to check\n",
    "            df=49)  # Degrees of freedom"
   ]
  },
  {
   "cell_type": "code",
   "execution_count": 8,
   "metadata": {},
   "outputs": [
    {
     "data": {
      "text/plain": [
       "0.013121066545690117"
      ]
     },
     "execution_count": 8,
     "metadata": {},
     "output_type": "execute_result"
    }
   ],
   "source": [
    "stats.t.cdf(x= -2.5742,      # T-test statistic\n",
    "               df= 49) * 2   # Mupltiply by two for two tailed test*"
   ]
  },
  {
   "cell_type": "code",
   "execution_count": 9,
   "metadata": {},
   "outputs": [
    {
     "data": {
      "text/plain": [
       "(36.369669080722176, 42.15033091927782)"
      ]
     },
     "execution_count": 9,
     "metadata": {},
     "output_type": "execute_result"
    }
   ],
   "source": [
    "sigma = idf_ages.std()/math.sqrt(50)  # Sample stdev/sample size\n",
    "\n",
    "stats.t.interval(0.95,                        # Confidence level\n",
    "                 df = 49,                     # Degrees of freedom\n",
    "                 loc = idf_ages.mean(), # Sample mean\n",
    "                 scale= sigma)                # Standard dev estimate"
   ]
  },
  {
   "cell_type": "code",
   "execution_count": 10,
   "metadata": {},
   "outputs": [
    {
     "data": {
      "text/plain": [
       "(35.40547994092107, 43.11452005907893)"
      ]
     },
     "execution_count": 10,
     "metadata": {},
     "output_type": "execute_result"
    }
   ],
   "source": [
    "stats.t.interval(alpha = 0.99,                # Confidence level\n",
    "                 df = 49,                     # Degrees of freedom\n",
    "                 loc = idf_ages.mean(), # Sample mean\n",
    "                 scale= sigma)                # Standard dev estimate"
   ]
  },
  {
   "cell_type": "code",
   "execution_count": 12,
   "metadata": {},
   "outputs": [],
   "source": [
    "# TWO SAMPLE T TEST"
   ]
  },
  {
   "cell_type": "code",
   "execution_count": 13,
   "metadata": {},
   "outputs": [
    {
     "name": "stdout",
     "output_type": "stream",
     "text": [
      "42.8\n"
     ]
    }
   ],
   "source": [
    "np.random.seed(12)\n",
    "paca_ages1 = stats.poisson.rvs(loc=18, mu=33, size=30)\n",
    "paca_ages2 = stats.poisson.rvs(loc=18, mu=13, size=20)\n",
    "paca_ages = np.concatenate((paca_ages1, paca_ages2))\n",
    "\n",
    "print( paca_ages.mean() )"
   ]
  },
  {
   "cell_type": "code",
   "execution_count": 14,
   "metadata": {},
   "outputs": [
    {
     "data": {
      "text/plain": [
       "Ttest_indResult(statistic=-1.7083870793286842, pvalue=0.09073104343957748)"
      ]
     },
     "execution_count": 14,
     "metadata": {},
     "output_type": "execute_result"
    }
   ],
   "source": [
    "stats.ttest_ind(a= idf_ages,\n",
    "                b= paca_ages,\n",
    "                equal_var=False)    # Assume samples have equal variance?"
   ]
  },
  {
   "cell_type": "code",
   "execution_count": 15,
   "metadata": {},
   "outputs": [],
   "source": [
    "# PAIRED T TEST"
   ]
  },
  {
   "cell_type": "code",
   "execution_count": 16,
   "metadata": {},
   "outputs": [
    {
     "data": {
      "text/html": [
       "<div>\n",
       "<style scoped>\n",
       "    .dataframe tbody tr th:only-of-type {\n",
       "        vertical-align: middle;\n",
       "    }\n",
       "\n",
       "    .dataframe tbody tr th {\n",
       "        vertical-align: top;\n",
       "    }\n",
       "\n",
       "    .dataframe thead th {\n",
       "        text-align: right;\n",
       "    }\n",
       "</style>\n",
       "<table border=\"1\" class=\"dataframe\">\n",
       "  <thead>\n",
       "    <tr style=\"text-align: right;\">\n",
       "      <th></th>\n",
       "      <th>weight_before</th>\n",
       "      <th>weight_after</th>\n",
       "      <th>weight_change</th>\n",
       "    </tr>\n",
       "  </thead>\n",
       "  <tbody>\n",
       "    <tr>\n",
       "      <th>count</th>\n",
       "      <td>100.000000</td>\n",
       "      <td>100.000000</td>\n",
       "      <td>100.000000</td>\n",
       "    </tr>\n",
       "    <tr>\n",
       "      <th>mean</th>\n",
       "      <td>250.345546</td>\n",
       "      <td>249.115171</td>\n",
       "      <td>-1.230375</td>\n",
       "    </tr>\n",
       "    <tr>\n",
       "      <th>std</th>\n",
       "      <td>28.132539</td>\n",
       "      <td>28.422183</td>\n",
       "      <td>4.783696</td>\n",
       "    </tr>\n",
       "    <tr>\n",
       "      <th>min</th>\n",
       "      <td>170.400443</td>\n",
       "      <td>165.913930</td>\n",
       "      <td>-11.495286</td>\n",
       "    </tr>\n",
       "    <tr>\n",
       "      <th>25%</th>\n",
       "      <td>230.421042</td>\n",
       "      <td>229.148236</td>\n",
       "      <td>-4.046211</td>\n",
       "    </tr>\n",
       "    <tr>\n",
       "      <th>50%</th>\n",
       "      <td>250.830805</td>\n",
       "      <td>251.134089</td>\n",
       "      <td>-1.413463</td>\n",
       "    </tr>\n",
       "    <tr>\n",
       "      <th>75%</th>\n",
       "      <td>270.637145</td>\n",
       "      <td>268.927258</td>\n",
       "      <td>1.738673</td>\n",
       "    </tr>\n",
       "    <tr>\n",
       "      <th>max</th>\n",
       "      <td>314.700233</td>\n",
       "      <td>316.720357</td>\n",
       "      <td>9.759282</td>\n",
       "    </tr>\n",
       "  </tbody>\n",
       "</table>\n",
       "</div>"
      ],
      "text/plain": [
       "       weight_before  weight_after  weight_change\n",
       "count     100.000000    100.000000     100.000000\n",
       "mean      250.345546    249.115171      -1.230375\n",
       "std        28.132539     28.422183       4.783696\n",
       "min       170.400443    165.913930     -11.495286\n",
       "25%       230.421042    229.148236      -4.046211\n",
       "50%       250.830805    251.134089      -1.413463\n",
       "75%       270.637145    268.927258       1.738673\n",
       "max       314.700233    316.720357       9.759282"
      ]
     },
     "execution_count": 16,
     "metadata": {},
     "output_type": "execute_result"
    }
   ],
   "source": [
    "np.random.seed(11)\n",
    "\n",
    "before= stats.norm.rvs(scale=30, loc=250, size=100)\n",
    "\n",
    "after = before + stats.norm.rvs(scale=5, loc=-1.25, size=100)\n",
    "\n",
    "weight_df = pd.DataFrame({\"weight_before\":before,\n",
    "                          \"weight_after\":after,\n",
    "                          \"weight_change\":after-before})\n",
    "\n",
    "weight_df.describe()             # Check a summary of the data"
   ]
  },
  {
   "cell_type": "code",
   "execution_count": 17,
   "metadata": {},
   "outputs": [
    {
     "data": {
      "text/plain": [
       "Ttest_relResult(statistic=2.5720175998568284, pvalue=0.011596444318439857)"
      ]
     },
     "execution_count": 17,
     "metadata": {},
     "output_type": "execute_result"
    }
   ],
   "source": [
    "stats.ttest_rel(a= weight_df.weight_before,\n",
    "                b= weight_df.weight_after)"
   ]
  },
  {
   "cell_type": "code",
   "execution_count": 18,
   "metadata": {},
   "outputs": [],
   "source": [
    "# ANOVA"
   ]
  },
  {
   "cell_type": "code",
   "execution_count": 23,
   "metadata": {},
   "outputs": [
    {
     "data": {
      "text/plain": [
       "F_onewayResult(statistic=1.4407265239799805, pvalue=0.19583793303843983)"
      ]
     },
     "execution_count": 23,
     "metadata": {},
     "output_type": "execute_result"
    }
   ],
   "source": [
    "np.random.seed(12)\n",
    "\n",
    "groups =   [\"g1\",\"g2\",\"g3\",\"g4\",\"g5\", \"g6\", \"g7\"]\n",
    "\n",
    "# Generate random data\n",
    "voter_group = np.random.choice(a= groups,\n",
    "                              p = [0.05, 0.15 ,0.25, 0.05, 0.25, 0.125, 0.125],\n",
    "                              size=1000)\n",
    "\n",
    "voter_age = stats.poisson.rvs(loc=18,\n",
    "                              mu=30,\n",
    "                              size=1000)\n",
    "\n",
    "# Group age data by group\n",
    "voter_frame = pd.DataFrame({\"group\":voter_group,\"age\":voter_age})\n",
    "gps = voter_frame.groupby(\"group\").groups\n",
    "\n",
    "# Etract individual groups\n",
    "g1 = voter_age[gps[\"g1\"]]\n",
    "g2 = voter_age[gps[\"g2\"]]\n",
    "g3 = voter_age[gps[\"g3\"]]\n",
    "g4 = voter_age[gps[\"g4\"]]\n",
    "g5 = voter_age[gps[\"g5\"]]\n",
    "g6 = voter_age[gps[\"g6\"]]\n",
    "g7 = voter_age[gps[\"g7\"]]\n",
    "\n",
    "# Perform the ANOVA\n",
    "stats.f_oneway(g1, g2, g3, g4, g5, g6, g7)"
   ]
  },
  {
   "cell_type": "code",
   "execution_count": 25,
   "metadata": {},
   "outputs": [
    {
     "name": "stdout",
     "output_type": "stream",
     "text": [
      "g1 g2\n",
      "Ttest_indResult(statistic=1.4723166654510063, pvalue=0.14259864916065687)\n",
      "g1 g3\n",
      "Ttest_indResult(statistic=0.7952576949464497, pvalue=0.42712310624411387)\n",
      "g1 g4\n",
      "Ttest_indResult(statistic=0.023943564194904926, pvalue=0.9809494819541007)\n",
      "g1 g5\n",
      "Ttest_indResult(statistic=1.860203655851984, pvalue=0.06385858384096696)\n",
      "g1 g6\n",
      "Ttest_indResult(statistic=1.9500917862114706, pvalue=0.05285990753724046)\n",
      "g1 g7\n",
      "Ttest_indResult(statistic=1.0436500096419603, pvalue=0.29802403848297954)\n",
      "g2 g3\n",
      "Ttest_indResult(statistic=-0.9779887872139286, pvalue=0.328687679434698)\n",
      "g2 g4\n",
      "Ttest_indResult(statistic=-1.537940275215305, pvalue=0.12568427083007871)\n",
      "g2 g5\n",
      "Ttest_indResult(statistic=0.33279404799700385, pvalue=0.7394658589884084)\n",
      "g2 g6\n",
      "Ttest_indResult(statistic=0.6630318128974703, pvalue=0.5078800399468361)\n",
      "g2 g7\n",
      "Ttest_indResult(statistic=-0.5844883518531755, pvalue=0.5593525681627008)\n",
      "g3 g4\n",
      "Ttest_indResult(statistic=-0.8181367221979297, pvalue=0.41394624196541574)\n",
      "g3 g5\n",
      "Ttest_indResult(statistic=1.5448191061118461, pvalue=0.12303166319152356)\n",
      "g3 g6\n",
      "Ttest_indResult(statistic=1.5992285294955366, pvalue=0.11063505178323176)\n",
      "g3 g7\n",
      "Ttest_indResult(statistic=0.35201138787617064, pvalue=0.7250233225252923)\n",
      "g4 g5\n",
      "Ttest_indResult(statistic=1.947691034859587, pvalue=0.05238766108845243)\n",
      "g4 g6\n",
      "Ttest_indResult(statistic=2.046554687785251, pvalue=0.04223261313553163)\n",
      "g4 g7\n",
      "Ttest_indResult(statistic=1.0819602167474214, pvalue=0.28064872884390396)\n"
     ]
    }
   ],
   "source": [
    "# Get all gorup pairs\n",
    "group_pairs = []\n",
    "\n",
    "for gp1 in range(4):\n",
    "    for gp2  in range(gp1+1,7):\n",
    "        group_pairs.append((groups[gp1], groups[gp2]))\n",
    "\n",
    "# Conduct t-test on each pair\n",
    "for gp1, gp2 in group_pairs: \n",
    "    print(gp1, gp2)\n",
    "    print(stats.ttest_ind(voter_age[gps[gp1]], \n",
    "                          voter_age[gps[gp2]]))"
   ]
  },
  {
   "cell_type": "code",
   "execution_count": 2,
   "metadata": {},
   "outputs": [],
   "source": [
    "# CHI SQUARED"
   ]
  },
  {
   "cell_type": "code",
   "execution_count": 3,
   "metadata": {},
   "outputs": [],
   "source": [
    "import numpy as np\n",
    "import pandas as pd\n",
    "import scipy.stats as stats"
   ]
  },
  {
   "cell_type": "code",
   "execution_count": 42,
   "metadata": {},
   "outputs": [],
   "source": [
    "# Test du Chi2\n",
    "# Goodness of fit : H0 : pas de différence entre les deux distributions observed vs expected / H1 : différence\n",
    "# Independance : H0 : il y a indépendance entre les deux variables catégorielles / H1: pas d'indépendance\n",
    "# Chi2-stat = (observed - expected)**2 / expected\n",
    "# Chi2-stat suit une loi de distribution du Chi2 à df degrés de libertés\n",
    "# Cas de goodness of fit, on a une série de N valeurs : df = N-1\n",
    "# Cas du test d'indépendance, df = (#lignes - 1) * (#colonnes - 1)\n",
    "# p-value = Prob(X >= Chi2-stat | Chi2(df))\n",
    "# Si p-value >= alpha (0.05, 0.01), on ne peut rejeter H0\n",
    "# Sinon, on rejette H0"
   ]
  },
  {
   "cell_type": "code",
   "execution_count": 4,
   "metadata": {},
   "outputs": [
    {
     "name": "stdout",
     "output_type": "stream",
     "text": [
      "National\n",
      "col_0   count\n",
      "0            \n",
      "g1     100000\n",
      "g2      60000\n",
      "g3      50000\n",
      "g4      15000\n",
      "g5      35000\n",
      " \n",
      "Ile de France\n",
      "col_0  count\n",
      "0           \n",
      "g1       600\n",
      "g2       300\n",
      "g3       250\n",
      "g4        75\n",
      "g5       150\n"
     ]
    }
   ],
   "source": [
    "national = pd.DataFrame([\"g1\"]*100000 + [\"g2\"]*60000 +\\\n",
    "                        [\"g3\"]*50000 + [\"g4\"]*15000 + [\"g5\"]*35000)\n",
    "           \n",
    "\n",
    "idf = pd.DataFrame([\"g1\"]*600 + [\"g2\"]*300 + \\\n",
    "                         [\"g3\"]*250 +[\"g4\"]*75 + [\"g5\"]*150)\n",
    "\n",
    "national_table = pd.crosstab(index=national[0], columns=\"count\")\n",
    "idf_table = pd.crosstab(index=idf[0], columns=\"count\")\n",
    "\n",
    "print( \"National\")\n",
    "print(national_table)\n",
    "print(\" \")\n",
    "print( \"Ile de France\")\n",
    "print(idf_table)"
   ]
  },
  {
   "cell_type": "code",
   "execution_count": 50,
   "metadata": {},
   "outputs": [
    {
     "data": {
      "text/html": [
       "<div>\n",
       "<style scoped>\n",
       "    .dataframe tbody tr th:only-of-type {\n",
       "        vertical-align: middle;\n",
       "    }\n",
       "\n",
       "    .dataframe tbody tr th {\n",
       "        vertical-align: top;\n",
       "    }\n",
       "\n",
       "    .dataframe thead th {\n",
       "        text-align: right;\n",
       "    }\n",
       "</style>\n",
       "<table border=\"1\" class=\"dataframe\">\n",
       "  <thead>\n",
       "    <tr style=\"text-align: right;\">\n",
       "      <th>col_0</th>\n",
       "      <th>count</th>\n",
       "    </tr>\n",
       "    <tr>\n",
       "      <th>0</th>\n",
       "      <th></th>\n",
       "    </tr>\n",
       "  </thead>\n",
       "  <tbody>\n",
       "    <tr>\n",
       "      <th>g1</th>\n",
       "      <td>600</td>\n",
       "    </tr>\n",
       "    <tr>\n",
       "      <th>g2</th>\n",
       "      <td>300</td>\n",
       "    </tr>\n",
       "    <tr>\n",
       "      <th>g3</th>\n",
       "      <td>250</td>\n",
       "    </tr>\n",
       "    <tr>\n",
       "      <th>g4</th>\n",
       "      <td>75</td>\n",
       "    </tr>\n",
       "    <tr>\n",
       "      <th>g5</th>\n",
       "      <td>150</td>\n",
       "    </tr>\n",
       "  </tbody>\n",
       "</table>\n",
       "</div>"
      ],
      "text/plain": [
       "col_0  count\n",
       "0           \n",
       "g1       600\n",
       "g2       300\n",
       "g3       250\n",
       "g4        75\n",
       "g5       150"
      ]
     },
     "execution_count": 50,
     "metadata": {},
     "output_type": "execute_result"
    }
   ],
   "source": [
    "idf_table"
   ]
  },
  {
   "cell_type": "code",
   "execution_count": 44,
   "metadata": {},
   "outputs": [
    {
     "data": {
      "text/plain": [
       "0.38461538461538464"
      ]
     },
     "execution_count": 44,
     "metadata": {},
     "output_type": "execute_result"
    }
   ],
   "source": [
    "prop_g1 = 100/(100 + 60 + 50 + 15 + 35)\n",
    "prop_g1"
   ]
  },
  {
   "cell_type": "code",
   "execution_count": 46,
   "metadata": {},
   "outputs": [
    {
     "data": {
      "text/plain": [
       "528.8461538461539"
      ]
     },
     "execution_count": 46,
     "metadata": {},
     "output_type": "execute_result"
    }
   ],
   "source": [
    "expected_g1 = prop_g1 * (600 + 300 + 250 + 75 + 150)\n",
    "expected_g1"
   ]
  },
  {
   "cell_type": "code",
   "execution_count": 47,
   "metadata": {},
   "outputs": [
    {
     "data": {
      "text/plain": [
       "9.818181818181818"
      ]
     },
     "execution_count": 47,
     "metadata": {},
     "output_type": "execute_result"
    }
   ],
   "source": [
    "(600 - 528)**2/528"
   ]
  },
  {
   "cell_type": "code",
   "execution_count": 5,
   "metadata": {},
   "outputs": [
    {
     "name": "stdout",
     "output_type": "stream",
     "text": [
      "col_0\n",
      "count    18.194805\n",
      "dtype: float64\n"
     ]
    }
   ],
   "source": [
    "observed = idf_table\n",
    "\n",
    "national_ratios = national_table/len(national)  # Get population ratios\n",
    "\n",
    "expected = national_ratios * len(idf)   # Get expected counts\n",
    "\n",
    "chi_squared_stat = (((observed-expected)**2)/expected).sum()\n",
    "\n",
    "print(chi_squared_stat)"
   ]
  },
  {
   "cell_type": "code",
   "execution_count": 6,
   "metadata": {},
   "outputs": [
    {
     "name": "stdout",
     "output_type": "stream",
     "text": [
      "Critical value\n",
      "9.487729036781154\n",
      "P value\n",
      "[0.00113047]\n"
     ]
    }
   ],
   "source": [
    "crit = stats.chi2.ppf(q = 0.95, # Find the critical value for 95% confidence*\n",
    "                      df = 4)   # Df = number of variable categories - 1\n",
    "\n",
    "print(\"Critical value\")\n",
    "print(crit)\n",
    "\n",
    "p_value = 1 - stats.chi2.cdf(x=chi_squared_stat,  # Find the p-value\n",
    "                             df=4)\n",
    "print(\"P value\")\n",
    "print(p_value)"
   ]
  },
  {
   "cell_type": "code",
   "execution_count": 7,
   "metadata": {},
   "outputs": [
    {
     "data": {
      "text/plain": [
       "Power_divergenceResult(statistic=array([18.19480519]), pvalue=array([0.00113047]))"
      ]
     },
     "execution_count": 7,
     "metadata": {},
     "output_type": "execute_result"
    }
   ],
   "source": [
    "stats.chisquare(f_obs= observed,   # Array of observed counts\n",
    "                f_exp= expected)   # Array of expected counts"
   ]
  },
  {
   "cell_type": "code",
   "execution_count": 8,
   "metadata": {},
   "outputs": [],
   "source": [
    "# Test of independance"
   ]
  },
  {
   "cell_type": "code",
   "execution_count": 9,
   "metadata": {},
   "outputs": [
    {
     "data": {
      "text/html": [
       "<div>\n",
       "<style scoped>\n",
       "    .dataframe tbody tr th:only-of-type {\n",
       "        vertical-align: middle;\n",
       "    }\n",
       "\n",
       "    .dataframe tbody tr th {\n",
       "        vertical-align: top;\n",
       "    }\n",
       "\n",
       "    .dataframe thead th {\n",
       "        text-align: right;\n",
       "    }\n",
       "</style>\n",
       "<table border=\"1\" class=\"dataframe\">\n",
       "  <thead>\n",
       "    <tr style=\"text-align: right;\">\n",
       "      <th></th>\n",
       "      <th>democrat</th>\n",
       "      <th>independent</th>\n",
       "      <th>republican</th>\n",
       "      <th>row_totals</th>\n",
       "    </tr>\n",
       "  </thead>\n",
       "  <tbody>\n",
       "    <tr>\n",
       "      <th>g1</th>\n",
       "      <td>21</td>\n",
       "      <td>7</td>\n",
       "      <td>32</td>\n",
       "      <td>60</td>\n",
       "    </tr>\n",
       "    <tr>\n",
       "      <th>g2</th>\n",
       "      <td>65</td>\n",
       "      <td>25</td>\n",
       "      <td>64</td>\n",
       "      <td>154</td>\n",
       "    </tr>\n",
       "    <tr>\n",
       "      <th>g3</th>\n",
       "      <td>107</td>\n",
       "      <td>50</td>\n",
       "      <td>94</td>\n",
       "      <td>251</td>\n",
       "    </tr>\n",
       "    <tr>\n",
       "      <th>g4</th>\n",
       "      <td>15</td>\n",
       "      <td>8</td>\n",
       "      <td>15</td>\n",
       "      <td>38</td>\n",
       "    </tr>\n",
       "    <tr>\n",
       "      <th>g5</th>\n",
       "      <td>189</td>\n",
       "      <td>96</td>\n",
       "      <td>212</td>\n",
       "      <td>497</td>\n",
       "    </tr>\n",
       "    <tr>\n",
       "      <th>col_totals</th>\n",
       "      <td>397</td>\n",
       "      <td>186</td>\n",
       "      <td>417</td>\n",
       "      <td>1000</td>\n",
       "    </tr>\n",
       "  </tbody>\n",
       "</table>\n",
       "</div>"
      ],
      "text/plain": [
       "            democrat  independent  republican  row_totals\n",
       "g1                21            7          32          60\n",
       "g2                65           25          64         154\n",
       "g3               107           50          94         251\n",
       "g4                15            8          15          38\n",
       "g5               189           96         212         497\n",
       "col_totals       397          186         417        1000"
      ]
     },
     "execution_count": 9,
     "metadata": {},
     "output_type": "execute_result"
    }
   ],
   "source": [
    "np.random.seed(10)\n",
    "\n",
    "# Sample data randomly at fixed probabilities\n",
    "voter_group = np.random.choice(a= [\"g1\",\"g2\",\"g3\",\"g4\",\"g5\"],\n",
    "                              p = [0.05, 0.15 ,0.25, 0.05, 0.5],\n",
    "                              size=1000)\n",
    "\n",
    "# Sample data randomly at fixed probabilities\n",
    "voter_party = np.random.choice(a= [\"democrat\",\"independent\",\"republican\"],\n",
    "                              p = [0.4, 0.2, 0.4],\n",
    "                              size=1000)\n",
    "\n",
    "voters = pd.DataFrame({\"group\":voter_group, \n",
    "                       \"party\":voter_party})\n",
    "\n",
    "voter_tab = pd.crosstab(voters.group, voters.party, margins = True)\n",
    "\n",
    "voter_tab.columns = [\"democrat\",\"independent\",\"republican\",\"row_totals\"]\n",
    "\n",
    "voter_tab.index = [\"g1\",\"g2\",\"g3\",\"g4\",\"g5\",\"col_totals\"]\n",
    "\n",
    "observed = voter_tab.iloc[0:5,0:3]   # Get table without totals for later use\n",
    "voter_tab"
   ]
  },
  {
   "cell_type": "code",
   "execution_count": 11,
   "metadata": {},
   "outputs": [
    {
     "data": {
      "text/html": [
       "<div>\n",
       "<style scoped>\n",
       "    .dataframe tbody tr th:only-of-type {\n",
       "        vertical-align: middle;\n",
       "    }\n",
       "\n",
       "    .dataframe tbody tr th {\n",
       "        vertical-align: top;\n",
       "    }\n",
       "\n",
       "    .dataframe thead th {\n",
       "        text-align: right;\n",
       "    }\n",
       "</style>\n",
       "<table border=\"1\" class=\"dataframe\">\n",
       "  <thead>\n",
       "    <tr style=\"text-align: right;\">\n",
       "      <th></th>\n",
       "      <th>democrat</th>\n",
       "      <th>independent</th>\n",
       "      <th>republican</th>\n",
       "    </tr>\n",
       "  </thead>\n",
       "  <tbody>\n",
       "    <tr>\n",
       "      <th>g1</th>\n",
       "      <td>23.820</td>\n",
       "      <td>11.160</td>\n",
       "      <td>25.020</td>\n",
       "    </tr>\n",
       "    <tr>\n",
       "      <th>g2</th>\n",
       "      <td>61.138</td>\n",
       "      <td>28.644</td>\n",
       "      <td>64.218</td>\n",
       "    </tr>\n",
       "    <tr>\n",
       "      <th>g3</th>\n",
       "      <td>99.647</td>\n",
       "      <td>46.686</td>\n",
       "      <td>104.667</td>\n",
       "    </tr>\n",
       "    <tr>\n",
       "      <th>g4</th>\n",
       "      <td>15.086</td>\n",
       "      <td>7.068</td>\n",
       "      <td>15.846</td>\n",
       "    </tr>\n",
       "    <tr>\n",
       "      <th>g5</th>\n",
       "      <td>197.309</td>\n",
       "      <td>92.442</td>\n",
       "      <td>207.249</td>\n",
       "    </tr>\n",
       "  </tbody>\n",
       "</table>\n",
       "</div>"
      ],
      "text/plain": [
       "    democrat  independent  republican\n",
       "g1    23.820       11.160      25.020\n",
       "g2    61.138       28.644      64.218\n",
       "g3    99.647       46.686     104.667\n",
       "g4    15.086        7.068      15.846\n",
       "g5   197.309       92.442     207.249"
      ]
     },
     "execution_count": 11,
     "metadata": {},
     "output_type": "execute_result"
    }
   ],
   "source": [
    "expected =  np.outer(voter_tab[\"row_totals\"][0:5],\n",
    "                     voter_tab.loc[\"col_totals\"][0:3]) / 1000\n",
    "\n",
    "expected = pd.DataFrame(expected)\n",
    "\n",
    "expected.columns = [\"democrat\",\"independent\",\"republican\"]\n",
    "expected.index = [\"g1\",\"g2\",\"g3\",\"g4\",\"g5\"]\n",
    "\n",
    "expected"
   ]
  },
  {
   "cell_type": "code",
   "execution_count": 12,
   "metadata": {},
   "outputs": [
    {
     "name": "stdout",
     "output_type": "stream",
     "text": [
      "7.169321280162059\n"
     ]
    }
   ],
   "source": [
    "chi_squared_stat = (((observed-expected)**2)/expected).sum().sum()\n",
    "\n",
    "print(chi_squared_stat)"
   ]
  },
  {
   "cell_type": "code",
   "execution_count": 13,
   "metadata": {},
   "outputs": [
    {
     "name": "stdout",
     "output_type": "stream",
     "text": [
      "Critical value\n",
      "15.50731305586545\n",
      "P value\n",
      "0.518479392948842\n"
     ]
    }
   ],
   "source": [
    "crit = stats.chi2.ppf(q = 0.95, # Find the critical value for 95% confidence*\n",
    "                      df = 8)   # *\n",
    "\n",
    "print(\"Critical value\")\n",
    "print(crit)\n",
    "\n",
    "p_value = 1 - stats.chi2.cdf(x=chi_squared_stat,  # Find the p-value\n",
    "                             df=8)\n",
    "print(\"P value\")\n",
    "print(p_value)"
   ]
  },
  {
   "cell_type": "code",
   "execution_count": 14,
   "metadata": {},
   "outputs": [
    {
     "data": {
      "text/plain": [
       "(7.169321280162059,\n",
       " 0.518479392948842,\n",
       " 8,\n",
       " array([[ 23.82 ,  11.16 ,  25.02 ],\n",
       "        [ 61.138,  28.644,  64.218],\n",
       "        [ 99.647,  46.686, 104.667],\n",
       "        [ 15.086,   7.068,  15.846],\n",
       "        [197.309,  92.442, 207.249]]))"
      ]
     },
     "execution_count": 14,
     "metadata": {},
     "output_type": "execute_result"
    }
   ],
   "source": [
    "stats.chi2_contingency(observed= observed)"
   ]
  },
  {
   "cell_type": "code",
   "execution_count": 15,
   "metadata": {},
   "outputs": [],
   "source": [
    "# CRAMER'S V"
   ]
  },
  {
   "cell_type": "code",
   "execution_count": 30,
   "metadata": {},
   "outputs": [],
   "source": [
    "import scipy.stats as ss"
   ]
  },
  {
   "cell_type": "code",
   "execution_count": 38,
   "metadata": {},
   "outputs": [],
   "source": [
    "from scipy.stats import chi2_contingency"
   ]
  },
  {
   "cell_type": "code",
   "execution_count": 39,
   "metadata": {},
   "outputs": [],
   "source": [
    "def cramers_V(var1,var2) :\n",
    "    crosstab =np.array(pd.crosstab(var1,var2, rownames=None, colnames=None)) # Cross table building\n",
    "    stat = chi2_contingency(crosstab)[0] # Keeping of the test statistic of the Chi2 test\n",
    "    obs = np.sum(crosstab) # Number of observations\n",
    "    mini = min(crosstab.shape)-1 # Take the minimum value between the columns and the rows of the cross table\n",
    "    return (stat/(obs*mini))"
   ]
  },
  {
   "cell_type": "code",
   "execution_count": 25,
   "metadata": {},
   "outputs": [],
   "source": [
    "df = pd.read_csv(\"jvc.csv\")"
   ]
  },
  {
   "cell_type": "code",
   "execution_count": 26,
   "metadata": {},
   "outputs": [
    {
     "data": {
      "text/html": [
       "<div>\n",
       "<style scoped>\n",
       "    .dataframe tbody tr th:only-of-type {\n",
       "        vertical-align: middle;\n",
       "    }\n",
       "\n",
       "    .dataframe tbody tr th {\n",
       "        vertical-align: top;\n",
       "    }\n",
       "\n",
       "    .dataframe thead th {\n",
       "        text-align: right;\n",
       "    }\n",
       "</style>\n",
       "<table border=\"1\" class=\"dataframe\">\n",
       "  <thead>\n",
       "    <tr style=\"text-align: right;\">\n",
       "      <th></th>\n",
       "      <th>Unnamed: 0</th>\n",
       "      <th>game_fr</th>\n",
       "      <th>game_en</th>\n",
       "      <th>platform</th>\n",
       "      <th>website_rating</th>\n",
       "      <th>public_rating</th>\n",
       "      <th>publishor/developer</th>\n",
       "      <th>release</th>\n",
       "      <th>type</th>\n",
       "      <th>classification</th>\n",
       "      <th>url</th>\n",
       "      <th>description</th>\n",
       "    </tr>\n",
       "  </thead>\n",
       "  <tbody>\n",
       "    <tr>\n",
       "      <th>0</th>\n",
       "      <td>1</td>\n",
       "      <td>.hack//G.U. Last Recode</td>\n",
       "      <td>.hack//G.U. Last Recode</td>\n",
       "      <td>PS4</td>\n",
       "      <td>14/20</td>\n",
       "      <td>--/20</td>\n",
       "      <td>Bandai Namco Entertainment</td>\n",
       "      <td>03 Novembre 2017</td>\n",
       "      <td>RPG</td>\n",
       "      <td>+12 ans</td>\n",
       "      <td>http://www.jeuxvideo.com/jeux/ps4/jeu-674262/</td>\n",
       "      <td>Au contraire d’autres titres, None ,''.hack'' ...</td>\n",
       "    </tr>\n",
       "    <tr>\n",
       "      <th>1</th>\n",
       "      <td>2</td>\n",
       "      <td>.hack//G.U. Vol.1//Rebirth</td>\n",
       "      <td>.hack//G.U. Vol. 1//Rebirth</td>\n",
       "      <td>PS2</td>\n",
       "      <td>15/20</td>\n",
       "      <td>18.2/20</td>\n",
       "      <td>Bandai Namco CyberConnect2</td>\n",
       "      <td>Date de sortie inconnue</td>\n",
       "      <td>RPG</td>\n",
       "      <td>+7 ans</td>\n",
       "      <td>http://www.jeuxvideo.com/jeux/playstation-2-ps...</td>\n",
       "      <td>Avec plus de 20 œuvres de fiction sur de mult...</td>\n",
       "    </tr>\n",
       "    <tr>\n",
       "      <th>2</th>\n",
       "      <td>3</td>\n",
       "      <td>.hack//Infection Part 1</td>\n",
       "      <td>.hack//Infection: Part 1</td>\n",
       "      <td>PS2</td>\n",
       "      <td>15/20</td>\n",
       "      <td>15.1/20</td>\n",
       "      <td>CyberConnect2 Bandai</td>\n",
       "      <td>26 Mars 2004</td>\n",
       "      <td>RPG</td>\n",
       "      <td>+12 ans</td>\n",
       "      <td>http://www.jeuxvideo.com/jeux/playstation-2-ps...</td>\n",
       "      <td>S'appuyant sur la maxime « Mieux vaut tard qu...</td>\n",
       "    </tr>\n",
       "    <tr>\n",
       "      <th>3</th>\n",
       "      <td>4</td>\n",
       "      <td>.hack//Mutation Part 2</td>\n",
       "      <td>.hack//Mutation: Part 2</td>\n",
       "      <td>PS2</td>\n",
       "      <td>14/20</td>\n",
       "      <td>16.4/20</td>\n",
       "      <td>Bandai CyberConnect2</td>\n",
       "      <td>18 Juin 2004</td>\n",
       "      <td>RPG</td>\n",
       "      <td>+12 ans</td>\n",
       "      <td>http://www.jeuxvideo.com/jeux/playstation-2-ps...</td>\n",
       "      <td>Voici enfin le second volet de la quadrilogie...</td>\n",
       "    </tr>\n",
       "    <tr>\n",
       "      <th>4</th>\n",
       "      <td>5</td>\n",
       "      <td>.hack//Outbreak Part 3</td>\n",
       "      <td>.hack//Outbreak: Part 3</td>\n",
       "      <td>PS2</td>\n",
       "      <td>13/20</td>\n",
       "      <td>15.3/20</td>\n",
       "      <td>CyberConnect2 Atari</td>\n",
       "      <td>17 Septembre 2004</td>\n",
       "      <td>RPG</td>\n",
       "      <td>+12 ans</td>\n",
       "      <td>http://www.jeuxvideo.com/jeux/playstation-2-ps...</td>\n",
       "      <td>Comme la maxime «Jamais deux sans trois» ne c...</td>\n",
       "    </tr>\n",
       "  </tbody>\n",
       "</table>\n",
       "</div>"
      ],
      "text/plain": [
       "   Unnamed: 0                     game_fr                      game_en  \\\n",
       "0           1     .hack//G.U. Last Recode      .hack//G.U. Last Recode   \n",
       "1           2  .hack//G.U. Vol.1//Rebirth  .hack//G.U. Vol. 1//Rebirth   \n",
       "2           3     .hack//Infection Part 1     .hack//Infection: Part 1   \n",
       "3           4      .hack//Mutation Part 2      .hack//Mutation: Part 2   \n",
       "4           5      .hack//Outbreak Part 3      .hack//Outbreak: Part 3   \n",
       "\n",
       "  platform website_rating public_rating         publishor/developer  \\\n",
       "0      PS4          14/20         --/20  Bandai Namco Entertainment   \n",
       "1      PS2          15/20       18.2/20  Bandai Namco CyberConnect2   \n",
       "2      PS2          15/20       15.1/20        CyberConnect2 Bandai   \n",
       "3      PS2          14/20       16.4/20        Bandai CyberConnect2   \n",
       "4      PS2          13/20       15.3/20         CyberConnect2 Atari   \n",
       "\n",
       "                   release type classification  \\\n",
       "0         03 Novembre 2017  RPG        +12 ans   \n",
       "1  Date de sortie inconnue  RPG         +7 ans   \n",
       "2             26 Mars 2004  RPG        +12 ans   \n",
       "3             18 Juin 2004  RPG        +12 ans   \n",
       "4        17 Septembre 2004  RPG        +12 ans   \n",
       "\n",
       "                                                 url  \\\n",
       "0      http://www.jeuxvideo.com/jeux/ps4/jeu-674262/   \n",
       "1  http://www.jeuxvideo.com/jeux/playstation-2-ps...   \n",
       "2  http://www.jeuxvideo.com/jeux/playstation-2-ps...   \n",
       "3  http://www.jeuxvideo.com/jeux/playstation-2-ps...   \n",
       "4  http://www.jeuxvideo.com/jeux/playstation-2-ps...   \n",
       "\n",
       "                                         description  \n",
       "0  Au contraire d’autres titres, None ,''.hack'' ...  \n",
       "1   Avec plus de 20 œuvres de fiction sur de mult...  \n",
       "2   S'appuyant sur la maxime « Mieux vaut tard qu...  \n",
       "3   Voici enfin le second volet de la quadrilogie...  \n",
       "4   Comme la maxime «Jamais deux sans trois» ne c...  "
      ]
     },
     "execution_count": 26,
     "metadata": {},
     "output_type": "execute_result"
    }
   ],
   "source": [
    "df.head()"
   ]
  },
  {
   "cell_type": "code",
   "execution_count": 27,
   "metadata": {},
   "outputs": [],
   "source": [
    "confusion_matrix = pd.crosstab(df.type, df.classification)"
   ]
  },
  {
   "cell_type": "code",
   "execution_count": 28,
   "metadata": {},
   "outputs": [
    {
     "data": {
      "text/html": [
       "<div>\n",
       "<style scoped>\n",
       "    .dataframe tbody tr th:only-of-type {\n",
       "        vertical-align: middle;\n",
       "    }\n",
       "\n",
       "    .dataframe tbody tr th {\n",
       "        vertical-align: top;\n",
       "    }\n",
       "\n",
       "    .dataframe thead th {\n",
       "        text-align: right;\n",
       "    }\n",
       "</style>\n",
       "<table border=\"1\" class=\"dataframe\">\n",
       "  <thead>\n",
       "    <tr style=\"text-align: right;\">\n",
       "      <th>classification</th>\n",
       "      <th>+12 ans</th>\n",
       "      <th>+16 ans</th>\n",
       "      <th>+17 ans</th>\n",
       "      <th>+18 ans</th>\n",
       "      <th>+3 ans</th>\n",
       "      <th>+4 ans</th>\n",
       "      <th>+7 ans</th>\n",
       "      <th>+9 ans</th>\n",
       "      <th>Unknown</th>\n",
       "    </tr>\n",
       "    <tr>\n",
       "      <th>type</th>\n",
       "      <th></th>\n",
       "      <th></th>\n",
       "      <th></th>\n",
       "      <th></th>\n",
       "      <th></th>\n",
       "      <th></th>\n",
       "      <th></th>\n",
       "      <th></th>\n",
       "      <th></th>\n",
       "    </tr>\n",
       "  </thead>\n",
       "  <tbody>\n",
       "    <tr>\n",
       "      <th>4X</th>\n",
       "      <td>1</td>\n",
       "      <td>0</td>\n",
       "      <td>0</td>\n",
       "      <td>0</td>\n",
       "      <td>0</td>\n",
       "      <td>0</td>\n",
       "      <td>1</td>\n",
       "      <td>0</td>\n",
       "      <td>1</td>\n",
       "    </tr>\n",
       "    <tr>\n",
       "      <th>Action</th>\n",
       "      <td>306</td>\n",
       "      <td>209</td>\n",
       "      <td>2</td>\n",
       "      <td>191</td>\n",
       "      <td>193</td>\n",
       "      <td>3</td>\n",
       "      <td>108</td>\n",
       "      <td>5</td>\n",
       "      <td>158</td>\n",
       "    </tr>\n",
       "    <tr>\n",
       "      <th>Action Action RPG</th>\n",
       "      <td>0</td>\n",
       "      <td>0</td>\n",
       "      <td>0</td>\n",
       "      <td>0</td>\n",
       "      <td>0</td>\n",
       "      <td>0</td>\n",
       "      <td>0</td>\n",
       "      <td>0</td>\n",
       "      <td>2</td>\n",
       "    </tr>\n",
       "    <tr>\n",
       "      <th>Action Action RPG Dungeon RPG</th>\n",
       "      <td>0</td>\n",
       "      <td>0</td>\n",
       "      <td>0</td>\n",
       "      <td>0</td>\n",
       "      <td>0</td>\n",
       "      <td>0</td>\n",
       "      <td>0</td>\n",
       "      <td>0</td>\n",
       "      <td>1</td>\n",
       "    </tr>\n",
       "    <tr>\n",
       "      <th>Action Adresse</th>\n",
       "      <td>2</td>\n",
       "      <td>0</td>\n",
       "      <td>0</td>\n",
       "      <td>0</td>\n",
       "      <td>2</td>\n",
       "      <td>1</td>\n",
       "      <td>0</td>\n",
       "      <td>0</td>\n",
       "      <td>3</td>\n",
       "    </tr>\n",
       "    <tr>\n",
       "      <th>...</th>\n",
       "      <td>...</td>\n",
       "      <td>...</td>\n",
       "      <td>...</td>\n",
       "      <td>...</td>\n",
       "      <td>...</td>\n",
       "      <td>...</td>\n",
       "      <td>...</td>\n",
       "      <td>...</td>\n",
       "      <td>...</td>\n",
       "    </tr>\n",
       "    <tr>\n",
       "      <th>Visual Novel RPG</th>\n",
       "      <td>0</td>\n",
       "      <td>0</td>\n",
       "      <td>0</td>\n",
       "      <td>0</td>\n",
       "      <td>0</td>\n",
       "      <td>0</td>\n",
       "      <td>0</td>\n",
       "      <td>0</td>\n",
       "      <td>1</td>\n",
       "    </tr>\n",
       "    <tr>\n",
       "      <th>Visual Novel Rythme</th>\n",
       "      <td>0</td>\n",
       "      <td>0</td>\n",
       "      <td>0</td>\n",
       "      <td>0</td>\n",
       "      <td>0</td>\n",
       "      <td>1</td>\n",
       "      <td>0</td>\n",
       "      <td>0</td>\n",
       "      <td>0</td>\n",
       "    </tr>\n",
       "    <tr>\n",
       "      <th>Wargame</th>\n",
       "      <td>6</td>\n",
       "      <td>0</td>\n",
       "      <td>0</td>\n",
       "      <td>0</td>\n",
       "      <td>9</td>\n",
       "      <td>0</td>\n",
       "      <td>2</td>\n",
       "      <td>0</td>\n",
       "      <td>9</td>\n",
       "    </tr>\n",
       "    <tr>\n",
       "      <th>Wargame Jeu de société</th>\n",
       "      <td>0</td>\n",
       "      <td>0</td>\n",
       "      <td>0</td>\n",
       "      <td>0</td>\n",
       "      <td>0</td>\n",
       "      <td>0</td>\n",
       "      <td>1</td>\n",
       "      <td>0</td>\n",
       "      <td>0</td>\n",
       "    </tr>\n",
       "    <tr>\n",
       "      <th>Wargame Simulation</th>\n",
       "      <td>0</td>\n",
       "      <td>0</td>\n",
       "      <td>0</td>\n",
       "      <td>0</td>\n",
       "      <td>0</td>\n",
       "      <td>0</td>\n",
       "      <td>1</td>\n",
       "      <td>0</td>\n",
       "      <td>0</td>\n",
       "    </tr>\n",
       "  </tbody>\n",
       "</table>\n",
       "<p>723 rows × 9 columns</p>\n",
       "</div>"
      ],
      "text/plain": [
       "classification                 +12 ans  +16 ans  +17 ans  +18 ans  +3 ans  \\\n",
       "type                                                                        \n",
       "4X                                   1        0        0        0       0   \n",
       "Action                             306      209        2      191     193   \n",
       "Action Action RPG                    0        0        0        0       0   \n",
       "Action Action RPG Dungeon RPG        0        0        0        0       0   \n",
       "Action Adresse                       2        0        0        0       2   \n",
       "...                                ...      ...      ...      ...     ...   \n",
       "Visual Novel RPG                     0        0        0        0       0   \n",
       "Visual Novel Rythme                  0        0        0        0       0   \n",
       "Wargame                              6        0        0        0       9   \n",
       "Wargame Jeu de société               0        0        0        0       0   \n",
       "Wargame Simulation                   0        0        0        0       0   \n",
       "\n",
       "classification                 +4 ans  +7 ans  +9 ans  Unknown  \n",
       "type                                                            \n",
       "4X                                  0       1       0        1  \n",
       "Action                              3     108       5      158  \n",
       "Action Action RPG                   0       0       0        2  \n",
       "Action Action RPG Dungeon RPG       0       0       0        1  \n",
       "Action Adresse                      1       0       0        3  \n",
       "...                               ...     ...     ...      ...  \n",
       "Visual Novel RPG                    0       0       0        1  \n",
       "Visual Novel Rythme                 1       0       0        0  \n",
       "Wargame                             0       2       0        9  \n",
       "Wargame Jeu de société              0       1       0        0  \n",
       "Wargame Simulation                  0       1       0        0  \n",
       "\n",
       "[723 rows x 9 columns]"
      ]
     },
     "execution_count": 28,
     "metadata": {},
     "output_type": "execute_result"
    }
   ],
   "source": [
    "confusion_matrix"
   ]
  },
  {
   "cell_type": "code",
   "execution_count": 40,
   "metadata": {},
   "outputs": [
    {
     "data": {
      "text/plain": [
       "0.18305399966174624"
      ]
     },
     "execution_count": 40,
     "metadata": {},
     "output_type": "execute_result"
    }
   ],
   "source": [
    "cramers_V(df.type, df.classification)"
   ]
  },
  {
   "cell_type": "code",
   "execution_count": null,
   "metadata": {},
   "outputs": [],
   "source": []
  }
 ],
 "metadata": {
  "kernelspec": {
   "display_name": "Python 3",
   "language": "python",
   "name": "python3"
  },
  "language_info": {
   "codemirror_mode": {
    "name": "ipython",
    "version": 3
   },
   "file_extension": ".py",
   "mimetype": "text/x-python",
   "name": "python",
   "nbconvert_exporter": "python",
   "pygments_lexer": "ipython3",
   "version": "3.7.5"
  }
 },
 "nbformat": 4,
 "nbformat_minor": 4
}
